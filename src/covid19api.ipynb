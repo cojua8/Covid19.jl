{
 "cells": [
  {
   "cell_type": "code",
   "execution_count": 1,
   "metadata": {},
   "outputs": [
    {
     "data": {
      "text/html": [
       "<script>\n",
       "// Immediately-invoked-function-expression to avoid global variables.\n",
       "(function() {\n",
       "    var warning_div = document.getElementById(\"webio-warning-14252056128444742784\");\n",
       "    var hide = function () {\n",
       "        var script = document.getElementById(\"webio-setup-11791555263497034529\");\n",
       "        var parent = script && script.parentElement;\n",
       "        var grandparent = parent && parent.parentElement;\n",
       "        if (grandparent) {\n",
       "            grandparent.style.display = \"none\";\n",
       "        }\n",
       "        warning_div.style.display = \"none\";\n",
       "    };\n",
       "    if (typeof Jupyter !== \"undefined\") {\n",
       "        console.log(\"WebIO detected Jupyter notebook environment.\");\n",
       "        // Jupyter notebook.\n",
       "        var extensions = (\n",
       "            Jupyter\n",
       "            && Jupyter.notebook.config.data\n",
       "            && Jupyter.notebook.config.data.load_extensions\n",
       "        );\n",
       "        if (extensions && extensions[\"webio-jupyter-notebook\"]) {\n",
       "            // Extension already loaded.\n",
       "            console.log(\"Jupyter WebIO nbextension detected; not loading ad-hoc.\");\n",
       "            hide();\n",
       "            return;\n",
       "        }\n",
       "    } else if (window.location.pathname.includes(\"/lab\")) {\n",
       "        // Guessing JupyterLa\n",
       "        console.log(\"Jupyter Lab detected; make sure the @webio/jupyter-lab-provider labextension is installed.\");\n",
       "        hide();\n",
       "        return;\n",
       "    }\n",
       "})();\n",
       "\n",
       "</script>\n",
       "<p\n",
       "    id=\"webio-warning-14252056128444742784\"\n",
       "    class=\"output_text output_stderr\"\n",
       "    style=\"padding: 1em; font-weight: bold;\"\n",
       ">\n",
       "    Unable to load WebIO. Please make sure WebIO works for your Jupyter client.\n",
       "    For troubleshooting, please see <a href=\"https://juliagizmos.github.io/WebIO.jl/latest/providers/ijulia/\">\n",
       "    the WebIO/IJulia documentation</a>.\n",
       "    <!-- TODO: link to installation docs. -->\n",
       "</p>\n"
      ],
      "text/plain": [
       "HTML{String}(\"<script>\\n// Immediately-invoked-function-expression to avoid global variables.\\n(function() {\\n    var warning_div = document.getElementById(\\\"webio-warning-14252056128444742784\\\");\\n    var hide = function () {\\n        var script = document.getElementById(\\\"webio-setup-11791555263497034529\\\");\\n        var parent = script && script.parentElement;\\n        var grandparent = parent && parent.parentElement;\\n        if (grandparent) {\\n            grandparent.style.display = \\\"none\\\";\\n        }\\n        warning_div.style.display = \\\"none\\\";\\n    };\\n    if (typeof Jupyter !== \\\"undefined\\\") {\\n        console.log(\\\"WebIO detected Jupyter notebook environment.\\\");\\n        // Jupyter notebook.\\n        var extensions = (\\n            Jupyter\\n            && Jupyter.notebook.config.data\\n            && Jupyter.notebook.config.data.load_extensions\\n        );\\n        if (extensions && extensions[\\\"webio-jupyter-notebook\\\"]) {\\n            // Extension already loaded.\\n            console.log(\\\"Jupyter WebIO nbextension detected; not loading ad-hoc.\\\");\\n            hide();\\n            return;\\n        }\\n    } else if (window.location.pathname.includes(\\\"/lab\\\")) {\\n        // Guessing JupyterLa\\n        console.log(\\\"Jupyter Lab detected; make sure the @webio/jupyter-lab-provider labextension is installed.\\\");\\n        hide();\\n        return;\\n    }\\n})();\\n\\n</script>\\n<p\\n    id=\\\"webio-warning-14252056128444742784\\\"\\n    class=\\\"output_text output_stderr\\\"\\n    style=\\\"padding: 1em; font-weight: bold;\\\"\\n>\\n    Unable to load WebIO. Please make sure WebIO works for your Jupyter client.\\n    For troubleshooting, please see <a href=\\\"https://juliagizmos.github.io/WebIO.jl/latest/providers/ijulia/\\\">\\n    the WebIO/IJulia documentation</a>.\\n    <!-- TODO: link to installation docs. -->\\n</p>\\n\")"
      ]
     },
     "metadata": {},
     "output_type": "display_data"
    }
   ],
   "source": [
    "include(\"covid19api.jl\");\n",
    "using Interact;\n",
    "using Plots;"
   ]
  },
  {
   "cell_type": "code",
   "execution_count": 2,
   "metadata": {},
   "outputs": [],
   "source": [
    "slugs = sort(paisesSlugs());"
   ]
  },
  {
   "cell_type": "code",
   "execution_count": 3,
   "metadata": {},
   "outputs": [
    {
     "data": {
      "application/vnd.webio.node+json": {
       "children": [
        {
         "children": [
          {
           "children": [
            {
             "children": [
              {
               "children": [
                {
                 "children": [],
                 "instanceArgs": {
                  "namespace": "html",
                  "tag": "input"
                 },
                 "nodeType": "DOM",
                 "props": {
                  "attributes": {
                   "data-bind": "checked : $root.index, checkedValue: val, attr : {id : id}",
                   "name": "##403",
                   "type": "checkbox"
                  },
                  "className": "is-checkradio "
                 },
                 "type": "node"
                },
                {
                 "children": [],
                 "instanceArgs": {
                  "namespace": "html",
                  "tag": "label"
                 },
                 "nodeType": "DOM",
                 "props": {
                  "attributes": {
                   "data-bind": "text : key, attr : {for : id}"
                  }
                 },
                 "type": "node"
                }
               ],
               "instanceArgs": {
                "namespace": "html",
                "tag": "div"
               },
               "nodeType": "DOM",
               "props": {
                "className": "field"
               },
               "type": "node"
              }
             ],
             "instanceArgs": {
              "namespace": "html",
              "tag": "div"
             },
             "nodeType": "DOM",
             "props": {
              "attributes": {
               "data-bind": "foreach : options_js"
              },
              "className": "field"
             },
             "type": "node"
            }
           ],
           "instanceArgs": {
            "handlers": {
             "index": [
              "(function (val){return (val!=this.model[\"index\"]()) ? (this.valueFromJulia[\"index\"]=true, this.model[\"index\"](val)) : undefined})"
             ],
             "options_js": [
              "(function (val){return (val!=this.model[\"options_js\"]()) ? (this.valueFromJulia[\"options_js\"]=true, this.model[\"options_js\"](val)) : undefined})"
             ]
            },
            "id": "192369440507733570",
            "imports": {
             "data": [
              {
               "name": "knockout",
               "type": "js",
               "url": "/assetserver/938acb354ca4815fdbf66c3905eb221d0c578a85-knockout.js"
              },
              {
               "name": "knockout_punches",
               "type": "js",
               "url": "/assetserver/bb26f5035fc3d7a1bf0d38a7937f5dc87587e934-knockout_punches.js"
              },
              {
               "name": null,
               "type": "js",
               "url": "/assetserver/477af2faa28a6794de0f5ae5f9022d76de8f6d7c-all.js"
              },
              {
               "name": null,
               "type": "css",
               "url": "/assetserver/24cc7f7a0c028423a4dbc3bb7477d852515f6482-style.css"
              },
              {
               "name": null,
               "type": "css",
               "url": "/assetserver/7142905866658f89d3f4ad1638cd64a7c4495296-bulma_confined.min.css"
              }
             ],
             "type": "async_block"
            },
            "mount_callbacks": [
             "function () {\n    var handler = (function (ko, koPunches) {\n    ko.punches.enableAll();\n    ko.bindingHandlers.numericValue = {\n        init: function(element, valueAccessor, allBindings, data, context) {\n            var stringified = ko.observable(ko.unwrap(valueAccessor()));\n            stringified.subscribe(function(value) {\n                var val = parseFloat(value);\n                if (!isNaN(val)) {\n                    valueAccessor()(val);\n                }\n            });\n            valueAccessor().subscribe(function(value) {\n                var str = JSON.stringify(value);\n                if ((str == \"0\") && ([\"-0\", \"-0.\"].indexOf(stringified()) >= 0))\n                     return;\n                 if ([\"null\", \"\"].indexOf(str) >= 0)\n                     return;\n                stringified(str);\n            });\n            ko.applyBindingsToNode(\n                element,\n                {\n                    value: stringified,\n                    valueUpdate: allBindings.get('valueUpdate'),\n                },\n                context,\n            );\n        }\n    };\n    var json_data = {\"options_js\":WebIO.getval({\"name\":\"options_js\",\"scope\":\"192369440507733570\",\"id\":\"ob_05\",\"type\":\"observable\"}),\"index\":WebIO.getval({\"name\":\"index\",\"scope\":\"192369440507733570\",\"id\":\"ob_04\",\"type\":\"observable\"})};\n    var self = this;\n    function AppViewModel() {\n        for (var key in json_data) {\n            var el = json_data[key];\n            this[key] = Array.isArray(el) ? ko.observableArray(el) : ko.observable(el);\n        }\n        \n        \n        [this[\"options_js\"].subscribe((function (val){!(this.valueFromJulia[\"options_js\"]) ? (WebIO.setval({\"name\":\"options_js\",\"scope\":\"192369440507733570\",\"id\":\"ob_05\",\"type\":\"observable\"},val)) : undefined; return this.valueFromJulia[\"options_js\"]=false}),self),this[\"index\"].subscribe((function (val){!(this.valueFromJulia[\"index\"]) ? (WebIO.setval({\"name\":\"index\",\"scope\":\"192369440507733570\",\"id\":\"ob_04\",\"type\":\"observable\"},val)) : undefined; return this.valueFromJulia[\"index\"]=false}),self)]\n        \n    }\n    self.model = new AppViewModel();\n    self.valueFromJulia = {};\n    for (var key in json_data) {\n        self.valueFromJulia[key] = false;\n    }\n    ko.applyBindings(self.model, self.dom);\n}\n);\n    (WebIO.importBlock({\"data\":[{\"name\":\"knockout\",\"type\":\"js\",\"url\":\"/assetserver/938acb354ca4815fdbf66c3905eb221d0c578a85-knockout.js\"},{\"name\":\"knockout_punches\",\"type\":\"js\",\"url\":\"/assetserver/bb26f5035fc3d7a1bf0d38a7937f5dc87587e934-knockout_punches.js\"}],\"type\":\"async_block\"})).then((imports) => handler.apply(this, imports));\n}\n"
            ],
            "observables": {
             "index": {
              "id": "ob_04",
              "sync": true,
              "value": []
             },
             "options_js": {
              "id": "ob_05",
              "sync": false,
              "value": [
               {
                "id": "idYJGgxlzV",
                "key": "ALA Aland Islands",
                "val": 1
               },
               {
                "id": "idsRWMbryR",
                "key": "Afghanistan",
                "val": 2
               },
               {
                "id": "idmH3g8aXn",
                "key": "Albania",
                "val": 3
               },
               {
                "id": "idx1X3Hr6M",
                "key": "Algeria",
                "val": 4
               },
               {
                "id": "idXI7kGNZM",
                "key": "American Samoa",
                "val": 5
               },
               {
                "id": "idswlyvTEr",
                "key": "Andorra",
                "val": 6
               },
               {
                "id": "id0Z4xC3MK",
                "key": "Angola",
                "val": 7
               },
               {
                "id": "idEyyztsOq",
                "key": "Anguilla",
                "val": 8
               },
               {
                "id": "id9Jw2US0y",
                "key": "Antarctica",
                "val": 9
               },
               {
                "id": "idGOAWixwy",
                "key": "Antigua and Barbuda",
                "val": 10
               },
               {
                "id": "idgbezroBd",
                "key": "Argentina",
                "val": 11
               },
               {
                "id": "idydQCKpUV",
                "key": "Armenia",
                "val": 12
               },
               {
                "id": "id40uV4rU8",
                "key": "Aruba",
                "val": 13
               },
               {
                "id": "idth57tEhL",
                "key": "Australia",
                "val": 14
               },
               {
                "id": "idOd1xc54N",
                "key": "Austria",
                "val": 15
               },
               {
                "id": "id70rif0RO",
                "key": "Azerbaijan",
                "val": 16
               },
               {
                "id": "idwWfxS9s3",
                "key": "Bahamas",
                "val": 17
               },
               {
                "id": "idLJpyWMfB",
                "key": "Bahrain",
                "val": 18
               },
               {
                "id": "idE1Hj5AdD",
                "key": "Bangladesh",
                "val": 19
               },
               {
                "id": "idphQsPORj",
                "key": "Barbados",
                "val": 20
               },
               {
                "id": "id8mdtWlYd",
                "key": "Belarus",
                "val": 21
               },
               {
                "id": "id1zJQPtWC",
                "key": "Belgium",
                "val": 22
               },
               {
                "id": "idGh1TvQFJ",
                "key": "Belize",
                "val": 23
               },
               {
                "id": "idKwfE8oFI",
                "key": "Benin",
                "val": 24
               },
               {
                "id": "idBObjg6yP",
                "key": "Bermuda",
                "val": 25
               },
               {
                "id": "id6ObzXXYP",
                "key": "Bhutan",
                "val": 26
               },
               {
                "id": "idr4u9xu3g",
                "key": "Bolivia",
                "val": 27
               },
               {
                "id": "idZy9Nm5xY",
                "key": "Bosnia and Herzegovina",
                "val": 28
               },
               {
                "id": "idZJ0yTtju",
                "key": "Botswana",
                "val": 29
               },
               {
                "id": "idF5IV6l6m",
                "key": "Bouvet Island",
                "val": 30
               },
               {
                "id": "idtI8ZcNE1",
                "key": "Brazil",
                "val": 31
               },
               {
                "id": "idrXdpcAVe",
                "key": "British Indian Ocean Territory",
                "val": 32
               },
               {
                "id": "idX1pn501A",
                "key": "British Virgin Islands",
                "val": 33
               },
               {
                "id": "idFOoDfLMK",
                "key": "Brunei Darussalam",
                "val": 34
               },
               {
                "id": "idPBBcNXnO",
                "key": "Bulgaria",
                "val": 35
               },
               {
                "id": "id4uxaqOOd",
                "key": "Burkina Faso",
                "val": 36
               },
               {
                "id": "idTyggwtFT",
                "key": "Burundi",
                "val": 37
               },
               {
                "id": "id7E58fFN1",
                "key": "Cambodia",
                "val": 38
               },
               {
                "id": "idB8Mi1SrJ",
                "key": "Cameroon",
                "val": 39
               },
               {
                "id": "id42EaDamn",
                "key": "Canada",
                "val": 40
               },
               {
                "id": "id99lMVnFt",
                "key": "Cape Verde",
                "val": 41
               },
               {
                "id": "idspmRxOji",
                "key": "Cayman Islands",
                "val": 42
               },
               {
                "id": "idjyIdQ0hK",
                "key": "Central African Republic",
                "val": 43
               },
               {
                "id": "idHLusel8m",
                "key": "Chad",
                "val": 44
               },
               {
                "id": "idcLcPi5AI",
                "key": "Chile",
                "val": 45
               },
               {
                "id": "idVFxsEuUM",
                "key": "China",
                "val": 46
               },
               {
                "id": "idIRRbXngO",
                "key": "Christmas Island",
                "val": 47
               },
               {
                "id": "idipsXw6Ff",
                "key": "Cocos (Keeling) Islands",
                "val": 48
               },
               {
                "id": "idSKgwoRPf",
                "key": "Colombia",
                "val": 49
               },
               {
                "id": "id2hPZRSzY",
                "key": "Comoros",
                "val": 50
               },
               {
                "id": "idR78GpIsi",
                "key": "Congo (Brazzaville)",
                "val": 51
               },
               {
                "id": "idvXyFuAvG",
                "key": "Congo (Kinshasa)",
                "val": 52
               },
               {
                "id": "idssIXFaKE",
                "key": "Cook Islands",
                "val": 53
               },
               {
                "id": "idRHGwkSFN",
                "key": "Costa Rica",
                "val": 54
               },
               {
                "id": "idUIugDpvI",
                "key": "Croatia",
                "val": 55
               },
               {
                "id": "id8HH2nuGj",
                "key": "Cuba",
                "val": 56
               },
               {
                "id": "idmS92PD1C",
                "key": "Cyprus",
                "val": 57
               },
               {
                "id": "id7E78IDe1",
                "key": "Czech Republic",
                "val": 58
               },
               {
                "id": "idVQ3A6Zyu",
                "key": "Côte d'Ivoire",
                "val": 59
               },
               {
                "id": "idxMYtWRzF",
                "key": "Denmark",
                "val": 60
               },
               {
                "id": "idGNoMiGTX",
                "key": "Djibouti",
                "val": 61
               },
               {
                "id": "idWF2YfE5C",
                "key": "Dominica",
                "val": 62
               },
               {
                "id": "idmiRksTmC",
                "key": "Dominican Republic",
                "val": 63
               },
               {
                "id": "idUf1PH1GA",
                "key": "Ecuador",
                "val": 64
               },
               {
                "id": "idiLfkDX6i",
                "key": "Egypt",
                "val": 65
               },
               {
                "id": "idxD47yWiW",
                "key": "El Salvador",
                "val": 66
               },
               {
                "id": "idrd2Jkghk",
                "key": "Equatorial Guinea",
                "val": 67
               },
               {
                "id": "idgxaaWHme",
                "key": "Eritrea",
                "val": 68
               },
               {
                "id": "ida9JlUPz0",
                "key": "Estonia",
                "val": 69
               },
               {
                "id": "idp64i6rHN",
                "key": "Ethiopia",
                "val": 70
               },
               {
                "id": "id7sP8ps2A",
                "key": "Falkland Islands (Malvinas)",
                "val": 71
               },
               {
                "id": "idUrn4Jcnr",
                "key": "Faroe Islands",
                "val": 72
               },
               {
                "id": "idyf62NL55",
                "key": "Fiji",
                "val": 73
               },
               {
                "id": "idjKP7s9Ug",
                "key": "Finland",
                "val": 74
               },
               {
                "id": "idPHlGTpn8",
                "key": "France",
                "val": 75
               },
               {
                "id": "idwpBfAADA",
                "key": "French Guiana",
                "val": 76
               },
               {
                "id": "idiRSd3vKm",
                "key": "French Polynesia",
                "val": 77
               },
               {
                "id": "idCTLNk8XR",
                "key": "French Southern Territories",
                "val": 78
               },
               {
                "id": "idkRzyU3v0",
                "key": "Gabon",
                "val": 79
               },
               {
                "id": "idvaRSMjkC",
                "key": "Gambia",
                "val": 80
               },
               {
                "id": "idnPmV0Aqj",
                "key": "Georgia",
                "val": 81
               },
               {
                "id": "idhoZzubWu",
                "key": "Germany",
                "val": 82
               },
               {
                "id": "idwtFtLiOS",
                "key": "Ghana",
                "val": 83
               },
               {
                "id": "idRafa5C4p",
                "key": "Gibraltar",
                "val": 84
               },
               {
                "id": "idb4ZZYxa0",
                "key": "Greece",
                "val": 85
               },
               {
                "id": "idIyhBZIbY",
                "key": "Greenland",
                "val": 86
               },
               {
                "id": "idw1CuMU6J",
                "key": "Grenada",
                "val": 87
               },
               {
                "id": "id5Quhtkc9",
                "key": "Guadeloupe",
                "val": 88
               },
               {
                "id": "idtw70dhB1",
                "key": "Guam",
                "val": 89
               },
               {
                "id": "idqbLKkwXe",
                "key": "Guatemala",
                "val": 90
               },
               {
                "id": "idZUtXBCWZ",
                "key": "Guernsey",
                "val": 91
               },
               {
                "id": "iden2TK52j",
                "key": "Guinea",
                "val": 92
               },
               {
                "id": "idlqanisis",
                "key": "Guinea-Bissau",
                "val": 93
               },
               {
                "id": "idAsx6m5ju",
                "key": "Guyana",
                "val": 94
               },
               {
                "id": "idqW1MKnzV",
                "key": "Haiti",
                "val": 95
               },
               {
                "id": "id0O5spB9u",
                "key": "Heard and Mcdonald Islands",
                "val": 96
               },
               {
                "id": "idxt5IUOHD",
                "key": "Holy See (Vatican City State)",
                "val": 97
               },
               {
                "id": "id0j8wvm8x",
                "key": "Honduras",
                "val": 98
               },
               {
                "id": "idXM4l8cQt",
                "key": "Hong Kong, SAR China",
                "val": 99
               },
               {
                "id": "idj8CLzSzR",
                "key": "Hungary",
                "val": 100
               },
               {
                "id": "idUQLAtT2v",
                "key": "Iceland",
                "val": 101
               },
               {
                "id": "idVxmosdXT",
                "key": "India",
                "val": 102
               },
               {
                "id": "id5HmCcq6T",
                "key": "Indonesia",
                "val": 103
               },
               {
                "id": "idzgUqMb4l",
                "key": "Iran, Islamic Republic of",
                "val": 104
               },
               {
                "id": "idTMzJObwf",
                "key": "Iraq",
                "val": 105
               },
               {
                "id": "idXMLDdPC7",
                "key": "Ireland",
                "val": 106
               },
               {
                "id": "id8x5urVrA",
                "key": "Isle of Man",
                "val": 107
               },
               {
                "id": "idkQYZPe7M",
                "key": "Israel",
                "val": 108
               },
               {
                "id": "iddKMANEHC",
                "key": "Italy",
                "val": 109
               },
               {
                "id": "idtz6nHT4V",
                "key": "Jamaica",
                "val": 110
               },
               {
                "id": "iduPRqEGs3",
                "key": "Japan",
                "val": 111
               },
               {
                "id": "idbWdybjvq",
                "key": "Jersey",
                "val": 112
               },
               {
                "id": "idfyBiVwBH",
                "key": "Jordan",
                "val": 113
               },
               {
                "id": "idDiaYafgz",
                "key": "Kazakhstan",
                "val": 114
               },
               {
                "id": "idrb23EPDC",
                "key": "Kenya",
                "val": 115
               },
               {
                "id": "idgnKE3jBJ",
                "key": "Kiribati",
                "val": 116
               },
               {
                "id": "idkKUmtmab",
                "key": "Korea (North)",
                "val": 117
               },
               {
                "id": "idcML1RGmT",
                "key": "Korea (South)",
                "val": 118
               },
               {
                "id": "idD9pZxQwu",
                "key": "Kuwait",
                "val": 119
               },
               {
                "id": "idAAHo2VwW",
                "key": "Kyrgyzstan",
                "val": 120
               },
               {
                "id": "id3bUHeQrW",
                "key": "Lao PDR",
                "val": 121
               },
               {
                "id": "idJLNTpEcn",
                "key": "Latvia",
                "val": 122
               },
               {
                "id": "idmGWIFUzG",
                "key": "Lebanon",
                "val": 123
               },
               {
                "id": "idGdpAr2x2",
                "key": "Lesotho",
                "val": 124
               },
               {
                "id": "idDdC2q37w",
                "key": "Liberia",
                "val": 125
               },
               {
                "id": "idaSN7AYRy",
                "key": "Libya",
                "val": 126
               },
               {
                "id": "idwWSqz4nN",
                "key": "Liechtenstein",
                "val": 127
               },
               {
                "id": "idQlGuWOxq",
                "key": "Lithuania",
                "val": 128
               },
               {
                "id": "idCCW0jyPU",
                "key": "Luxembourg",
                "val": 129
               },
               {
                "id": "idf2FhVIWu",
                "key": "Macao, SAR China",
                "val": 130
               },
               {
                "id": "idMkZTiYI7",
                "key": "Macedonia, Republic of",
                "val": 131
               },
               {
                "id": "idI4HODKne",
                "key": "Madagascar",
                "val": 132
               },
               {
                "id": "idkQjLBQZc",
                "key": "Malawi",
                "val": 133
               },
               {
                "id": "idlJFJzXzC",
                "key": "Malaysia",
                "val": 134
               },
               {
                "id": "id0MIBnZXe",
                "key": "Maldives",
                "val": 135
               },
               {
                "id": "id4HvD0eN8",
                "key": "Mali",
                "val": 136
               },
               {
                "id": "idkcBkJiOU",
                "key": "Malta",
                "val": 137
               },
               {
                "id": "idiEJuunVL",
                "key": "Marshall Islands",
                "val": 138
               },
               {
                "id": "id0TP2erR0",
                "key": "Martinique",
                "val": 139
               },
               {
                "id": "idnqnzaz6v",
                "key": "Mauritania",
                "val": 140
               },
               {
                "id": "idp0WBrBE0",
                "key": "Mauritius",
                "val": 141
               },
               {
                "id": "ide6IjBmw5",
                "key": "Mayotte",
                "val": 142
               },
               {
                "id": "idZW2lnj8F",
                "key": "Mexico",
                "val": 143
               },
               {
                "id": "iduwdTIDqp",
                "key": "Micronesia, Federated States of",
                "val": 144
               },
               {
                "id": "idWNt7KS8q",
                "key": "Moldova",
                "val": 145
               },
               {
                "id": "idWArlFd2M",
                "key": "Monaco",
                "val": 146
               },
               {
                "id": "idaBtpdZzr",
                "key": "Mongolia",
                "val": 147
               },
               {
                "id": "idL7Zk62rU",
                "key": "Montenegro",
                "val": 148
               },
               {
                "id": "id4Cyaelzs",
                "key": "Montserrat",
                "val": 149
               },
               {
                "id": "idYN9iu7Rh",
                "key": "Morocco",
                "val": 150
               },
               {
                "id": "ideCd8Z3yW",
                "key": "Mozambique",
                "val": 151
               },
               {
                "id": "idkSQkFojQ",
                "key": "Myanmar",
                "val": 152
               },
               {
                "id": "idkoN3JOd2",
                "key": "Namibia",
                "val": 153
               },
               {
                "id": "idNpbTw2Cz",
                "key": "Nauru",
                "val": 154
               },
               {
                "id": "idEoqltYBW",
                "key": "Nepal",
                "val": 155
               },
               {
                "id": "idgx0ZowGW",
                "key": "Netherlands",
                "val": 156
               },
               {
                "id": "id1JrDAvqe",
                "key": "Netherlands Antilles",
                "val": 157
               },
               {
                "id": "idjN07cCKc",
                "key": "New Caledonia",
                "val": 158
               },
               {
                "id": "idddyzO8FJ",
                "key": "New Zealand",
                "val": 159
               },
               {
                "id": "idgM6YwyyZ",
                "key": "Nicaragua",
                "val": 160
               },
               {
                "id": "idD8XmI1Up",
                "key": "Niger",
                "val": 161
               },
               {
                "id": "idOX827hXv",
                "key": "Nigeria",
                "val": 162
               },
               {
                "id": "idkLNRh4h6",
                "key": "Niue",
                "val": 163
               },
               {
                "id": "idioM4oC2b",
                "key": "Norfolk Island",
                "val": 164
               },
               {
                "id": "idGVcQtDO0",
                "key": "Northern Mariana Islands",
                "val": 165
               },
               {
                "id": "idGl2CE6pf",
                "key": "Norway",
                "val": 166
               },
               {
                "id": "idZOyhJylI",
                "key": "Oman",
                "val": 167
               },
               {
                "id": "idhjBdE3YA",
                "key": "Pakistan",
                "val": 168
               },
               {
                "id": "id0JmEk1wT",
                "key": "Palau",
                "val": 169
               },
               {
                "id": "id8mglyq4c",
                "key": "Palestinian Territory",
                "val": 170
               },
               {
                "id": "idN2zxsTR0",
                "key": "Panama",
                "val": 171
               },
               {
                "id": "id0oInGNwu",
                "key": "Papua New Guinea",
                "val": 172
               },
               {
                "id": "idgGax6MYp",
                "key": "Paraguay",
                "val": 173
               },
               {
                "id": "idt9acehRV",
                "key": "Peru",
                "val": 174
               },
               {
                "id": "idHQTzWYhe",
                "key": "Philippines",
                "val": 175
               },
               {
                "id": "idWdRVuLxV",
                "key": "Pitcairn",
                "val": 176
               },
               {
                "id": "idFZVt6MPC",
                "key": "Poland",
                "val": 177
               },
               {
                "id": "idISuPyuaZ",
                "key": "Portugal",
                "val": 178
               },
               {
                "id": "idqC5TxORh",
                "key": "Puerto Rico",
                "val": 179
               },
               {
                "id": "idOcbRzsAa",
                "key": "Qatar",
                "val": 180
               },
               {
                "id": "id6gjByZOa",
                "key": "Republic of Kosovo",
                "val": 181
               },
               {
                "id": "idQ5vqZxnd",
                "key": "Romania",
                "val": 182
               },
               {
                "id": "idtQLRG0bo",
                "key": "Russian Federation",
                "val": 183
               },
               {
                "id": "idsY6UgDSK",
                "key": "Rwanda",
                "val": 184
               },
               {
                "id": "idwq1O4A3l",
                "key": "Réunion",
                "val": 185
               },
               {
                "id": "idprxq8sTM",
                "key": "Saint Helena",
                "val": 186
               },
               {
                "id": "idkiIvhCVD",
                "key": "Saint Kitts and Nevis",
                "val": 187
               },
               {
                "id": "idtmpmpeit",
                "key": "Saint Lucia",
                "val": 188
               },
               {
                "id": "id3PqjpWr8",
                "key": "Saint Pierre and Miquelon",
                "val": 189
               },
               {
                "id": "idsF81Ii8g",
                "key": "Saint Vincent and Grenadines",
                "val": 190
               },
               {
                "id": "idrJXz2HE6",
                "key": "Saint-Barthélemy",
                "val": 191
               },
               {
                "id": "idNqpfl1T9",
                "key": "Saint-Martin (French part)",
                "val": 192
               },
               {
                "id": "idWrOndMIG",
                "key": "Samoa",
                "val": 193
               },
               {
                "id": "idRBB3Yla7",
                "key": "San Marino",
                "val": 194
               },
               {
                "id": "idyFNvqnUi",
                "key": "Sao Tome and Principe",
                "val": 195
               },
               {
                "id": "idSGFzQ98K",
                "key": "Saudi Arabia",
                "val": 196
               },
               {
                "id": "idGzMZSNk8",
                "key": "Senegal",
                "val": 197
               },
               {
                "id": "id27vetg0n",
                "key": "Serbia",
                "val": 198
               },
               {
                "id": "idQG2pjBP1",
                "key": "Seychelles",
                "val": 199
               },
               {
                "id": "id1vOAMmgk",
                "key": "Sierra Leone",
                "val": 200
               },
               {
                "id": "idN6EakqQX",
                "key": "Singapore",
                "val": 201
               },
               {
                "id": "idEEzcYKFW",
                "key": "Slovakia",
                "val": 202
               },
               {
                "id": "idWI1xaeDh",
                "key": "Slovenia",
                "val": 203
               },
               {
                "id": "idJBMHuIik",
                "key": "Solomon Islands",
                "val": 204
               },
               {
                "id": "idq0Vdzl5Z",
                "key": "Somalia",
                "val": 205
               },
               {
                "id": "idyLSpOwfI",
                "key": "South Africa",
                "val": 206
               },
               {
                "id": "idz5NjhF9c",
                "key": "South Georgia and the South Sandwich Islands",
                "val": 207
               },
               {
                "id": "id6VyuNwdN",
                "key": "South Sudan",
                "val": 208
               },
               {
                "id": "id9qcPKsqv",
                "key": "Spain",
                "val": 209
               },
               {
                "id": "idQ2r2rl52",
                "key": "Sri Lanka",
                "val": 210
               },
               {
                "id": "idIXtPDBZ0",
                "key": "Sudan",
                "val": 211
               },
               {
                "id": "idscr0B60M",
                "key": "Suriname",
                "val": 212
               },
               {
                "id": "idsuJk45Hj",
                "key": "Svalbard and Jan Mayen Islands",
                "val": 213
               },
               {
                "id": "id9sBt6crS",
                "key": "Swaziland",
                "val": 214
               },
               {
                "id": "idhMQ0GOqy",
                "key": "Sweden",
                "val": 215
               },
               {
                "id": "idYD3tPIWH",
                "key": "Switzerland",
                "val": 216
               },
               {
                "id": "idraONBNqC",
                "key": "Syrian Arab Republic (Syria)",
                "val": 217
               },
               {
                "id": "idev4SS2NC",
                "key": "Taiwan, Republic of China",
                "val": 218
               },
               {
                "id": "idVyXEE7oA",
                "key": "Tajikistan",
                "val": 219
               },
               {
                "id": "idJMqfYiEZ",
                "key": "Tanzania, United Republic of",
                "val": 220
               },
               {
                "id": "id5bAiyim9",
                "key": "Thailand",
                "val": 221
               },
               {
                "id": "idSd8e0zH5",
                "key": "Timor-Leste",
                "val": 222
               },
               {
                "id": "idyF2AweBl",
                "key": "Togo",
                "val": 223
               },
               {
                "id": "iddwFSBpvs",
                "key": "Tokelau",
                "val": 224
               },
               {
                "id": "idMiqzDrp2",
                "key": "Tonga",
                "val": 225
               },
               {
                "id": "idzq2s0zQ8",
                "key": "Trinidad and Tobago",
                "val": 226
               },
               {
                "id": "idr3ZMzAaP",
                "key": "Tunisia",
                "val": 227
               },
               {
                "id": "idlwTw6Mov",
                "key": "Turkey",
                "val": 228
               },
               {
                "id": "idduxF5sLQ",
                "key": "Turkmenistan",
                "val": 229
               },
               {
                "id": "ido6GU7a4O",
                "key": "Turks and Caicos Islands",
                "val": 230
               },
               {
                "id": "idmOeuj9Sv",
                "key": "Tuvalu",
                "val": 231
               },
               {
                "id": "iddGWuhHWX",
                "key": "US Minor Outlying Islands",
                "val": 232
               },
               {
                "id": "idmaciDPuA",
                "key": "Uganda",
                "val": 233
               },
               {
                "id": "id24p0F1U6",
                "key": "Ukraine",
                "val": 234
               },
               {
                "id": "idyOGaKRLO",
                "key": "United Arab Emirates",
                "val": 235
               },
               {
                "id": "idJMaFcaZS",
                "key": "United Kingdom",
                "val": 236
               },
               {
                "id": "id0wwVNlIv",
                "key": "United States of America",
                "val": 237
               },
               {
                "id": "idxOQrvBd8",
                "key": "Uruguay",
                "val": 238
               },
               {
                "id": "id5gD41nVw",
                "key": "Uzbekistan",
                "val": 239
               },
               {
                "id": "idVkqvNsNE",
                "key": "Vanuatu",
                "val": 240
               },
               {
                "id": "idlsAqKqrm",
                "key": "Venezuela (Bolivarian Republic)",
                "val": 241
               },
               {
                "id": "idYlUEoHW9",
                "key": "Viet Nam",
                "val": 242
               },
               {
                "id": "id8qAqPV8O",
                "key": "Virgin Islands, US",
                "val": 243
               },
               {
                "id": "idqOldh0Xh",
                "key": "Wallis and Futuna Islands",
                "val": 244
               },
               {
                "id": "idNNtwRsBo",
                "key": "Western Sahara",
                "val": 245
               },
               {
                "id": "idScSjdPI0",
                "key": "Yemen",
                "val": 246
               },
               {
                "id": "id1mhYzgmR",
                "key": "Zambia",
                "val": 247
               },
               {
                "id": "idxu8dIzgH",
                "key": "Zimbabwe",
                "val": 248
               }
              ]
             }
            },
            "systemjs_options": null
           },
           "nodeType": "Scope",
           "props": {},
           "type": "node"
          }
         ],
         "instanceArgs": {
          "namespace": "html",
          "tag": "div"
         },
         "nodeType": "DOM",
         "props": {
          "className": "field interact-widget"
         },
         "type": "node"
        },
        {
         "children": [
          {
           "children": [],
           "instanceArgs": {
            "id": "ob_11",
            "name": "obs-node"
           },
           "nodeType": "ObservableNode",
           "props": {},
           "type": "node"
          }
         ],
         "instanceArgs": {
          "handlers": {},
          "id": "2976021341258067925",
          "imports": {
           "data": [],
           "type": "async_block"
          },
          "mount_callbacks": [],
          "observables": {
           "obs-node": {
            "id": "ob_11",
            "sync": false,
            "value": {
             "children": [
              {
               "children": [],
               "instanceArgs": {
                "namespace": "html",
                "tag": "div"
               },
               "nodeType": "DOM",
               "props": {
                "setInnerHtml": "<?xml version=\"1.0\" encoding=\"utf-8\"?>\n<svg xmlns=\"http://www.w3.org/2000/svg\" xmlns:xlink=\"http://www.w3.org/1999/xlink\" width=\"600\" height=\"400\" viewBox=\"0 0 2400 1600\">\n<defs>\n  <clipPath id=\"clip0100\">\n    <rect x=\"0\" y=\"0\" width=\"2400\" height=\"1600\"/>\n  </clipPath>\n</defs>\n<path clip-path=\"url(#clip0100)\" d=\"\nM0 1600 L2400 1600 L2400 0 L0 0  Z\n  \" fill=\"#ffffff\" fill-rule=\"evenodd\" fill-opacity=\"1\"/>\n<defs>\n  <clipPath id=\"clip0101\">\n    <rect x=\"480\" y=\"0\" width=\"1681\" height=\"1600\"/>\n  </clipPath>\n</defs>\n<path clip-path=\"url(#clip0100)\" d=\"\nM153.898 1487.47 L2352.76 1487.47 L2352.76 47.2441 L153.898 47.2441  Z\n  \" fill=\"#ffffff\" fill-rule=\"evenodd\" fill-opacity=\"1\"/>\n<defs>\n  <clipPath id=\"clip0102\">\n    <rect x=\"153\" y=\"47\" width=\"2200\" height=\"1441\"/>\n  </clipPath>\n</defs>\n<polyline clip-path=\"url(#clip0102)\" style=\"stroke:#000000; stroke-width:2; stroke-opacity:0.1; fill:none\" points=\"\n  153.898,1487.47 153.898,47.2441 \n  \"/>\n<polyline clip-path=\"url(#clip0102)\" style=\"stroke:#000000; stroke-width:2; stroke-opacity:0.1; fill:none\" points=\"\n  593.67,1487.47 593.67,47.2441 \n  \"/>\n<polyline clip-path=\"url(#clip0102)\" style=\"stroke:#000000; stroke-width:2; stroke-opacity:0.1; fill:none\" points=\"\n  1033.44,1487.47 1033.44,47.2441 \n  \"/>\n<polyline clip-path=\"url(#clip0102)\" style=\"stroke:#000000; stroke-width:2; stroke-opacity:0.1; fill:none\" points=\"\n  1473.21,1487.47 1473.21,47.2441 \n  \"/>\n<polyline clip-path=\"url(#clip0102)\" style=\"stroke:#000000; stroke-width:2; stroke-opacity:0.1; fill:none\" points=\"\n  1912.98,1487.47 1912.98,47.2441 \n  \"/>\n<polyline clip-path=\"url(#clip0102)\" style=\"stroke:#000000; stroke-width:2; stroke-opacity:0.1; fill:none\" points=\"\n  2352.76,1487.47 2352.76,47.2441 \n  \"/>\n<polyline clip-path=\"url(#clip0102)\" style=\"stroke:#000000; stroke-width:2; stroke-opacity:0.1; fill:none\" points=\"\n  153.898,1487.47 2352.76,1487.47 \n  \"/>\n<polyline clip-path=\"url(#clip0102)\" style=\"stroke:#000000; stroke-width:2; stroke-opacity:0.1; fill:none\" points=\"\n  153.898,1199.43 2352.76,1199.43 \n  \"/>\n<polyline clip-path=\"url(#clip0102)\" style=\"stroke:#000000; stroke-width:2; stroke-opacity:0.1; fill:none\" points=\"\n  153.898,911.382 2352.76,911.382 \n  \"/>\n<polyline clip-path=\"url(#clip0102)\" style=\"stroke:#000000; stroke-width:2; stroke-opacity:0.1; fill:none\" points=\"\n  153.898,623.336 2352.76,623.336 \n  \"/>\n<polyline clip-path=\"url(#clip0102)\" style=\"stroke:#000000; stroke-width:2; stroke-opacity:0.1; fill:none\" points=\"\n  153.898,335.29 2352.76,335.29 \n  \"/>\n<polyline clip-path=\"url(#clip0102)\" style=\"stroke:#000000; stroke-width:2; stroke-opacity:0.1; fill:none\" points=\"\n  153.898,47.2441 2352.76,47.2441 \n  \"/>\n<polyline clip-path=\"url(#clip0100)\" style=\"stroke:#000000; stroke-width:4; stroke-opacity:1; fill:none\" points=\"\n  153.898,1487.47 2352.76,1487.47 \n  \"/>\n<polyline clip-path=\"url(#clip0100)\" style=\"stroke:#000000; stroke-width:4; stroke-opacity:1; fill:none\" points=\"\n  153.898,1487.47 153.898,47.2441 \n  \"/>\n<polyline clip-path=\"url(#clip0100)\" style=\"stroke:#000000; stroke-width:4; stroke-opacity:1; fill:none\" points=\"\n  153.898,1487.47 153.898,1470.19 \n  \"/>\n<polyline clip-path=\"url(#clip0100)\" style=\"stroke:#000000; stroke-width:4; stroke-opacity:1; fill:none\" points=\"\n  593.67,1487.47 593.67,1470.19 \n  \"/>\n<polyline clip-path=\"url(#clip0100)\" style=\"stroke:#000000; stroke-width:4; stroke-opacity:1; fill:none\" points=\"\n  1033.44,1487.47 1033.44,1470.19 \n  \"/>\n<polyline clip-path=\"url(#clip0100)\" style=\"stroke:#000000; stroke-width:4; stroke-opacity:1; fill:none\" points=\"\n  1473.21,1487.47 1473.21,1470.19 \n  \"/>\n<polyline clip-path=\"url(#clip0100)\" style=\"stroke:#000000; stroke-width:4; stroke-opacity:1; fill:none\" points=\"\n  1912.98,1487.47 1912.98,1470.19 \n  \"/>\n<polyline clip-path=\"url(#clip0100)\" style=\"stroke:#000000; stroke-width:4; stroke-opacity:1; fill:none\" points=\"\n  2352.76,1487.47 2352.76,1470.19 \n  \"/>\n<polyline clip-path=\"url(#clip0100)\" style=\"stroke:#000000; stroke-width:4; stroke-opacity:1; fill:none\" points=\"\n  153.898,1487.47 180.284,1487.47 \n  \"/>\n<polyline clip-path=\"url(#clip0100)\" style=\"stroke:#000000; stroke-width:4; stroke-opacity:1; fill:none\" points=\"\n  153.898,1199.43 180.284,1199.43 \n  \"/>\n<polyline clip-path=\"url(#clip0100)\" style=\"stroke:#000000; stroke-width:4; stroke-opacity:1; fill:none\" points=\"\n  153.898,911.382 180.284,911.382 \n  \"/>\n<polyline clip-path=\"url(#clip0100)\" style=\"stroke:#000000; stroke-width:4; stroke-opacity:1; fill:none\" points=\"\n  153.898,623.336 180.284,623.336 \n  \"/>\n<polyline clip-path=\"url(#clip0100)\" style=\"stroke:#000000; stroke-width:4; stroke-opacity:1; fill:none\" points=\"\n  153.898,335.29 180.284,335.29 \n  \"/>\n<polyline clip-path=\"url(#clip0100)\" style=\"stroke:#000000; stroke-width:4; stroke-opacity:1; fill:none\" points=\"\n  153.898,47.2441 180.284,47.2441 \n  \"/>\n<g clip-path=\"url(#clip0100)\">\n<text style=\"fill:#000000; fill-opacity:1; font-family:Arial,Helvetica Neue,Helvetica,sans-serif; font-size:48px; text-anchor:middle;\" transform=\"rotate(0, 153.898, 1541.47)\" x=\"153.898\" y=\"1541.47\">0.0</text>\n</g>\n<g clip-path=\"url(#clip0100)\">\n<text style=\"fill:#000000; fill-opacity:1; font-family:Arial,Helvetica Neue,Helvetica,sans-serif; font-size:48px; text-anchor:middle;\" transform=\"rotate(0, 593.67, 1541.47)\" x=\"593.67\" y=\"1541.47\">0.2</text>\n</g>\n<g clip-path=\"url(#clip0100)\">\n<text style=\"fill:#000000; fill-opacity:1; font-family:Arial,Helvetica Neue,Helvetica,sans-serif; font-size:48px; text-anchor:middle;\" transform=\"rotate(0, 1033.44, 1541.47)\" x=\"1033.44\" y=\"1541.47\">0.4</text>\n</g>\n<g clip-path=\"url(#clip0100)\">\n<text style=\"fill:#000000; fill-opacity:1; font-family:Arial,Helvetica Neue,Helvetica,sans-serif; font-size:48px; text-anchor:middle;\" transform=\"rotate(0, 1473.21, 1541.47)\" x=\"1473.21\" y=\"1541.47\">0.6</text>\n</g>\n<g clip-path=\"url(#clip0100)\">\n<text style=\"fill:#000000; fill-opacity:1; font-family:Arial,Helvetica Neue,Helvetica,sans-serif; font-size:48px; text-anchor:middle;\" transform=\"rotate(0, 1912.98, 1541.47)\" x=\"1912.98\" y=\"1541.47\">0.8</text>\n</g>\n<g clip-path=\"url(#clip0100)\">\n<text style=\"fill:#000000; fill-opacity:1; font-family:Arial,Helvetica Neue,Helvetica,sans-serif; font-size:48px; text-anchor:middle;\" transform=\"rotate(0, 2352.76, 1541.47)\" x=\"2352.76\" y=\"1541.47\">1.0</text>\n</g>\n<g clip-path=\"url(#clip0100)\">\n<text style=\"fill:#000000; fill-opacity:1; font-family:Arial,Helvetica Neue,Helvetica,sans-serif; font-size:48px; text-anchor:end;\" transform=\"rotate(0, 129.898, 1504.97)\" x=\"129.898\" y=\"1504.97\">0.0</text>\n</g>\n<g clip-path=\"url(#clip0100)\">\n<text style=\"fill:#000000; fill-opacity:1; font-family:Arial,Helvetica Neue,Helvetica,sans-serif; font-size:48px; text-anchor:end;\" transform=\"rotate(0, 129.898, 1216.93)\" x=\"129.898\" y=\"1216.93\">0.2</text>\n</g>\n<g clip-path=\"url(#clip0100)\">\n<text style=\"fill:#000000; fill-opacity:1; font-family:Arial,Helvetica Neue,Helvetica,sans-serif; font-size:48px; text-anchor:end;\" transform=\"rotate(0, 129.898, 928.882)\" x=\"129.898\" y=\"928.882\">0.4</text>\n</g>\n<g clip-path=\"url(#clip0100)\">\n<text style=\"fill:#000000; fill-opacity:1; font-family:Arial,Helvetica Neue,Helvetica,sans-serif; font-size:48px; text-anchor:end;\" transform=\"rotate(0, 129.898, 640.836)\" x=\"129.898\" y=\"640.836\">0.6</text>\n</g>\n<g clip-path=\"url(#clip0100)\">\n<text style=\"fill:#000000; fill-opacity:1; font-family:Arial,Helvetica Neue,Helvetica,sans-serif; font-size:48px; text-anchor:end;\" transform=\"rotate(0, 129.898, 352.79)\" x=\"129.898\" y=\"352.79\">0.8</text>\n</g>\n<g clip-path=\"url(#clip0100)\">\n<text style=\"fill:#000000; fill-opacity:1; font-family:Arial,Helvetica Neue,Helvetica,sans-serif; font-size:48px; text-anchor:end;\" transform=\"rotate(0, 129.898, 64.7441)\" x=\"129.898\" y=\"64.7441\">1.0</text>\n</g>\n</svg>\n"
               },
               "type": "node"
              }
             ],
             "instanceArgs": {
              "namespace": "html",
              "tag": "div"
             },
             "nodeType": "DOM",
             "props": {
              "className": "interact-flex-row interact-widget"
             },
             "type": "node"
            }
           }
          },
          "systemjs_options": null
         },
         "nodeType": "Scope",
         "props": {},
         "type": "node"
        }
       ],
       "instanceArgs": {
        "namespace": "html",
        "tag": "div"
       },
       "nodeType": "DOM",
       "props": {},
       "type": "node"
      },
      "text/html": [
       "<div\n",
       "    class=\"webio-mountpoint\"\n",
       "    data-webio-mountpoint=\"7551424880638668925\"\n",
       ">\n",
       "    <script>\n",
       "    if (window.require && require.defined && require.defined(\"nbextensions/webio-jupyter-notebook\")) {\n",
       "        console.log(\"Jupyter WebIO extension detected, not mounting.\");\n",
       "    } else if (window.WebIO) {\n",
       "        WebIO.mount(\n",
       "            document.querySelector('[data-webio-mountpoint=\"7551424880638668925\"]'),\n",
       "            {\"props\":{},\"nodeType\":\"DOM\",\"type\":\"node\",\"instanceArgs\":{\"namespace\":\"html\",\"tag\":\"div\"},\"children\":[{\"props\":{\"className\":\"field interact-widget\"},\"nodeType\":\"DOM\",\"type\":\"node\",\"instanceArgs\":{\"namespace\":\"html\",\"tag\":\"div\"},\"children\":[{\"props\":{},\"nodeType\":\"Scope\",\"type\":\"node\",\"instanceArgs\":{\"imports\":{\"data\":[{\"name\":\"knockout\",\"type\":\"js\",\"url\":\"\\/assetserver\\/938acb354ca4815fdbf66c3905eb221d0c578a85-knockout.js\"},{\"name\":\"knockout_punches\",\"type\":\"js\",\"url\":\"\\/assetserver\\/bb26f5035fc3d7a1bf0d38a7937f5dc87587e934-knockout_punches.js\"},{\"name\":null,\"type\":\"js\",\"url\":\"\\/assetserver\\/477af2faa28a6794de0f5ae5f9022d76de8f6d7c-all.js\"},{\"name\":null,\"type\":\"css\",\"url\":\"\\/assetserver\\/24cc7f7a0c028423a4dbc3bb7477d852515f6482-style.css\"},{\"name\":null,\"type\":\"css\",\"url\":\"\\/assetserver\\/7142905866658f89d3f4ad1638cd64a7c4495296-bulma_confined.min.css\"}],\"type\":\"async_block\"},\"id\":\"192369440507733570\",\"handlers\":{\"options_js\":[\"(function (val){return (val!=this.model[\\\"options_js\\\"]()) ? (this.valueFromJulia[\\\"options_js\\\"]=true, this.model[\\\"options_js\\\"](val)) : undefined})\"],\"index\":[\"(function (val){return (val!=this.model[\\\"index\\\"]()) ? (this.valueFromJulia[\\\"index\\\"]=true, this.model[\\\"index\\\"](val)) : undefined})\"]},\"systemjs_options\":null,\"mount_callbacks\":[\"function () {\\n    var handler = (function (ko, koPunches) {\\n    ko.punches.enableAll();\\n    ko.bindingHandlers.numericValue = {\\n        init: function(element, valueAccessor, allBindings, data, context) {\\n            var stringified = ko.observable(ko.unwrap(valueAccessor()));\\n            stringified.subscribe(function(value) {\\n                var val = parseFloat(value);\\n                if (!isNaN(val)) {\\n                    valueAccessor()(val);\\n                }\\n            });\\n            valueAccessor().subscribe(function(value) {\\n                var str = JSON.stringify(value);\\n                if ((str == \\\"0\\\") && ([\\\"-0\\\", \\\"-0.\\\"].indexOf(stringified()) >= 0))\\n                     return;\\n                 if ([\\\"null\\\", \\\"\\\"].indexOf(str) >= 0)\\n                     return;\\n                stringified(str);\\n            });\\n            ko.applyBindingsToNode(\\n                element,\\n                {\\n                    value: stringified,\\n                    valueUpdate: allBindings.get('valueUpdate'),\\n                },\\n                context,\\n            );\\n        }\\n    };\\n    var json_data = {\\\"options_js\\\":WebIO.getval({\\\"name\\\":\\\"options_js\\\",\\\"scope\\\":\\\"192369440507733570\\\",\\\"id\\\":\\\"ob_05\\\",\\\"type\\\":\\\"observable\\\"}),\\\"index\\\":WebIO.getval({\\\"name\\\":\\\"index\\\",\\\"scope\\\":\\\"192369440507733570\\\",\\\"id\\\":\\\"ob_04\\\",\\\"type\\\":\\\"observable\\\"})};\\n    var self = this;\\n    function AppViewModel() {\\n        for (var key in json_data) {\\n            var el = json_data[key];\\n            this[key] = Array.isArray(el) ? ko.observableArray(el) : ko.observable(el);\\n        }\\n        \\n        \\n        [this[\\\"options_js\\\"].subscribe((function (val){!(this.valueFromJulia[\\\"options_js\\\"]) ? (WebIO.setval({\\\"name\\\":\\\"options_js\\\",\\\"scope\\\":\\\"192369440507733570\\\",\\\"id\\\":\\\"ob_05\\\",\\\"type\\\":\\\"observable\\\"},val)) : undefined; return this.valueFromJulia[\\\"options_js\\\"]=false}),self),this[\\\"index\\\"].subscribe((function (val){!(this.valueFromJulia[\\\"index\\\"]) ? (WebIO.setval({\\\"name\\\":\\\"index\\\",\\\"scope\\\":\\\"192369440507733570\\\",\\\"id\\\":\\\"ob_04\\\",\\\"type\\\":\\\"observable\\\"},val)) : undefined; return this.valueFromJulia[\\\"index\\\"]=false}),self)]\\n        \\n    }\\n    self.model = new AppViewModel();\\n    self.valueFromJulia = {};\\n    for (var key in json_data) {\\n        self.valueFromJulia[key] = false;\\n    }\\n    ko.applyBindings(self.model, self.dom);\\n}\\n);\\n    (WebIO.importBlock({\\\"data\\\":[{\\\"name\\\":\\\"knockout\\\",\\\"type\\\":\\\"js\\\",\\\"url\\\":\\\"\\/assetserver\\/938acb354ca4815fdbf66c3905eb221d0c578a85-knockout.js\\\"},{\\\"name\\\":\\\"knockout_punches\\\",\\\"type\\\":\\\"js\\\",\\\"url\\\":\\\"\\/assetserver\\/bb26f5035fc3d7a1bf0d38a7937f5dc87587e934-knockout_punches.js\\\"}],\\\"type\\\":\\\"async_block\\\"})).then((imports) => handler.apply(this, imports));\\n}\\n\"],\"observables\":{\"options_js\":{\"sync\":false,\"id\":\"ob_05\",\"value\":[{\"key\":\"ALA Aland Islands\",\"val\":1,\"id\":\"idYJGgxlzV\"},{\"key\":\"Afghanistan\",\"val\":2,\"id\":\"idsRWMbryR\"},{\"key\":\"Albania\",\"val\":3,\"id\":\"idmH3g8aXn\"},{\"key\":\"Algeria\",\"val\":4,\"id\":\"idx1X3Hr6M\"},{\"key\":\"American Samoa\",\"val\":5,\"id\":\"idXI7kGNZM\"},{\"key\":\"Andorra\",\"val\":6,\"id\":\"idswlyvTEr\"},{\"key\":\"Angola\",\"val\":7,\"id\":\"id0Z4xC3MK\"},{\"key\":\"Anguilla\",\"val\":8,\"id\":\"idEyyztsOq\"},{\"key\":\"Antarctica\",\"val\":9,\"id\":\"id9Jw2US0y\"},{\"key\":\"Antigua and Barbuda\",\"val\":10,\"id\":\"idGOAWixwy\"},{\"key\":\"Argentina\",\"val\":11,\"id\":\"idgbezroBd\"},{\"key\":\"Armenia\",\"val\":12,\"id\":\"idydQCKpUV\"},{\"key\":\"Aruba\",\"val\":13,\"id\":\"id40uV4rU8\"},{\"key\":\"Australia\",\"val\":14,\"id\":\"idth57tEhL\"},{\"key\":\"Austria\",\"val\":15,\"id\":\"idOd1xc54N\"},{\"key\":\"Azerbaijan\",\"val\":16,\"id\":\"id70rif0RO\"},{\"key\":\"Bahamas\",\"val\":17,\"id\":\"idwWfxS9s3\"},{\"key\":\"Bahrain\",\"val\":18,\"id\":\"idLJpyWMfB\"},{\"key\":\"Bangladesh\",\"val\":19,\"id\":\"idE1Hj5AdD\"},{\"key\":\"Barbados\",\"val\":20,\"id\":\"idphQsPORj\"},{\"key\":\"Belarus\",\"val\":21,\"id\":\"id8mdtWlYd\"},{\"key\":\"Belgium\",\"val\":22,\"id\":\"id1zJQPtWC\"},{\"key\":\"Belize\",\"val\":23,\"id\":\"idGh1TvQFJ\"},{\"key\":\"Benin\",\"val\":24,\"id\":\"idKwfE8oFI\"},{\"key\":\"Bermuda\",\"val\":25,\"id\":\"idBObjg6yP\"},{\"key\":\"Bhutan\",\"val\":26,\"id\":\"id6ObzXXYP\"},{\"key\":\"Bolivia\",\"val\":27,\"id\":\"idr4u9xu3g\"},{\"key\":\"Bosnia and Herzegovina\",\"val\":28,\"id\":\"idZy9Nm5xY\"},{\"key\":\"Botswana\",\"val\":29,\"id\":\"idZJ0yTtju\"},{\"key\":\"Bouvet Island\",\"val\":30,\"id\":\"idF5IV6l6m\"},{\"key\":\"Brazil\",\"val\":31,\"id\":\"idtI8ZcNE1\"},{\"key\":\"British Indian Ocean Territory\",\"val\":32,\"id\":\"idrXdpcAVe\"},{\"key\":\"British Virgin Islands\",\"val\":33,\"id\":\"idX1pn501A\"},{\"key\":\"Brunei Darussalam\",\"val\":34,\"id\":\"idFOoDfLMK\"},{\"key\":\"Bulgaria\",\"val\":35,\"id\":\"idPBBcNXnO\"},{\"key\":\"Burkina Faso\",\"val\":36,\"id\":\"id4uxaqOOd\"},{\"key\":\"Burundi\",\"val\":37,\"id\":\"idTyggwtFT\"},{\"key\":\"Cambodia\",\"val\":38,\"id\":\"id7E58fFN1\"},{\"key\":\"Cameroon\",\"val\":39,\"id\":\"idB8Mi1SrJ\"},{\"key\":\"Canada\",\"val\":40,\"id\":\"id42EaDamn\"},{\"key\":\"Cape Verde\",\"val\":41,\"id\":\"id99lMVnFt\"},{\"key\":\"Cayman Islands\",\"val\":42,\"id\":\"idspmRxOji\"},{\"key\":\"Central African Republic\",\"val\":43,\"id\":\"idjyIdQ0hK\"},{\"key\":\"Chad\",\"val\":44,\"id\":\"idHLusel8m\"},{\"key\":\"Chile\",\"val\":45,\"id\":\"idcLcPi5AI\"},{\"key\":\"China\",\"val\":46,\"id\":\"idVFxsEuUM\"},{\"key\":\"Christmas Island\",\"val\":47,\"id\":\"idIRRbXngO\"},{\"key\":\"Cocos (Keeling) Islands\",\"val\":48,\"id\":\"idipsXw6Ff\"},{\"key\":\"Colombia\",\"val\":49,\"id\":\"idSKgwoRPf\"},{\"key\":\"Comoros\",\"val\":50,\"id\":\"id2hPZRSzY\"},{\"key\":\"Congo (Brazzaville)\",\"val\":51,\"id\":\"idR78GpIsi\"},{\"key\":\"Congo (Kinshasa)\",\"val\":52,\"id\":\"idvXyFuAvG\"},{\"key\":\"Cook Islands\",\"val\":53,\"id\":\"idssIXFaKE\"},{\"key\":\"Costa Rica\",\"val\":54,\"id\":\"idRHGwkSFN\"},{\"key\":\"Croatia\",\"val\":55,\"id\":\"idUIugDpvI\"},{\"key\":\"Cuba\",\"val\":56,\"id\":\"id8HH2nuGj\"},{\"key\":\"Cyprus\",\"val\":57,\"id\":\"idmS92PD1C\"},{\"key\":\"Czech Republic\",\"val\":58,\"id\":\"id7E78IDe1\"},{\"key\":\"Côte d'Ivoire\",\"val\":59,\"id\":\"idVQ3A6Zyu\"},{\"key\":\"Denmark\",\"val\":60,\"id\":\"idxMYtWRzF\"},{\"key\":\"Djibouti\",\"val\":61,\"id\":\"idGNoMiGTX\"},{\"key\":\"Dominica\",\"val\":62,\"id\":\"idWF2YfE5C\"},{\"key\":\"Dominican Republic\",\"val\":63,\"id\":\"idmiRksTmC\"},{\"key\":\"Ecuador\",\"val\":64,\"id\":\"idUf1PH1GA\"},{\"key\":\"Egypt\",\"val\":65,\"id\":\"idiLfkDX6i\"},{\"key\":\"El Salvador\",\"val\":66,\"id\":\"idxD47yWiW\"},{\"key\":\"Equatorial Guinea\",\"val\":67,\"id\":\"idrd2Jkghk\"},{\"key\":\"Eritrea\",\"val\":68,\"id\":\"idgxaaWHme\"},{\"key\":\"Estonia\",\"val\":69,\"id\":\"ida9JlUPz0\"},{\"key\":\"Ethiopia\",\"val\":70,\"id\":\"idp64i6rHN\"},{\"key\":\"Falkland Islands (Malvinas)\",\"val\":71,\"id\":\"id7sP8ps2A\"},{\"key\":\"Faroe Islands\",\"val\":72,\"id\":\"idUrn4Jcnr\"},{\"key\":\"Fiji\",\"val\":73,\"id\":\"idyf62NL55\"},{\"key\":\"Finland\",\"val\":74,\"id\":\"idjKP7s9Ug\"},{\"key\":\"France\",\"val\":75,\"id\":\"idPHlGTpn8\"},{\"key\":\"French Guiana\",\"val\":76,\"id\":\"idwpBfAADA\"},{\"key\":\"French Polynesia\",\"val\":77,\"id\":\"idiRSd3vKm\"},{\"key\":\"French Southern Territories\",\"val\":78,\"id\":\"idCTLNk8XR\"},{\"key\":\"Gabon\",\"val\":79,\"id\":\"idkRzyU3v0\"},{\"key\":\"Gambia\",\"val\":80,\"id\":\"idvaRSMjkC\"},{\"key\":\"Georgia\",\"val\":81,\"id\":\"idnPmV0Aqj\"},{\"key\":\"Germany\",\"val\":82,\"id\":\"idhoZzubWu\"},{\"key\":\"Ghana\",\"val\":83,\"id\":\"idwtFtLiOS\"},{\"key\":\"Gibraltar\",\"val\":84,\"id\":\"idRafa5C4p\"},{\"key\":\"Greece\",\"val\":85,\"id\":\"idb4ZZYxa0\"},{\"key\":\"Greenland\",\"val\":86,\"id\":\"idIyhBZIbY\"},{\"key\":\"Grenada\",\"val\":87,\"id\":\"idw1CuMU6J\"},{\"key\":\"Guadeloupe\",\"val\":88,\"id\":\"id5Quhtkc9\"},{\"key\":\"Guam\",\"val\":89,\"id\":\"idtw70dhB1\"},{\"key\":\"Guatemala\",\"val\":90,\"id\":\"idqbLKkwXe\"},{\"key\":\"Guernsey\",\"val\":91,\"id\":\"idZUtXBCWZ\"},{\"key\":\"Guinea\",\"val\":92,\"id\":\"iden2TK52j\"},{\"key\":\"Guinea-Bissau\",\"val\":93,\"id\":\"idlqanisis\"},{\"key\":\"Guyana\",\"val\":94,\"id\":\"idAsx6m5ju\"},{\"key\":\"Haiti\",\"val\":95,\"id\":\"idqW1MKnzV\"},{\"key\":\"Heard and Mcdonald Islands\",\"val\":96,\"id\":\"id0O5spB9u\"},{\"key\":\"Holy See (Vatican City State)\",\"val\":97,\"id\":\"idxt5IUOHD\"},{\"key\":\"Honduras\",\"val\":98,\"id\":\"id0j8wvm8x\"},{\"key\":\"Hong Kong, SAR China\",\"val\":99,\"id\":\"idXM4l8cQt\"},{\"key\":\"Hungary\",\"val\":100,\"id\":\"idj8CLzSzR\"},{\"key\":\"Iceland\",\"val\":101,\"id\":\"idUQLAtT2v\"},{\"key\":\"India\",\"val\":102,\"id\":\"idVxmosdXT\"},{\"key\":\"Indonesia\",\"val\":103,\"id\":\"id5HmCcq6T\"},{\"key\":\"Iran, Islamic Republic of\",\"val\":104,\"id\":\"idzgUqMb4l\"},{\"key\":\"Iraq\",\"val\":105,\"id\":\"idTMzJObwf\"},{\"key\":\"Ireland\",\"val\":106,\"id\":\"idXMLDdPC7\"},{\"key\":\"Isle of Man\",\"val\":107,\"id\":\"id8x5urVrA\"},{\"key\":\"Israel\",\"val\":108,\"id\":\"idkQYZPe7M\"},{\"key\":\"Italy\",\"val\":109,\"id\":\"iddKMANEHC\"},{\"key\":\"Jamaica\",\"val\":110,\"id\":\"idtz6nHT4V\"},{\"key\":\"Japan\",\"val\":111,\"id\":\"iduPRqEGs3\"},{\"key\":\"Jersey\",\"val\":112,\"id\":\"idbWdybjvq\"},{\"key\":\"Jordan\",\"val\":113,\"id\":\"idfyBiVwBH\"},{\"key\":\"Kazakhstan\",\"val\":114,\"id\":\"idDiaYafgz\"},{\"key\":\"Kenya\",\"val\":115,\"id\":\"idrb23EPDC\"},{\"key\":\"Kiribati\",\"val\":116,\"id\":\"idgnKE3jBJ\"},{\"key\":\"Korea (North)\",\"val\":117,\"id\":\"idkKUmtmab\"},{\"key\":\"Korea (South)\",\"val\":118,\"id\":\"idcML1RGmT\"},{\"key\":\"Kuwait\",\"val\":119,\"id\":\"idD9pZxQwu\"},{\"key\":\"Kyrgyzstan\",\"val\":120,\"id\":\"idAAHo2VwW\"},{\"key\":\"Lao PDR\",\"val\":121,\"id\":\"id3bUHeQrW\"},{\"key\":\"Latvia\",\"val\":122,\"id\":\"idJLNTpEcn\"},{\"key\":\"Lebanon\",\"val\":123,\"id\":\"idmGWIFUzG\"},{\"key\":\"Lesotho\",\"val\":124,\"id\":\"idGdpAr2x2\"},{\"key\":\"Liberia\",\"val\":125,\"id\":\"idDdC2q37w\"},{\"key\":\"Libya\",\"val\":126,\"id\":\"idaSN7AYRy\"},{\"key\":\"Liechtenstein\",\"val\":127,\"id\":\"idwWSqz4nN\"},{\"key\":\"Lithuania\",\"val\":128,\"id\":\"idQlGuWOxq\"},{\"key\":\"Luxembourg\",\"val\":129,\"id\":\"idCCW0jyPU\"},{\"key\":\"Macao, SAR China\",\"val\":130,\"id\":\"idf2FhVIWu\"},{\"key\":\"Macedonia, Republic of\",\"val\":131,\"id\":\"idMkZTiYI7\"},{\"key\":\"Madagascar\",\"val\":132,\"id\":\"idI4HODKne\"},{\"key\":\"Malawi\",\"val\":133,\"id\":\"idkQjLBQZc\"},{\"key\":\"Malaysia\",\"val\":134,\"id\":\"idlJFJzXzC\"},{\"key\":\"Maldives\",\"val\":135,\"id\":\"id0MIBnZXe\"},{\"key\":\"Mali\",\"val\":136,\"id\":\"id4HvD0eN8\"},{\"key\":\"Malta\",\"val\":137,\"id\":\"idkcBkJiOU\"},{\"key\":\"Marshall Islands\",\"val\":138,\"id\":\"idiEJuunVL\"},{\"key\":\"Martinique\",\"val\":139,\"id\":\"id0TP2erR0\"},{\"key\":\"Mauritania\",\"val\":140,\"id\":\"idnqnzaz6v\"},{\"key\":\"Mauritius\",\"val\":141,\"id\":\"idp0WBrBE0\"},{\"key\":\"Mayotte\",\"val\":142,\"id\":\"ide6IjBmw5\"},{\"key\":\"Mexico\",\"val\":143,\"id\":\"idZW2lnj8F\"},{\"key\":\"Micronesia, Federated States of\",\"val\":144,\"id\":\"iduwdTIDqp\"},{\"key\":\"Moldova\",\"val\":145,\"id\":\"idWNt7KS8q\"},{\"key\":\"Monaco\",\"val\":146,\"id\":\"idWArlFd2M\"},{\"key\":\"Mongolia\",\"val\":147,\"id\":\"idaBtpdZzr\"},{\"key\":\"Montenegro\",\"val\":148,\"id\":\"idL7Zk62rU\"},{\"key\":\"Montserrat\",\"val\":149,\"id\":\"id4Cyaelzs\"},{\"key\":\"Morocco\",\"val\":150,\"id\":\"idYN9iu7Rh\"},{\"key\":\"Mozambique\",\"val\":151,\"id\":\"ideCd8Z3yW\"},{\"key\":\"Myanmar\",\"val\":152,\"id\":\"idkSQkFojQ\"},{\"key\":\"Namibia\",\"val\":153,\"id\":\"idkoN3JOd2\"},{\"key\":\"Nauru\",\"val\":154,\"id\":\"idNpbTw2Cz\"},{\"key\":\"Nepal\",\"val\":155,\"id\":\"idEoqltYBW\"},{\"key\":\"Netherlands\",\"val\":156,\"id\":\"idgx0ZowGW\"},{\"key\":\"Netherlands Antilles\",\"val\":157,\"id\":\"id1JrDAvqe\"},{\"key\":\"New Caledonia\",\"val\":158,\"id\":\"idjN07cCKc\"},{\"key\":\"New Zealand\",\"val\":159,\"id\":\"idddyzO8FJ\"},{\"key\":\"Nicaragua\",\"val\":160,\"id\":\"idgM6YwyyZ\"},{\"key\":\"Niger\",\"val\":161,\"id\":\"idD8XmI1Up\"},{\"key\":\"Nigeria\",\"val\":162,\"id\":\"idOX827hXv\"},{\"key\":\"Niue\",\"val\":163,\"id\":\"idkLNRh4h6\"},{\"key\":\"Norfolk Island\",\"val\":164,\"id\":\"idioM4oC2b\"},{\"key\":\"Northern Mariana Islands\",\"val\":165,\"id\":\"idGVcQtDO0\"},{\"key\":\"Norway\",\"val\":166,\"id\":\"idGl2CE6pf\"},{\"key\":\"Oman\",\"val\":167,\"id\":\"idZOyhJylI\"},{\"key\":\"Pakistan\",\"val\":168,\"id\":\"idhjBdE3YA\"},{\"key\":\"Palau\",\"val\":169,\"id\":\"id0JmEk1wT\"},{\"key\":\"Palestinian Territory\",\"val\":170,\"id\":\"id8mglyq4c\"},{\"key\":\"Panama\",\"val\":171,\"id\":\"idN2zxsTR0\"},{\"key\":\"Papua New Guinea\",\"val\":172,\"id\":\"id0oInGNwu\"},{\"key\":\"Paraguay\",\"val\":173,\"id\":\"idgGax6MYp\"},{\"key\":\"Peru\",\"val\":174,\"id\":\"idt9acehRV\"},{\"key\":\"Philippines\",\"val\":175,\"id\":\"idHQTzWYhe\"},{\"key\":\"Pitcairn\",\"val\":176,\"id\":\"idWdRVuLxV\"},{\"key\":\"Poland\",\"val\":177,\"id\":\"idFZVt6MPC\"},{\"key\":\"Portugal\",\"val\":178,\"id\":\"idISuPyuaZ\"},{\"key\":\"Puerto Rico\",\"val\":179,\"id\":\"idqC5TxORh\"},{\"key\":\"Qatar\",\"val\":180,\"id\":\"idOcbRzsAa\"},{\"key\":\"Republic of Kosovo\",\"val\":181,\"id\":\"id6gjByZOa\"},{\"key\":\"Romania\",\"val\":182,\"id\":\"idQ5vqZxnd\"},{\"key\":\"Russian Federation\",\"val\":183,\"id\":\"idtQLRG0bo\"},{\"key\":\"Rwanda\",\"val\":184,\"id\":\"idsY6UgDSK\"},{\"key\":\"Réunion\",\"val\":185,\"id\":\"idwq1O4A3l\"},{\"key\":\"Saint Helena\",\"val\":186,\"id\":\"idprxq8sTM\"},{\"key\":\"Saint Kitts and Nevis\",\"val\":187,\"id\":\"idkiIvhCVD\"},{\"key\":\"Saint Lucia\",\"val\":188,\"id\":\"idtmpmpeit\"},{\"key\":\"Saint Pierre and Miquelon\",\"val\":189,\"id\":\"id3PqjpWr8\"},{\"key\":\"Saint Vincent and Grenadines\",\"val\":190,\"id\":\"idsF81Ii8g\"},{\"key\":\"Saint-Barthélemy\",\"val\":191,\"id\":\"idrJXz2HE6\"},{\"key\":\"Saint-Martin (French part)\",\"val\":192,\"id\":\"idNqpfl1T9\"},{\"key\":\"Samoa\",\"val\":193,\"id\":\"idWrOndMIG\"},{\"key\":\"San Marino\",\"val\":194,\"id\":\"idRBB3Yla7\"},{\"key\":\"Sao Tome and Principe\",\"val\":195,\"id\":\"idyFNvqnUi\"},{\"key\":\"Saudi Arabia\",\"val\":196,\"id\":\"idSGFzQ98K\"},{\"key\":\"Senegal\",\"val\":197,\"id\":\"idGzMZSNk8\"},{\"key\":\"Serbia\",\"val\":198,\"id\":\"id27vetg0n\"},{\"key\":\"Seychelles\",\"val\":199,\"id\":\"idQG2pjBP1\"},{\"key\":\"Sierra Leone\",\"val\":200,\"id\":\"id1vOAMmgk\"},{\"key\":\"Singapore\",\"val\":201,\"id\":\"idN6EakqQX\"},{\"key\":\"Slovakia\",\"val\":202,\"id\":\"idEEzcYKFW\"},{\"key\":\"Slovenia\",\"val\":203,\"id\":\"idWI1xaeDh\"},{\"key\":\"Solomon Islands\",\"val\":204,\"id\":\"idJBMHuIik\"},{\"key\":\"Somalia\",\"val\":205,\"id\":\"idq0Vdzl5Z\"},{\"key\":\"South Africa\",\"val\":206,\"id\":\"idyLSpOwfI\"},{\"key\":\"South Georgia and the South Sandwich Islands\",\"val\":207,\"id\":\"idz5NjhF9c\"},{\"key\":\"South Sudan\",\"val\":208,\"id\":\"id6VyuNwdN\"},{\"key\":\"Spain\",\"val\":209,\"id\":\"id9qcPKsqv\"},{\"key\":\"Sri Lanka\",\"val\":210,\"id\":\"idQ2r2rl52\"},{\"key\":\"Sudan\",\"val\":211,\"id\":\"idIXtPDBZ0\"},{\"key\":\"Suriname\",\"val\":212,\"id\":\"idscr0B60M\"},{\"key\":\"Svalbard and Jan Mayen Islands\",\"val\":213,\"id\":\"idsuJk45Hj\"},{\"key\":\"Swaziland\",\"val\":214,\"id\":\"id9sBt6crS\"},{\"key\":\"Sweden\",\"val\":215,\"id\":\"idhMQ0GOqy\"},{\"key\":\"Switzerland\",\"val\":216,\"id\":\"idYD3tPIWH\"},{\"key\":\"Syrian Arab Republic (Syria)\",\"val\":217,\"id\":\"idraONBNqC\"},{\"key\":\"Taiwan, Republic of China\",\"val\":218,\"id\":\"idev4SS2NC\"},{\"key\":\"Tajikistan\",\"val\":219,\"id\":\"idVyXEE7oA\"},{\"key\":\"Tanzania, United Republic of\",\"val\":220,\"id\":\"idJMqfYiEZ\"},{\"key\":\"Thailand\",\"val\":221,\"id\":\"id5bAiyim9\"},{\"key\":\"Timor-Leste\",\"val\":222,\"id\":\"idSd8e0zH5\"},{\"key\":\"Togo\",\"val\":223,\"id\":\"idyF2AweBl\"},{\"key\":\"Tokelau\",\"val\":224,\"id\":\"iddwFSBpvs\"},{\"key\":\"Tonga\",\"val\":225,\"id\":\"idMiqzDrp2\"},{\"key\":\"Trinidad and Tobago\",\"val\":226,\"id\":\"idzq2s0zQ8\"},{\"key\":\"Tunisia\",\"val\":227,\"id\":\"idr3ZMzAaP\"},{\"key\":\"Turkey\",\"val\":228,\"id\":\"idlwTw6Mov\"},{\"key\":\"Turkmenistan\",\"val\":229,\"id\":\"idduxF5sLQ\"},{\"key\":\"Turks and Caicos Islands\",\"val\":230,\"id\":\"ido6GU7a4O\"},{\"key\":\"Tuvalu\",\"val\":231,\"id\":\"idmOeuj9Sv\"},{\"key\":\"US Minor Outlying Islands\",\"val\":232,\"id\":\"iddGWuhHWX\"},{\"key\":\"Uganda\",\"val\":233,\"id\":\"idmaciDPuA\"},{\"key\":\"Ukraine\",\"val\":234,\"id\":\"id24p0F1U6\"},{\"key\":\"United Arab Emirates\",\"val\":235,\"id\":\"idyOGaKRLO\"},{\"key\":\"United Kingdom\",\"val\":236,\"id\":\"idJMaFcaZS\"},{\"key\":\"United States of America\",\"val\":237,\"id\":\"id0wwVNlIv\"},{\"key\":\"Uruguay\",\"val\":238,\"id\":\"idxOQrvBd8\"},{\"key\":\"Uzbekistan\",\"val\":239,\"id\":\"id5gD41nVw\"},{\"key\":\"Vanuatu\",\"val\":240,\"id\":\"idVkqvNsNE\"},{\"key\":\"Venezuela (Bolivarian Republic)\",\"val\":241,\"id\":\"idlsAqKqrm\"},{\"key\":\"Viet Nam\",\"val\":242,\"id\":\"idYlUEoHW9\"},{\"key\":\"Virgin Islands, US\",\"val\":243,\"id\":\"id8qAqPV8O\"},{\"key\":\"Wallis and Futuna Islands\",\"val\":244,\"id\":\"idqOldh0Xh\"},{\"key\":\"Western Sahara\",\"val\":245,\"id\":\"idNNtwRsBo\"},{\"key\":\"Yemen\",\"val\":246,\"id\":\"idScSjdPI0\"},{\"key\":\"Zambia\",\"val\":247,\"id\":\"id1mhYzgmR\"},{\"key\":\"Zimbabwe\",\"val\":248,\"id\":\"idxu8dIzgH\"}]},\"index\":{\"sync\":true,\"id\":\"ob_04\",\"value\":[]}}},\"children\":[{\"props\":{\"attributes\":{\"data-bind\":\"foreach : options_js\"},\"className\":\"field\"},\"nodeType\":\"DOM\",\"type\":\"node\",\"instanceArgs\":{\"namespace\":\"html\",\"tag\":\"div\"},\"children\":[{\"props\":{\"className\":\"field\"},\"nodeType\":\"DOM\",\"type\":\"node\",\"instanceArgs\":{\"namespace\":\"html\",\"tag\":\"div\"},\"children\":[{\"props\":{\"attributes\":{\"name\":\"##403\",\"type\":\"checkbox\",\"data-bind\":\"checked : $root.index, checkedValue: val, attr : {id : id}\"},\"className\":\"is-checkradio \"},\"nodeType\":\"DOM\",\"type\":\"node\",\"instanceArgs\":{\"namespace\":\"html\",\"tag\":\"input\"},\"children\":[]},{\"props\":{\"attributes\":{\"data-bind\":\"text : key, attr : {for : id}\"}},\"nodeType\":\"DOM\",\"type\":\"node\",\"instanceArgs\":{\"namespace\":\"html\",\"tag\":\"label\"},\"children\":[]}]}]}]}]},{\"props\":{},\"nodeType\":\"Scope\",\"type\":\"node\",\"instanceArgs\":{\"imports\":{\"data\":[],\"type\":\"async_block\"},\"id\":\"7491469040098072101\",\"handlers\":{},\"systemjs_options\":null,\"mount_callbacks\":[],\"observables\":{\"obs-node\":{\"sync\":false,\"id\":\"ob_09\",\"value\":{\"props\":{\"className\":\"interact-flex-row interact-widget\"},\"nodeType\":\"DOM\",\"type\":\"node\",\"instanceArgs\":{\"namespace\":\"html\",\"tag\":\"div\"},\"children\":[{\"props\":{\"setInnerHtml\":\"<?xml version=\\\"1.0\\\" encoding=\\\"utf-8\\\"?>\\n<svg xmlns=\\\"http:\\/\\/www.w3.org\\/2000\\/svg\\\" xmlns:xlink=\\\"http:\\/\\/www.w3.org\\/1999\\/xlink\\\" width=\\\"600\\\" height=\\\"400\\\" viewBox=\\\"0 0 2400 1600\\\">\\n<defs>\\n  <clipPath id=\\\"clip9700\\\">\\n    <rect x=\\\"0\\\" y=\\\"0\\\" width=\\\"2400\\\" height=\\\"1600\\\"\\/>\\n  <\\/clipPath>\\n<\\/defs>\\n<path clip-path=\\\"url(#clip9700)\\\" d=\\\"\\nM0 1600 L2400 1600 L2400 0 L0 0  Z\\n  \\\" fill=\\\"#ffffff\\\" fill-rule=\\\"evenodd\\\" fill-opacity=\\\"1\\\"\\/>\\n<defs>\\n  <clipPath id=\\\"clip9701\\\">\\n    <rect x=\\\"480\\\" y=\\\"0\\\" width=\\\"1681\\\" height=\\\"1600\\\"\\/>\\n  <\\/clipPath>\\n<\\/defs>\\n<path clip-path=\\\"url(#clip9700)\\\" d=\\\"\\nM153.898 1487.47 L2352.76 1487.47 L2352.76 47.2441 L153.898 47.2441  Z\\n  \\\" fill=\\\"#ffffff\\\" fill-rule=\\\"evenodd\\\" fill-opacity=\\\"1\\\"\\/>\\n<defs>\\n  <clipPath id=\\\"clip9702\\\">\\n    <rect x=\\\"153\\\" y=\\\"47\\\" width=\\\"2200\\\" height=\\\"1441\\\"\\/>\\n  <\\/clipPath>\\n<\\/defs>\\n<polyline clip-path=\\\"url(#clip9702)\\\" style=\\\"stroke:#000000; stroke-width:2; stroke-opacity:0.1; fill:none\\\" points=\\\"\\n  153.898,1487.47 153.898,47.2441 \\n  \\\"\\/>\\n<polyline clip-path=\\\"url(#clip9702)\\\" style=\\\"stroke:#000000; stroke-width:2; stroke-opacity:0.1; fill:none\\\" points=\\\"\\n  593.67,1487.47 593.67,47.2441 \\n  \\\"\\/>\\n<polyline clip-path=\\\"url(#clip9702)\\\" style=\\\"stroke:#000000; stroke-width:2; stroke-opacity:0.1; fill:none\\\" points=\\\"\\n  1033.44,1487.47 1033.44,47.2441 \\n  \\\"\\/>\\n<polyline clip-path=\\\"url(#clip9702)\\\" style=\\\"stroke:#000000; stroke-width:2; stroke-opacity:0.1; fill:none\\\" points=\\\"\\n  1473.21,1487.47 1473.21,47.2441 \\n  \\\"\\/>\\n<polyline clip-path=\\\"url(#clip9702)\\\" style=\\\"stroke:#000000; stroke-width:2; stroke-opacity:0.1; fill:none\\\" points=\\\"\\n  1912.98,1487.47 1912.98,47.2441 \\n  \\\"\\/>\\n<polyline clip-path=\\\"url(#clip9702)\\\" style=\\\"stroke:#000000; stroke-width:2; stroke-opacity:0.1; fill:none\\\" points=\\\"\\n  2352.76,1487.47 2352.76,47.2441 \\n  \\\"\\/>\\n<polyline clip-path=\\\"url(#clip9702)\\\" style=\\\"stroke:#000000; stroke-width:2; stroke-opacity:0.1; fill:none\\\" points=\\\"\\n  153.898,1487.47 2352.76,1487.47 \\n  \\\"\\/>\\n<polyline clip-path=\\\"url(#clip9702)\\\" style=\\\"stroke:#000000; stroke-width:2; stroke-opacity:0.1; fill:none\\\" points=\\\"\\n  153.898,1199.43 2352.76,1199.43 \\n  \\\"\\/>\\n<polyline clip-path=\\\"url(#clip9702)\\\" style=\\\"stroke:#000000; stroke-width:2; stroke-opacity:0.1; fill:none\\\" points=\\\"\\n  153.898,911.382 2352.76,911.382 \\n  \\\"\\/>\\n<polyline clip-path=\\\"url(#clip9702)\\\" style=\\\"stroke:#000000; stroke-width:2; stroke-opacity:0.1; fill:none\\\" points=\\\"\\n  153.898,623.336 2352.76,623.336 \\n  \\\"\\/>\\n<polyline clip-path=\\\"url(#clip9702)\\\" style=\\\"stroke:#000000; stroke-width:2; stroke-opacity:0.1; fill:none\\\" points=\\\"\\n  153.898,335.29 2352.76,335.29 \\n  \\\"\\/>\\n<polyline clip-path=\\\"url(#clip9702)\\\" style=\\\"stroke:#000000; stroke-width:2; stroke-opacity:0.1; fill:none\\\" points=\\\"\\n  153.898,47.2441 2352.76,47.2441 \\n  \\\"\\/>\\n<polyline clip-path=\\\"url(#clip9700)\\\" style=\\\"stroke:#000000; stroke-width:4; stroke-opacity:1; fill:none\\\" points=\\\"\\n  153.898,1487.47 2352.76,1487.47 \\n  \\\"\\/>\\n<polyline clip-path=\\\"url(#clip9700)\\\" style=\\\"stroke:#000000; stroke-width:4; stroke-opacity:1; fill:none\\\" points=\\\"\\n  153.898,1487.47 153.898,47.2441 \\n  \\\"\\/>\\n<polyline clip-path=\\\"url(#clip9700)\\\" style=\\\"stroke:#000000; stroke-width:4; stroke-opacity:1; fill:none\\\" points=\\\"\\n  153.898,1487.47 153.898,1470.19 \\n  \\\"\\/>\\n<polyline clip-path=\\\"url(#clip9700)\\\" style=\\\"stroke:#000000; stroke-width:4; stroke-opacity:1; fill:none\\\" points=\\\"\\n  593.67,1487.47 593.67,1470.19 \\n  \\\"\\/>\\n<polyline clip-path=\\\"url(#clip9700)\\\" style=\\\"stroke:#000000; stroke-width:4; stroke-opacity:1; fill:none\\\" points=\\\"\\n  1033.44,1487.47 1033.44,1470.19 \\n  \\\"\\/>\\n<polyline clip-path=\\\"url(#clip9700)\\\" style=\\\"stroke:#000000; stroke-width:4; stroke-opacity:1; fill:none\\\" points=\\\"\\n  1473.21,1487.47 1473.21,1470.19 \\n  \\\"\\/>\\n<polyline clip-path=\\\"url(#clip9700)\\\" style=\\\"stroke:#000000; stroke-width:4; stroke-opacity:1; fill:none\\\" points=\\\"\\n  1912.98,1487.47 1912.98,1470.19 \\n  \\\"\\/>\\n<polyline clip-path=\\\"url(#clip9700)\\\" style=\\\"stroke:#000000; stroke-width:4; stroke-opacity:1; fill:none\\\" points=\\\"\\n  2352.76,1487.47 2352.76,1470.19 \\n  \\\"\\/>\\n<polyline clip-path=\\\"url(#clip9700)\\\" style=\\\"stroke:#000000; stroke-width:4; stroke-opacity:1; fill:none\\\" points=\\\"\\n  153.898,1487.47 180.284,1487.47 \\n  \\\"\\/>\\n<polyline clip-path=\\\"url(#clip9700)\\\" style=\\\"stroke:#000000; stroke-width:4; stroke-opacity:1; fill:none\\\" points=\\\"\\n  153.898,1199.43 180.284,1199.43 \\n  \\\"\\/>\\n<polyline clip-path=\\\"url(#clip9700)\\\" style=\\\"stroke:#000000; stroke-width:4; stroke-opacity:1; fill:none\\\" points=\\\"\\n  153.898,911.382 180.284,911.382 \\n  \\\"\\/>\\n<polyline clip-path=\\\"url(#clip9700)\\\" style=\\\"stroke:#000000; stroke-width:4; stroke-opacity:1; fill:none\\\" points=\\\"\\n  153.898,623.336 180.284,623.336 \\n  \\\"\\/>\\n<polyline clip-path=\\\"url(#clip9700)\\\" style=\\\"stroke:#000000; stroke-width:4; stroke-opacity:1; fill:none\\\" points=\\\"\\n  153.898,335.29 180.284,335.29 \\n  \\\"\\/>\\n<polyline clip-path=\\\"url(#clip9700)\\\" style=\\\"stroke:#000000; stroke-width:4; stroke-opacity:1; fill:none\\\" points=\\\"\\n  153.898,47.2441 180.284,47.2441 \\n  \\\"\\/>\\n<g clip-path=\\\"url(#clip9700)\\\">\\n<text style=\\\"fill:#000000; fill-opacity:1; font-family:Arial,Helvetica Neue,Helvetica,sans-serif; font-size:48px; text-anchor:middle;\\\" transform=\\\"rotate(0, 153.898, 1541.47)\\\" x=\\\"153.898\\\" y=\\\"1541.47\\\">0.0<\\/text>\\n<\\/g>\\n<g clip-path=\\\"url(#clip9700)\\\">\\n<text style=\\\"fill:#000000; fill-opacity:1; font-family:Arial,Helvetica Neue,Helvetica,sans-serif; font-size:48px; text-anchor:middle;\\\" transform=\\\"rotate(0, 593.67, 1541.47)\\\" x=\\\"593.67\\\" y=\\\"1541.47\\\">0.2<\\/text>\\n<\\/g>\\n<g clip-path=\\\"url(#clip9700)\\\">\\n<text style=\\\"fill:#000000; fill-opacity:1; font-family:Arial,Helvetica Neue,Helvetica,sans-serif; font-size:48px; text-anchor:middle;\\\" transform=\\\"rotate(0, 1033.44, 1541.47)\\\" x=\\\"1033.44\\\" y=\\\"1541.47\\\">0.4<\\/text>\\n<\\/g>\\n<g clip-path=\\\"url(#clip9700)\\\">\\n<text style=\\\"fill:#000000; fill-opacity:1; font-family:Arial,Helvetica Neue,Helvetica,sans-serif; font-size:48px; text-anchor:middle;\\\" transform=\\\"rotate(0, 1473.21, 1541.47)\\\" x=\\\"1473.21\\\" y=\\\"1541.47\\\">0.6<\\/text>\\n<\\/g>\\n<g clip-path=\\\"url(#clip9700)\\\">\\n<text style=\\\"fill:#000000; fill-opacity:1; font-family:Arial,Helvetica Neue,Helvetica,sans-serif; font-size:48px; text-anchor:middle;\\\" transform=\\\"rotate(0, 1912.98, 1541.47)\\\" x=\\\"1912.98\\\" y=\\\"1541.47\\\">0.8<\\/text>\\n<\\/g>\\n<g clip-path=\\\"url(#clip9700)\\\">\\n<text style=\\\"fill:#000000; fill-opacity:1; font-family:Arial,Helvetica Neue,Helvetica,sans-serif; font-size:48px; text-anchor:middle;\\\" transform=\\\"rotate(0, 2352.76, 1541.47)\\\" x=\\\"2352.76\\\" y=\\\"1541.47\\\">1.0<\\/text>\\n<\\/g>\\n<g clip-path=\\\"url(#clip9700)\\\">\\n<text style=\\\"fill:#000000; fill-opacity:1; font-family:Arial,Helvetica Neue,Helvetica,sans-serif; font-size:48px; text-anchor:end;\\\" transform=\\\"rotate(0, 129.898, 1504.97)\\\" x=\\\"129.898\\\" y=\\\"1504.97\\\">0.0<\\/text>\\n<\\/g>\\n<g clip-path=\\\"url(#clip9700)\\\">\\n<text style=\\\"fill:#000000; fill-opacity:1; font-family:Arial,Helvetica Neue,Helvetica,sans-serif; font-size:48px; text-anchor:end;\\\" transform=\\\"rotate(0, 129.898, 1216.93)\\\" x=\\\"129.898\\\" y=\\\"1216.93\\\">0.2<\\/text>\\n<\\/g>\\n<g clip-path=\\\"url(#clip9700)\\\">\\n<text style=\\\"fill:#000000; fill-opacity:1; font-family:Arial,Helvetica Neue,Helvetica,sans-serif; font-size:48px; text-anchor:end;\\\" transform=\\\"rotate(0, 129.898, 928.882)\\\" x=\\\"129.898\\\" y=\\\"928.882\\\">0.4<\\/text>\\n<\\/g>\\n<g clip-path=\\\"url(#clip9700)\\\">\\n<text style=\\\"fill:#000000; fill-opacity:1; font-family:Arial,Helvetica Neue,Helvetica,sans-serif; font-size:48px; text-anchor:end;\\\" transform=\\\"rotate(0, 129.898, 640.836)\\\" x=\\\"129.898\\\" y=\\\"640.836\\\">0.6<\\/text>\\n<\\/g>\\n<g clip-path=\\\"url(#clip9700)\\\">\\n<text style=\\\"fill:#000000; fill-opacity:1; font-family:Arial,Helvetica Neue,Helvetica,sans-serif; font-size:48px; text-anchor:end;\\\" transform=\\\"rotate(0, 129.898, 352.79)\\\" x=\\\"129.898\\\" y=\\\"352.79\\\">0.8<\\/text>\\n<\\/g>\\n<g clip-path=\\\"url(#clip9700)\\\">\\n<text style=\\\"fill:#000000; fill-opacity:1; font-family:Arial,Helvetica Neue,Helvetica,sans-serif; font-size:48px; text-anchor:end;\\\" transform=\\\"rotate(0, 129.898, 64.7441)\\\" x=\\\"129.898\\\" y=\\\"64.7441\\\">1.0<\\/text>\\n<\\/g>\\n<\\/svg>\\n\"},\"nodeType\":\"DOM\",\"type\":\"node\",\"instanceArgs\":{\"namespace\":\"html\",\"tag\":\"div\"},\"children\":[]}]}}}},\"children\":[{\"props\":{},\"nodeType\":\"ObservableNode\",\"type\":\"node\",\"instanceArgs\":{\"id\":\"ob_09\",\"name\":\"obs-node\"},\"children\":[]}]}]},\n",
       "            window,\n",
       "        );\n",
       "    } else {\n",
       "        document\n",
       "            .querySelector('[data-webio-mountpoint=\"7551424880638668925\"]')\n",
       "            .innerHTML = (\n",
       "                '<div style=\"padding: 1em; background-color: #f8d6da; border: 1px solid #f5c6cb\">' +\n",
       "                '<p><strong>WebIO not detected.</strong></p>' +\n",
       "                '<p>Please read ' +\n",
       "                '<a href=\"https://juliagizmos.github.io/WebIO.jl/latest/troubleshooting/not-detected/\" target=\"_blank\">the troubleshooting guide</a> ' +\n",
       "                'for more information on how to resolve this issue.</p>' +\n",
       "                '<p><a href=\"https://juliagizmos.github.io/WebIO.jl/latest/troubleshooting/not-detected/\" target=\"_blank\">https://juliagizmos.github.io/WebIO.jl/latest/troubleshooting/not-detected/</a></p>' +\n",
       "                '</div>'\n",
       "            );\n",
       "    }\n",
       "    </script>\n",
       "</div>\n"
      ],
      "text/plain": [
       "Node{WebIO.DOM}(WebIO.DOM(:html, :div), Any[Node{WebIO.DOM}(WebIO.DOM(:html, :div), Any[Scope(Node{WebIO.DOM}(WebIO.DOM(:html, :div), Any[Node{WebIO.DOM}(WebIO.DOM(:html, :div), Any[Node{WebIO.DOM}(WebIO.DOM(:html, :input), Any[], Dict{Symbol,Any}(:attributes => Dict{String,Any}(\"name\" => Symbol(\"##403\"),\"type\" => \"checkbox\",\"data-bind\" => \"checked : \\$root.index, checkedValue: val, attr : {id : id}\"),:className => \"is-checkradio \")), Node{WebIO.DOM}(WebIO.DOM(:html, :label), Any[], Dict{Symbol,Any}(:attributes => Dict(\"data-bind\" => \"text : key, attr : {for : id}\")))], Dict{Symbol,Any}(:className => \"field\"))], Dict{Symbol,Any}(:attributes => Dict(\"data-bind\" => \"foreach : options_js\"),:className => :field)), Dict{String,Tuple{Observables.AbstractObservable,Union{Nothing, Bool}}}(\"options_js\" => (Observable{Any} with 1 listeners. Value:\n",
       "OrderedDict[OrderedDict{String,Any}(\"key\" => \"ALA Aland Islands\",\"val\" => 1,\"id\" => \"idYJGgxlzV\"), OrderedDict{String,Any}(\"key\" => \"Afghanistan\",\"val\" => 2,\"id\" => \"idsRWMbryR\"), OrderedDict{String,Any}(\"key\" => \"Albania\",\"val\" => 3,\"id\" => \"idmH3g8aXn\"), OrderedDict{String,Any}(\"key\" => \"Algeria\",\"val\" => 4,\"id\" => \"idx1X3Hr6M\"), OrderedDict{String,Any}(\"key\" => \"American Samoa\",\"val\" => 5,\"id\" => \"idXI7kGNZM\"), OrderedDict{String,Any}(\"key\" => \"Andorra\",\"val\" => 6,\"id\" => \"idswlyvTEr\"), OrderedDict{String,Any}(\"key\" => \"Angola\",\"val\" => 7,\"id\" => \"id0Z4xC3MK\"), OrderedDict{String,Any}(\"key\" => \"Anguilla\",\"val\" => 8,\"id\" => \"idEyyztsOq\"), OrderedDict{String,Any}(\"key\" => \"Antarctica\",\"val\" => 9,\"id\" => \"id9Jw2US0y\"), OrderedDict{String,Any}(\"key\" => \"Antigua and Barbuda\",\"val\" => 10,\"id\" => \"idGOAWixwy\")  …  OrderedDict{String,Any}(\"key\" => \"Uzbekistan\",\"val\" => 239,\"id\" => \"id5gD41nVw\"), OrderedDict{String,Any}(\"key\" => \"Vanuatu\",\"val\" => 240,\"id\" => \"idVkqvNsNE\"), OrderedDict{String,Any}(\"key\" => \"Venezuela (Bolivarian Republic)\",\"val\" => 241,\"id\" => \"idlsAqKqrm\"), OrderedDict{String,Any}(\"key\" => \"Viet Nam\",\"val\" => 242,\"id\" => \"idYlUEoHW9\"), OrderedDict{String,Any}(\"key\" => \"Virgin Islands, US\",\"val\" => 243,\"id\" => \"id8qAqPV8O\"), OrderedDict{String,Any}(\"key\" => \"Wallis and Futuna Islands\",\"val\" => 244,\"id\" => \"idqOldh0Xh\"), OrderedDict{String,Any}(\"key\" => \"Western Sahara\",\"val\" => 245,\"id\" => \"idNNtwRsBo\"), OrderedDict{String,Any}(\"key\" => \"Yemen\",\"val\" => 246,\"id\" => \"idScSjdPI0\"), OrderedDict{String,Any}(\"key\" => \"Zambia\",\"val\" => 247,\"id\" => \"id1mhYzgmR\"), OrderedDict{String,Any}(\"key\" => \"Zimbabwe\",\"val\" => 248,\"id\" => \"idxu8dIzgH\")], nothing),\"index\" => (Observable{Any} with 2 listeners. Value:\n",
       "Int64[], nothing)), Set(String[]), nothing, Asset[Asset(\"js\", \"knockout\", \"C:\\\\Users\\\\joaqu\\\\.julia\\\\packages\\\\Knockout\\\\IP1uR\\\\src\\\\..\\\\assets\\\\knockout.js\"), Asset(\"js\", \"knockout_punches\", \"C:\\\\Users\\\\joaqu\\\\.julia\\\\packages\\\\Knockout\\\\IP1uR\\\\src\\\\..\\\\assets\\\\knockout_punches.js\"), Asset(\"js\", nothing, \"C:\\\\Users\\\\joaqu\\\\.julia\\\\packages\\\\InteractBase\\\\9mFwe\\\\src\\\\..\\\\assets\\\\all.js\"), Asset(\"css\", nothing, \"C:\\\\Users\\\\joaqu\\\\.julia\\\\packages\\\\InteractBase\\\\9mFwe\\\\src\\\\..\\\\assets\\\\style.css\"), Asset(\"css\", nothing, \"C:\\\\Users\\\\joaqu\\\\.julia\\\\packages\\\\Interact\\\\SbgIk\\\\src\\\\..\\\\assets\\\\bulma_confined.min.css\")], Dict{Any,Any}(\"options_js\" => Any[WebIO.JSString(\"(function (val){return (val!=this.model[\\\"options_js\\\"]()) ? (this.valueFromJulia[\\\"options_js\\\"]=true, this.model[\\\"options_js\\\"](val)) : undefined})\")],\"index\" => Any[WebIO.JSString(\"(function (val){return (val!=this.model[\\\"index\\\"]()) ? (this.valueFromJulia[\\\"index\\\"]=true, this.model[\\\"index\\\"](val)) : undefined})\")]), WebIO.ConnectionPool(Channel{Any}(sz_max:32,sz_curr:0), Set(AbstractConnection[]), Base.GenericCondition{Base.AlwaysLockedST}(Base.InvasiveLinkedList{Task}(Task (runnable) @0x000000002226e570, Task (runnable) @0x000000002226e570), Base.AlwaysLockedST(1))), WebIO.JSString[WebIO.JSString(\"function () {\\n    var handler = (function (ko, koPunches) {\\n    ko.punches.enableAll();\\n    ko.bindingHandlers.numericValue = {\\n        init: function(element, valueAccessor, allBindings, data, context) {\\n            var stringified = ko.observable(ko.unwrap(valueAccessor()));\\n            stringified.subscribe(function(value) {\\n                var val = parseFloat(value);\\n                if (!isNaN(val)) {\\n                    valueAccessor()(val);\\n                }\\n            });\\n            valueAccessor().subscribe(function(value) {\\n                var str = JSON.stringify(value);\\n                if ((str == \\\"0\\\") && ([\\\"-0\\\", \\\"-0.\\\"].indexOf(stringified()) >= 0))\\n                     return;\\n                 if ([\\\"null\\\", \\\"\\\"].indexOf(str) >= 0)\\n                     return;\\n                stringified(str);\\n            });\\n            ko.applyBindingsToNode(\\n                element,\\n                {\\n                    value: stringified,\\n                    valueUpdate: allBindings.get('valueUpdate'),\\n                },\\n                context,\\n            );\\n        }\\n    };\\n    var json_data = {\\\"options_js\\\":WebIO.getval({\\\"name\\\":\\\"options_js\\\",\\\"scope\\\":\\\"192369440507733570\\\",\\\"id\\\":\\\"ob_05\\\",\\\"type\\\":\\\"observable\\\"}),\\\"index\\\":WebIO.getval({\\\"name\\\":\\\"index\\\",\\\"scope\\\":\\\"192369440507733570\\\",\\\"id\\\":\\\"ob_04\\\",\\\"type\\\":\\\"observable\\\"})};\\n    var self = this;\\n    function AppViewModel() {\\n        for (var key in json_data) {\\n            var el = json_data[key];\\n            this[key] = Array.isArray(el) ? ko.observableArray(el) : ko.observable(el);\\n        }\\n        \\n        \\n        [this[\\\"options_js\\\"].subscribe((function (val){!(this.valueFromJulia[\\\"options_js\\\"]) ? (WebIO.setval({\\\"name\\\":\\\"options_js\\\",\\\"scope\\\":\\\"192369440507733570\\\",\\\"id\\\":\\\"ob_05\\\",\\\"type\\\":\\\"observable\\\"},val)) : undefined; return this.valueFromJulia[\\\"options_js\\\"]=false}),self),this[\\\"index\\\"].subscribe((function (val){!(this.valueFromJulia[\\\"index\\\"]) ? (WebIO.setval({\\\"name\\\":\\\"index\\\",\\\"scope\\\":\\\"192369440507733570\\\",\\\"id\\\":\\\"ob_04\\\",\\\"type\\\":\\\"observable\\\"},val)) : undefined; return this.valueFromJulia[\\\"index\\\"]=false}),self)]\\n        \\n    }\\n    self.model = new AppViewModel();\\n    self.valueFromJulia = {};\\n    for (var key in json_data) {\\n        self.valueFromJulia[key] = false;\\n    }\\n    ko.applyBindings(self.model, self.dom);\\n}\\n);\\n    (WebIO.importBlock({\\\"data\\\":[{\\\"name\\\":\\\"knockout\\\",\\\"type\\\":\\\"js\\\",\\\"url\\\":\\\"/assetserver/938acb354ca4815fdbf66c3905eb221d0c578a85-knockout.js\\\"},{\\\"name\\\":\\\"knockout_punches\\\",\\\"type\\\":\\\"js\\\",\\\"url\\\":\\\"/assetserver/bb26f5035fc3d7a1bf0d38a7937f5dc87587e934-knockout_punches.js\\\"}],\\\"type\\\":\\\"async_block\\\"})).then((imports) => handler.apply(this, imports));\\n}\\n\")])], Dict{Symbol,Any}(:className => \"field interact-widget\")), Observable{Any} with 0 listeners. Value:\n",
       "Node{WebIO.DOM}(WebIO.DOM(:html, :div), Any[Plot{Plots.GRBackend() n=0}], Dict{Symbol,Any}(:className => \"interact-flex-row interact-widget\"))], Dict{Symbol,Any}())"
      ]
     },
     "execution_count": 3,
     "metadata": {
      "@webio": {
       "kernelId": "300a3940-f2d5-4fe0-bfd4-cc3d34f539bc"
      }
     },
     "output_type": "execute_result"
    }
   ],
   "source": [
    "@manipulate for paises = checkboxes(slugs)\n",
    "    p = plot()\n",
    "    for pais in paises\n",
    "        m = muertos(pais)\n",
    "        plot!(m.Date, m.Cases, label=pais)\n",
    "    end\n",
    "    p\n",
    "end"
   ]
  },
  {
   "cell_type": "code",
   "execution_count": 4,
   "metadata": {},
   "outputs": [
    {
     "data": {
      "application/vnd.webio.node+json": {
       "children": [
        {
         "children": [
          {
           "children": [
            {
             "children": [
              {
               "children": [
                {
                 "children": [],
                 "instanceArgs": {
                  "namespace": "html",
                  "tag": "input"
                 },
                 "nodeType": "DOM",
                 "props": {
                  "attributes": {
                   "data-bind": "checked : $root.index, checkedValue: val, attr : {id : id}",
                   "name": "##406",
                   "type": "checkbox"
                  },
                  "className": "is-checkradio "
                 },
                 "type": "node"
                },
                {
                 "children": [],
                 "instanceArgs": {
                  "namespace": "html",
                  "tag": "label"
                 },
                 "nodeType": "DOM",
                 "props": {
                  "attributes": {
                   "data-bind": "text : key, attr : {for : id}"
                  }
                 },
                 "type": "node"
                }
               ],
               "instanceArgs": {
                "namespace": "html",
                "tag": "div"
               },
               "nodeType": "DOM",
               "props": {
                "className": "field"
               },
               "type": "node"
              }
             ],
             "instanceArgs": {
              "namespace": "html",
              "tag": "div"
             },
             "nodeType": "DOM",
             "props": {
              "attributes": {
               "data-bind": "foreach : options_js"
              },
              "className": "field"
             },
             "type": "node"
            }
           ],
           "instanceArgs": {
            "handlers": {
             "index": [
              "(function (val){return (val!=this.model[\"index\"]()) ? (this.valueFromJulia[\"index\"]=true, this.model[\"index\"](val)) : undefined})"
             ],
             "options_js": [
              "(function (val){return (val!=this.model[\"options_js\"]()) ? (this.valueFromJulia[\"options_js\"]=true, this.model[\"options_js\"](val)) : undefined})"
             ]
            },
            "id": "11026386407558990472",
            "imports": {
             "data": [
              {
               "name": "knockout",
               "type": "js",
               "url": "/assetserver/938acb354ca4815fdbf66c3905eb221d0c578a85-knockout.js"
              },
              {
               "name": "knockout_punches",
               "type": "js",
               "url": "/assetserver/bb26f5035fc3d7a1bf0d38a7937f5dc87587e934-knockout_punches.js"
              },
              {
               "name": null,
               "type": "js",
               "url": "/assetserver/477af2faa28a6794de0f5ae5f9022d76de8f6d7c-all.js"
              },
              {
               "name": null,
               "type": "css",
               "url": "/assetserver/24cc7f7a0c028423a4dbc3bb7477d852515f6482-style.css"
              },
              {
               "name": null,
               "type": "css",
               "url": "/assetserver/7142905866658f89d3f4ad1638cd64a7c4495296-bulma_confined.min.css"
              }
             ],
             "type": "async_block"
            },
            "mount_callbacks": [
             "function () {\n    var handler = (function (ko, koPunches) {\n    ko.punches.enableAll();\n    ko.bindingHandlers.numericValue = {\n        init: function(element, valueAccessor, allBindings, data, context) {\n            var stringified = ko.observable(ko.unwrap(valueAccessor()));\n            stringified.subscribe(function(value) {\n                var val = parseFloat(value);\n                if (!isNaN(val)) {\n                    valueAccessor()(val);\n                }\n            });\n            valueAccessor().subscribe(function(value) {\n                var str = JSON.stringify(value);\n                if ((str == \"0\") && ([\"-0\", \"-0.\"].indexOf(stringified()) >= 0))\n                     return;\n                 if ([\"null\", \"\"].indexOf(str) >= 0)\n                     return;\n                stringified(str);\n            });\n            ko.applyBindingsToNode(\n                element,\n                {\n                    value: stringified,\n                    valueUpdate: allBindings.get('valueUpdate'),\n                },\n                context,\n            );\n        }\n    };\n    var json_data = {\"options_js\":WebIO.getval({\"name\":\"options_js\",\"scope\":\"11026386407558990472\",\"id\":\"ob_16\",\"type\":\"observable\"}),\"index\":WebIO.getval({\"name\":\"index\",\"scope\":\"11026386407558990472\",\"id\":\"ob_15\",\"type\":\"observable\"})};\n    var self = this;\n    function AppViewModel() {\n        for (var key in json_data) {\n            var el = json_data[key];\n            this[key] = Array.isArray(el) ? ko.observableArray(el) : ko.observable(el);\n        }\n        \n        \n        [this[\"options_js\"].subscribe((function (val){!(this.valueFromJulia[\"options_js\"]) ? (WebIO.setval({\"name\":\"options_js\",\"scope\":\"11026386407558990472\",\"id\":\"ob_16\",\"type\":\"observable\"},val)) : undefined; return this.valueFromJulia[\"options_js\"]=false}),self),this[\"index\"].subscribe((function (val){!(this.valueFromJulia[\"index\"]) ? (WebIO.setval({\"name\":\"index\",\"scope\":\"11026386407558990472\",\"id\":\"ob_15\",\"type\":\"observable\"},val)) : undefined; return this.valueFromJulia[\"index\"]=false}),self)]\n        \n    }\n    self.model = new AppViewModel();\n    self.valueFromJulia = {};\n    for (var key in json_data) {\n        self.valueFromJulia[key] = false;\n    }\n    ko.applyBindings(self.model, self.dom);\n}\n);\n    (WebIO.importBlock({\"data\":[{\"name\":\"knockout\",\"type\":\"js\",\"url\":\"/assetserver/938acb354ca4815fdbf66c3905eb221d0c578a85-knockout.js\"},{\"name\":\"knockout_punches\",\"type\":\"js\",\"url\":\"/assetserver/bb26f5035fc3d7a1bf0d38a7937f5dc87587e934-knockout_punches.js\"}],\"type\":\"async_block\"})).then((imports) => handler.apply(this, imports));\n}\n"
            ],
            "observables": {
             "index": {
              "id": "ob_15",
              "sync": true,
              "value": []
             },
             "options_js": {
              "id": "ob_16",
              "sync": false,
              "value": [
               {
                "id": "idIVAitgq6",
                "key": "ALA Aland Islands",
                "val": 1
               },
               {
                "id": "idxUCRKjdf",
                "key": "Afghanistan",
                "val": 2
               },
               {
                "id": "id4CEsOtxo",
                "key": "Albania",
                "val": 3
               },
               {
                "id": "id9C1nMsxF",
                "key": "Algeria",
                "val": 4
               },
               {
                "id": "idkk2PQtA0",
                "key": "American Samoa",
                "val": 5
               },
               {
                "id": "idtQVuclrI",
                "key": "Andorra",
                "val": 6
               },
               {
                "id": "iduHuOgGef",
                "key": "Angola",
                "val": 7
               },
               {
                "id": "idmq1Nfpjm",
                "key": "Anguilla",
                "val": 8
               },
               {
                "id": "idPhJj4n4X",
                "key": "Antarctica",
                "val": 9
               },
               {
                "id": "idyPVy9QYW",
                "key": "Antigua and Barbuda",
                "val": 10
               },
               {
                "id": "id99CwgsTa",
                "key": "Argentina",
                "val": 11
               },
               {
                "id": "idSAaI4mwD",
                "key": "Armenia",
                "val": 12
               },
               {
                "id": "idwOiDvIdL",
                "key": "Aruba",
                "val": 13
               },
               {
                "id": "idDDNrwLxf",
                "key": "Australia",
                "val": 14
               },
               {
                "id": "idqRIVOaQa",
                "key": "Austria",
                "val": 15
               },
               {
                "id": "idEirgSQ0g",
                "key": "Azerbaijan",
                "val": 16
               },
               {
                "id": "idpYzc0JJ6",
                "key": "Bahamas",
                "val": 17
               },
               {
                "id": "idqjYkKkHO",
                "key": "Bahrain",
                "val": 18
               },
               {
                "id": "idb2aNazMZ",
                "key": "Bangladesh",
                "val": 19
               },
               {
                "id": "idBDozXvSg",
                "key": "Barbados",
                "val": 20
               },
               {
                "id": "idq6pBV8O2",
                "key": "Belarus",
                "val": 21
               },
               {
                "id": "idMAFchX0O",
                "key": "Belgium",
                "val": 22
               },
               {
                "id": "idxPm5fuGQ",
                "key": "Belize",
                "val": 23
               },
               {
                "id": "id9C1zK72D",
                "key": "Benin",
                "val": 24
               },
               {
                "id": "idzoJcVycW",
                "key": "Bermuda",
                "val": 25
               },
               {
                "id": "idrJiIqQgr",
                "key": "Bhutan",
                "val": 26
               },
               {
                "id": "id2Y3K6OFo",
                "key": "Bolivia",
                "val": 27
               },
               {
                "id": "idNHPawqfL",
                "key": "Bosnia and Herzegovina",
                "val": 28
               },
               {
                "id": "idjtb5R6sH",
                "key": "Botswana",
                "val": 29
               },
               {
                "id": "idUJWNYWiB",
                "key": "Bouvet Island",
                "val": 30
               },
               {
                "id": "idA1SeqzDV",
                "key": "Brazil",
                "val": 31
               },
               {
                "id": "idenX05qBh",
                "key": "British Indian Ocean Territory",
                "val": 32
               },
               {
                "id": "idzk498poS",
                "key": "British Virgin Islands",
                "val": 33
               },
               {
                "id": "idzkZeSGai",
                "key": "Brunei Darussalam",
                "val": 34
               },
               {
                "id": "idi0KUmJa7",
                "key": "Bulgaria",
                "val": 35
               },
               {
                "id": "idC96N67Uv",
                "key": "Burkina Faso",
                "val": 36
               },
               {
                "id": "idbZs96F0u",
                "key": "Burundi",
                "val": 37
               },
               {
                "id": "idJVOXgwFd",
                "key": "Cambodia",
                "val": 38
               },
               {
                "id": "idFP8y4zdS",
                "key": "Cameroon",
                "val": 39
               },
               {
                "id": "idW7MiG7xY",
                "key": "Canada",
                "val": 40
               },
               {
                "id": "idmM5NtE7K",
                "key": "Cape Verde",
                "val": 41
               },
               {
                "id": "id9si1IWyQ",
                "key": "Cayman Islands",
                "val": 42
               },
               {
                "id": "id0z01Pkkq",
                "key": "Central African Republic",
                "val": 43
               },
               {
                "id": "idWCFiSGtv",
                "key": "Chad",
                "val": 44
               },
               {
                "id": "idjpiYwyFq",
                "key": "Chile",
                "val": 45
               },
               {
                "id": "idap6ok0uO",
                "key": "China",
                "val": 46
               },
               {
                "id": "idI7PYmjzq",
                "key": "Christmas Island",
                "val": 47
               },
               {
                "id": "idwkfggb0o",
                "key": "Cocos (Keeling) Islands",
                "val": 48
               },
               {
                "id": "idbNiwyPXL",
                "key": "Colombia",
                "val": 49
               },
               {
                "id": "idk1b70T1E",
                "key": "Comoros",
                "val": 50
               },
               {
                "id": "idIaSW1j19",
                "key": "Congo (Brazzaville)",
                "val": 51
               },
               {
                "id": "iddtud2yoY",
                "key": "Congo (Kinshasa)",
                "val": 52
               },
               {
                "id": "idZBRgFWrC",
                "key": "Cook Islands",
                "val": 53
               },
               {
                "id": "idxmuUC8vg",
                "key": "Costa Rica",
                "val": 54
               },
               {
                "id": "idgK4aO4d9",
                "key": "Croatia",
                "val": 55
               },
               {
                "id": "idzR6JJdus",
                "key": "Cuba",
                "val": 56
               },
               {
                "id": "idIuiZOxTN",
                "key": "Cyprus",
                "val": 57
               },
               {
                "id": "idg2fhBFts",
                "key": "Czech Republic",
                "val": 58
               },
               {
                "id": "idvLrQgxIF",
                "key": "Côte d'Ivoire",
                "val": 59
               },
               {
                "id": "idfUMPvHti",
                "key": "Denmark",
                "val": 60
               },
               {
                "id": "idviDYcZtQ",
                "key": "Djibouti",
                "val": 61
               },
               {
                "id": "idWynnzaO7",
                "key": "Dominica",
                "val": 62
               },
               {
                "id": "idRBEtQByh",
                "key": "Dominican Republic",
                "val": 63
               },
               {
                "id": "idu2h06igM",
                "key": "Ecuador",
                "val": 64
               },
               {
                "id": "idalfhajlz",
                "key": "Egypt",
                "val": 65
               },
               {
                "id": "idbL9SogdG",
                "key": "El Salvador",
                "val": 66
               },
               {
                "id": "idH6LlY4RH",
                "key": "Equatorial Guinea",
                "val": 67
               },
               {
                "id": "idy1G9pQZ8",
                "key": "Eritrea",
                "val": 68
               },
               {
                "id": "idwhbxenPi",
                "key": "Estonia",
                "val": 69
               },
               {
                "id": "idBUvmk6m2",
                "key": "Ethiopia",
                "val": 70
               },
               {
                "id": "idRo7baYVm",
                "key": "Falkland Islands (Malvinas)",
                "val": 71
               },
               {
                "id": "idT9GxoQqc",
                "key": "Faroe Islands",
                "val": 72
               },
               {
                "id": "idoHxU09Tl",
                "key": "Fiji",
                "val": 73
               },
               {
                "id": "idSm4iJpIt",
                "key": "Finland",
                "val": 74
               },
               {
                "id": "idbPlyi4ON",
                "key": "France",
                "val": 75
               },
               {
                "id": "idkJ5iLU9S",
                "key": "French Guiana",
                "val": 76
               },
               {
                "id": "idcVY0V2dm",
                "key": "French Polynesia",
                "val": 77
               },
               {
                "id": "idCuRqyWFa",
                "key": "French Southern Territories",
                "val": 78
               },
               {
                "id": "id3g7F6JIU",
                "key": "Gabon",
                "val": 79
               },
               {
                "id": "id9WrNSTN6",
                "key": "Gambia",
                "val": 80
               },
               {
                "id": "idB2vzGwVM",
                "key": "Georgia",
                "val": 81
               },
               {
                "id": "id4PWLkOBI",
                "key": "Germany",
                "val": 82
               },
               {
                "id": "idPCTnlniP",
                "key": "Ghana",
                "val": 83
               },
               {
                "id": "idlYyctWKZ",
                "key": "Gibraltar",
                "val": 84
               },
               {
                "id": "iducn2zRjg",
                "key": "Greece",
                "val": 85
               },
               {
                "id": "idID6WTwtQ",
                "key": "Greenland",
                "val": 86
               },
               {
                "id": "idhez5cBxz",
                "key": "Grenada",
                "val": 87
               },
               {
                "id": "idWjfu4kGR",
                "key": "Guadeloupe",
                "val": 88
               },
               {
                "id": "idDfuKldX5",
                "key": "Guam",
                "val": 89
               },
               {
                "id": "idWqDmdC9c",
                "key": "Guatemala",
                "val": 90
               },
               {
                "id": "id9mCS9pTK",
                "key": "Guernsey",
                "val": 91
               },
               {
                "id": "idO7FpXXlH",
                "key": "Guinea",
                "val": 92
               },
               {
                "id": "iddpXk4S3B",
                "key": "Guinea-Bissau",
                "val": 93
               },
               {
                "id": "idiB8ac8bv",
                "key": "Guyana",
                "val": 94
               },
               {
                "id": "id21WdPFKq",
                "key": "Haiti",
                "val": 95
               },
               {
                "id": "idh3SL3meC",
                "key": "Heard and Mcdonald Islands",
                "val": 96
               },
               {
                "id": "idq9p7pm0x",
                "key": "Holy See (Vatican City State)",
                "val": 97
               },
               {
                "id": "id8O1HiESE",
                "key": "Honduras",
                "val": 98
               },
               {
                "id": "idWJQe4ss0",
                "key": "Hong Kong, SAR China",
                "val": 99
               },
               {
                "id": "idddaznQt6",
                "key": "Hungary",
                "val": 100
               },
               {
                "id": "idZY92rQai",
                "key": "Iceland",
                "val": 101
               },
               {
                "id": "idECBUF635",
                "key": "India",
                "val": 102
               },
               {
                "id": "idxC7KVOVR",
                "key": "Indonesia",
                "val": 103
               },
               {
                "id": "idxp6jPyqv",
                "key": "Iran, Islamic Republic of",
                "val": 104
               },
               {
                "id": "idLIVrcbHk",
                "key": "Iraq",
                "val": 105
               },
               {
                "id": "idVy4GraKr",
                "key": "Ireland",
                "val": 106
               },
               {
                "id": "idw9fFxRfj",
                "key": "Isle of Man",
                "val": 107
               },
               {
                "id": "idZO9zz4Hr",
                "key": "Israel",
                "val": 108
               },
               {
                "id": "idOSSp9MUY",
                "key": "Italy",
                "val": 109
               },
               {
                "id": "id3aK57AX0",
                "key": "Jamaica",
                "val": 110
               },
               {
                "id": "idhXxt3wk6",
                "key": "Japan",
                "val": 111
               },
               {
                "id": "idI21hR5vb",
                "key": "Jersey",
                "val": 112
               },
               {
                "id": "idIV5optZw",
                "key": "Jordan",
                "val": 113
               },
               {
                "id": "idUbo1okLp",
                "key": "Kazakhstan",
                "val": 114
               },
               {
                "id": "id90mqmosM",
                "key": "Kenya",
                "val": 115
               },
               {
                "id": "id6zllYi3v",
                "key": "Kiribati",
                "val": 116
               },
               {
                "id": "id1gDpCFZQ",
                "key": "Korea (North)",
                "val": 117
               },
               {
                "id": "idusXWBXXf",
                "key": "Korea (South)",
                "val": 118
               },
               {
                "id": "idYF0qVJB0",
                "key": "Kuwait",
                "val": 119
               },
               {
                "id": "idAFqy2bMP",
                "key": "Kyrgyzstan",
                "val": 120
               },
               {
                "id": "id0chRFG0m",
                "key": "Lao PDR",
                "val": 121
               },
               {
                "id": "idebJz7fjN",
                "key": "Latvia",
                "val": 122
               },
               {
                "id": "idayx6ywtH",
                "key": "Lebanon",
                "val": 123
               },
               {
                "id": "idrAKhBFZ1",
                "key": "Lesotho",
                "val": 124
               },
               {
                "id": "id9KxY9rsG",
                "key": "Liberia",
                "val": 125
               },
               {
                "id": "idIx6R28wl",
                "key": "Libya",
                "val": 126
               },
               {
                "id": "idKIATIa5D",
                "key": "Liechtenstein",
                "val": 127
               },
               {
                "id": "idUt6QnNiO",
                "key": "Lithuania",
                "val": 128
               },
               {
                "id": "ido2NiUPEv",
                "key": "Luxembourg",
                "val": 129
               },
               {
                "id": "idgJTicoH4",
                "key": "Macao, SAR China",
                "val": 130
               },
               {
                "id": "id9ZJhL41k",
                "key": "Macedonia, Republic of",
                "val": 131
               },
               {
                "id": "idQVJzfIK4",
                "key": "Madagascar",
                "val": 132
               },
               {
                "id": "idHMj7HRhM",
                "key": "Malawi",
                "val": 133
               },
               {
                "id": "id3CZnk9FP",
                "key": "Malaysia",
                "val": 134
               },
               {
                "id": "idsOG58OO3",
                "key": "Maldives",
                "val": 135
               },
               {
                "id": "idXgGvURxk",
                "key": "Mali",
                "val": 136
               },
               {
                "id": "idVCt6UKg1",
                "key": "Malta",
                "val": 137
               },
               {
                "id": "idVQZFuHwU",
                "key": "Marshall Islands",
                "val": 138
               },
               {
                "id": "idawZl4b6E",
                "key": "Martinique",
                "val": 139
               },
               {
                "id": "id3MWQXLqe",
                "key": "Mauritania",
                "val": 140
               },
               {
                "id": "idiOSEEdXu",
                "key": "Mauritius",
                "val": 141
               },
               {
                "id": "idCVN48f4a",
                "key": "Mayotte",
                "val": 142
               },
               {
                "id": "idyqO6CqTB",
                "key": "Mexico",
                "val": 143
               },
               {
                "id": "idF6uTmqQB",
                "key": "Micronesia, Federated States of",
                "val": 144
               },
               {
                "id": "idxcQy6r4T",
                "key": "Moldova",
                "val": 145
               },
               {
                "id": "idkNAqcwvB",
                "key": "Monaco",
                "val": 146
               },
               {
                "id": "idSdxPCdTA",
                "key": "Mongolia",
                "val": 147
               },
               {
                "id": "id7FNtitTa",
                "key": "Montenegro",
                "val": 148
               },
               {
                "id": "iddlSxQ1js",
                "key": "Montserrat",
                "val": 149
               },
               {
                "id": "idLUyEKIgh",
                "key": "Morocco",
                "val": 150
               },
               {
                "id": "idfOJf00Zs",
                "key": "Mozambique",
                "val": 151
               },
               {
                "id": "idpwaobHCN",
                "key": "Myanmar",
                "val": 152
               },
               {
                "id": "idCPA2xxua",
                "key": "Namibia",
                "val": 153
               },
               {
                "id": "id2o8dfeZI",
                "key": "Nauru",
                "val": 154
               },
               {
                "id": "idEdfZhtFz",
                "key": "Nepal",
                "val": 155
               },
               {
                "id": "idMp9KMfmj",
                "key": "Netherlands",
                "val": 156
               },
               {
                "id": "idzvnf2JQI",
                "key": "Netherlands Antilles",
                "val": 157
               },
               {
                "id": "idDL78f8tl",
                "key": "New Caledonia",
                "val": 158
               },
               {
                "id": "ida9w4U7it",
                "key": "New Zealand",
                "val": 159
               },
               {
                "id": "id72DTxPLX",
                "key": "Nicaragua",
                "val": 160
               },
               {
                "id": "idDIQMGEMX",
                "key": "Niger",
                "val": 161
               },
               {
                "id": "idpQw1NDXH",
                "key": "Nigeria",
                "val": 162
               },
               {
                "id": "iddGKJ8V1l",
                "key": "Niue",
                "val": 163
               },
               {
                "id": "idPuXBSb0W",
                "key": "Norfolk Island",
                "val": 164
               },
               {
                "id": "idZmCMfuMt",
                "key": "Northern Mariana Islands",
                "val": 165
               },
               {
                "id": "idkhGYnmzX",
                "key": "Norway",
                "val": 166
               },
               {
                "id": "idvu3yubtP",
                "key": "Oman",
                "val": 167
               },
               {
                "id": "idYIieo815",
                "key": "Pakistan",
                "val": 168
               },
               {
                "id": "id4va6smGh",
                "key": "Palau",
                "val": 169
               },
               {
                "id": "idIj7f6lOZ",
                "key": "Palestinian Territory",
                "val": 170
               },
               {
                "id": "idKyq0ULdY",
                "key": "Panama",
                "val": 171
               },
               {
                "id": "idl2meUNgc",
                "key": "Papua New Guinea",
                "val": 172
               },
               {
                "id": "idao1DQKEL",
                "key": "Paraguay",
                "val": 173
               },
               {
                "id": "idmHf4uSbO",
                "key": "Peru",
                "val": 174
               },
               {
                "id": "idpJvM7w5j",
                "key": "Philippines",
                "val": 175
               },
               {
                "id": "id5Cb0208c",
                "key": "Pitcairn",
                "val": 176
               },
               {
                "id": "idl7tyAjs0",
                "key": "Poland",
                "val": 177
               },
               {
                "id": "idKe20WU4I",
                "key": "Portugal",
                "val": 178
               },
               {
                "id": "id6MyeCY20",
                "key": "Puerto Rico",
                "val": 179
               },
               {
                "id": "idvVQY9xzh",
                "key": "Qatar",
                "val": 180
               },
               {
                "id": "idm3hmu7XA",
                "key": "Republic of Kosovo",
                "val": 181
               },
               {
                "id": "idyyGe5vDb",
                "key": "Romania",
                "val": 182
               },
               {
                "id": "idpS7QEKLV",
                "key": "Russian Federation",
                "val": 183
               },
               {
                "id": "id3Ydxi5kO",
                "key": "Rwanda",
                "val": 184
               },
               {
                "id": "idL8hOrTei",
                "key": "Réunion",
                "val": 185
               },
               {
                "id": "idveFOBUNu",
                "key": "Saint Helena",
                "val": 186
               },
               {
                "id": "idR2Nov0g9",
                "key": "Saint Kitts and Nevis",
                "val": 187
               },
               {
                "id": "idnviuvyVp",
                "key": "Saint Lucia",
                "val": 188
               },
               {
                "id": "ido2P9KX9s",
                "key": "Saint Pierre and Miquelon",
                "val": 189
               },
               {
                "id": "idWp0cF2v4",
                "key": "Saint Vincent and Grenadines",
                "val": 190
               },
               {
                "id": "idpBJL9CA6",
                "key": "Saint-Barthélemy",
                "val": 191
               },
               {
                "id": "idSqvo9m3G",
                "key": "Saint-Martin (French part)",
                "val": 192
               },
               {
                "id": "idNTZ5AA54",
                "key": "Samoa",
                "val": 193
               },
               {
                "id": "idamrQfhja",
                "key": "San Marino",
                "val": 194
               },
               {
                "id": "idm60wQqfd",
                "key": "Sao Tome and Principe",
                "val": 195
               },
               {
                "id": "id5WgPw3AL",
                "key": "Saudi Arabia",
                "val": 196
               },
               {
                "id": "idOooSGO6M",
                "key": "Senegal",
                "val": 197
               },
               {
                "id": "idjXqUKR6V",
                "key": "Serbia",
                "val": 198
               },
               {
                "id": "idoEhkqtNI",
                "key": "Seychelles",
                "val": 199
               },
               {
                "id": "idoTzA7rft",
                "key": "Sierra Leone",
                "val": 200
               },
               {
                "id": "idaEbdyQWS",
                "key": "Singapore",
                "val": 201
               },
               {
                "id": "idRvuWHsyE",
                "key": "Slovakia",
                "val": 202
               },
               {
                "id": "idyoEg9qVo",
                "key": "Slovenia",
                "val": 203
               },
               {
                "id": "idtgbfF3mQ",
                "key": "Solomon Islands",
                "val": 204
               },
               {
                "id": "id9hrdXsDS",
                "key": "Somalia",
                "val": 205
               },
               {
                "id": "id5S41Kvym",
                "key": "South Africa",
                "val": 206
               },
               {
                "id": "idH8kSXhGn",
                "key": "South Georgia and the South Sandwich Islands",
                "val": 207
               },
               {
                "id": "idUDQKnDZV",
                "key": "South Sudan",
                "val": 208
               },
               {
                "id": "idp66rNU0e",
                "key": "Spain",
                "val": 209
               },
               {
                "id": "idba0jAT4I",
                "key": "Sri Lanka",
                "val": 210
               },
               {
                "id": "idFabkRuWx",
                "key": "Sudan",
                "val": 211
               },
               {
                "id": "idps2JZLvF",
                "key": "Suriname",
                "val": 212
               },
               {
                "id": "id343MMcdz",
                "key": "Svalbard and Jan Mayen Islands",
                "val": 213
               },
               {
                "id": "idJlWZXkC3",
                "key": "Swaziland",
                "val": 214
               },
               {
                "id": "idv26MI5fr",
                "key": "Sweden",
                "val": 215
               },
               {
                "id": "id7vud72r9",
                "key": "Switzerland",
                "val": 216
               },
               {
                "id": "idSUqS6Aak",
                "key": "Syrian Arab Republic (Syria)",
                "val": 217
               },
               {
                "id": "idsnDGKgXQ",
                "key": "Taiwan, Republic of China",
                "val": 218
               },
               {
                "id": "idS2D8HPIF",
                "key": "Tajikistan",
                "val": 219
               },
               {
                "id": "idDo2LcAGd",
                "key": "Tanzania, United Republic of",
                "val": 220
               },
               {
                "id": "idS2D3xjUa",
                "key": "Thailand",
                "val": 221
               },
               {
                "id": "idOfrQuvOM",
                "key": "Timor-Leste",
                "val": 222
               },
               {
                "id": "idXoNHFVxf",
                "key": "Togo",
                "val": 223
               },
               {
                "id": "idARPY8N33",
                "key": "Tokelau",
                "val": 224
               },
               {
                "id": "idQIgTCUiX",
                "key": "Tonga",
                "val": 225
               },
               {
                "id": "idKNEVQPQ4",
                "key": "Trinidad and Tobago",
                "val": 226
               },
               {
                "id": "id2ARbJE3S",
                "key": "Tunisia",
                "val": 227
               },
               {
                "id": "idobRVhFFb",
                "key": "Turkey",
                "val": 228
               },
               {
                "id": "idvQoDiyBD",
                "key": "Turkmenistan",
                "val": 229
               },
               {
                "id": "idezsMdowR",
                "key": "Turks and Caicos Islands",
                "val": 230
               },
               {
                "id": "idGtw09sMn",
                "key": "Tuvalu",
                "val": 231
               },
               {
                "id": "idV5W72BQC",
                "key": "US Minor Outlying Islands",
                "val": 232
               },
               {
                "id": "idk9cD6ebs",
                "key": "Uganda",
                "val": 233
               },
               {
                "id": "idOSRU2rIp",
                "key": "Ukraine",
                "val": 234
               },
               {
                "id": "idtOQZWVzH",
                "key": "United Arab Emirates",
                "val": 235
               },
               {
                "id": "idPnTCMDhD",
                "key": "United Kingdom",
                "val": 236
               },
               {
                "id": "idZtc5I3Wp",
                "key": "United States of America",
                "val": 237
               },
               {
                "id": "idKGs9nrvz",
                "key": "Uruguay",
                "val": 238
               },
               {
                "id": "idmqVvHsTF",
                "key": "Uzbekistan",
                "val": 239
               },
               {
                "id": "idZjTdiZhc",
                "key": "Vanuatu",
                "val": 240
               },
               {
                "id": "idb812bKPY",
                "key": "Venezuela (Bolivarian Republic)",
                "val": 241
               },
               {
                "id": "ide9tSTdrL",
                "key": "Viet Nam",
                "val": 242
               },
               {
                "id": "idHi9rBolD",
                "key": "Virgin Islands, US",
                "val": 243
               },
               {
                "id": "idyoFfnXmR",
                "key": "Wallis and Futuna Islands",
                "val": 244
               },
               {
                "id": "idwW5HTrOV",
                "key": "Western Sahara",
                "val": 245
               },
               {
                "id": "idNLSolDUo",
                "key": "Yemen",
                "val": 246
               },
               {
                "id": "idFzd61qdV",
                "key": "Zambia",
                "val": 247
               },
               {
                "id": "idBtcfxH4r",
                "key": "Zimbabwe",
                "val": 248
               }
              ]
             }
            },
            "systemjs_options": null
           },
           "nodeType": "Scope",
           "props": {},
           "type": "node"
          }
         ],
         "instanceArgs": {
          "namespace": "html",
          "tag": "div"
         },
         "nodeType": "DOM",
         "props": {
          "className": "field interact-widget"
         },
         "type": "node"
        },
        {
         "children": [
          {
           "children": [],
           "instanceArgs": {
            "id": "ob_22",
            "name": "obs-node"
           },
           "nodeType": "ObservableNode",
           "props": {},
           "type": "node"
          }
         ],
         "instanceArgs": {
          "handlers": {},
          "id": "16654047090625166613",
          "imports": {
           "data": [],
           "type": "async_block"
          },
          "mount_callbacks": [],
          "observables": {
           "obs-node": {
            "id": "ob_22",
            "sync": false,
            "value": {
             "children": [
              {
               "children": [],
               "instanceArgs": {
                "namespace": "html",
                "tag": "div"
               },
               "nodeType": "DOM",
               "props": {
                "setInnerHtml": "<?xml version=\"1.0\" encoding=\"utf-8\"?>\n<svg xmlns=\"http://www.w3.org/2000/svg\" xmlns:xlink=\"http://www.w3.org/1999/xlink\" width=\"600\" height=\"400\" viewBox=\"0 0 2400 1600\">\n<defs>\n  <clipPath id=\"clip0900\">\n    <rect x=\"0\" y=\"0\" width=\"2400\" height=\"1600\"/>\n  </clipPath>\n</defs>\n<path clip-path=\"url(#clip0900)\" d=\"\nM0 1600 L2400 1600 L2400 0 L0 0  Z\n  \" fill=\"#ffffff\" fill-rule=\"evenodd\" fill-opacity=\"1\"/>\n<defs>\n  <clipPath id=\"clip0901\">\n    <rect x=\"480\" y=\"0\" width=\"1681\" height=\"1600\"/>\n  </clipPath>\n</defs>\n<path clip-path=\"url(#clip0900)\" d=\"\nM153.898 1487.47 L2352.76 1487.47 L2352.76 47.2441 L153.898 47.2441  Z\n  \" fill=\"#ffffff\" fill-rule=\"evenodd\" fill-opacity=\"1\"/>\n<defs>\n  <clipPath id=\"clip0902\">\n    <rect x=\"153\" y=\"47\" width=\"2200\" height=\"1441\"/>\n  </clipPath>\n</defs>\n<polyline clip-path=\"url(#clip0902)\" style=\"stroke:#000000; stroke-width:2; stroke-opacity:0.1; fill:none\" points=\"\n  153.898,1487.47 153.898,47.2441 \n  \"/>\n<polyline clip-path=\"url(#clip0902)\" style=\"stroke:#000000; stroke-width:2; stroke-opacity:0.1; fill:none\" points=\"\n  593.67,1487.47 593.67,47.2441 \n  \"/>\n<polyline clip-path=\"url(#clip0902)\" style=\"stroke:#000000; stroke-width:2; stroke-opacity:0.1; fill:none\" points=\"\n  1033.44,1487.47 1033.44,47.2441 \n  \"/>\n<polyline clip-path=\"url(#clip0902)\" style=\"stroke:#000000; stroke-width:2; stroke-opacity:0.1; fill:none\" points=\"\n  1473.21,1487.47 1473.21,47.2441 \n  \"/>\n<polyline clip-path=\"url(#clip0902)\" style=\"stroke:#000000; stroke-width:2; stroke-opacity:0.1; fill:none\" points=\"\n  1912.98,1487.47 1912.98,47.2441 \n  \"/>\n<polyline clip-path=\"url(#clip0902)\" style=\"stroke:#000000; stroke-width:2; stroke-opacity:0.1; fill:none\" points=\"\n  2352.76,1487.47 2352.76,47.2441 \n  \"/>\n<polyline clip-path=\"url(#clip0902)\" style=\"stroke:#000000; stroke-width:2; stroke-opacity:0.1; fill:none\" points=\"\n  153.898,1487.47 2352.76,1487.47 \n  \"/>\n<polyline clip-path=\"url(#clip0902)\" style=\"stroke:#000000; stroke-width:2; stroke-opacity:0.1; fill:none\" points=\"\n  153.898,1199.43 2352.76,1199.43 \n  \"/>\n<polyline clip-path=\"url(#clip0902)\" style=\"stroke:#000000; stroke-width:2; stroke-opacity:0.1; fill:none\" points=\"\n  153.898,911.382 2352.76,911.382 \n  \"/>\n<polyline clip-path=\"url(#clip0902)\" style=\"stroke:#000000; stroke-width:2; stroke-opacity:0.1; fill:none\" points=\"\n  153.898,623.336 2352.76,623.336 \n  \"/>\n<polyline clip-path=\"url(#clip0902)\" style=\"stroke:#000000; stroke-width:2; stroke-opacity:0.1; fill:none\" points=\"\n  153.898,335.29 2352.76,335.29 \n  \"/>\n<polyline clip-path=\"url(#clip0902)\" style=\"stroke:#000000; stroke-width:2; stroke-opacity:0.1; fill:none\" points=\"\n  153.898,47.2441 2352.76,47.2441 \n  \"/>\n<polyline clip-path=\"url(#clip0900)\" style=\"stroke:#000000; stroke-width:4; stroke-opacity:1; fill:none\" points=\"\n  153.898,1487.47 2352.76,1487.47 \n  \"/>\n<polyline clip-path=\"url(#clip0900)\" style=\"stroke:#000000; stroke-width:4; stroke-opacity:1; fill:none\" points=\"\n  153.898,1487.47 153.898,47.2441 \n  \"/>\n<polyline clip-path=\"url(#clip0900)\" style=\"stroke:#000000; stroke-width:4; stroke-opacity:1; fill:none\" points=\"\n  153.898,1487.47 153.898,1470.19 \n  \"/>\n<polyline clip-path=\"url(#clip0900)\" style=\"stroke:#000000; stroke-width:4; stroke-opacity:1; fill:none\" points=\"\n  593.67,1487.47 593.67,1470.19 \n  \"/>\n<polyline clip-path=\"url(#clip0900)\" style=\"stroke:#000000; stroke-width:4; stroke-opacity:1; fill:none\" points=\"\n  1033.44,1487.47 1033.44,1470.19 \n  \"/>\n<polyline clip-path=\"url(#clip0900)\" style=\"stroke:#000000; stroke-width:4; stroke-opacity:1; fill:none\" points=\"\n  1473.21,1487.47 1473.21,1470.19 \n  \"/>\n<polyline clip-path=\"url(#clip0900)\" style=\"stroke:#000000; stroke-width:4; stroke-opacity:1; fill:none\" points=\"\n  1912.98,1487.47 1912.98,1470.19 \n  \"/>\n<polyline clip-path=\"url(#clip0900)\" style=\"stroke:#000000; stroke-width:4; stroke-opacity:1; fill:none\" points=\"\n  2352.76,1487.47 2352.76,1470.19 \n  \"/>\n<polyline clip-path=\"url(#clip0900)\" style=\"stroke:#000000; stroke-width:4; stroke-opacity:1; fill:none\" points=\"\n  153.898,1487.47 180.284,1487.47 \n  \"/>\n<polyline clip-path=\"url(#clip0900)\" style=\"stroke:#000000; stroke-width:4; stroke-opacity:1; fill:none\" points=\"\n  153.898,1199.43 180.284,1199.43 \n  \"/>\n<polyline clip-path=\"url(#clip0900)\" style=\"stroke:#000000; stroke-width:4; stroke-opacity:1; fill:none\" points=\"\n  153.898,911.382 180.284,911.382 \n  \"/>\n<polyline clip-path=\"url(#clip0900)\" style=\"stroke:#000000; stroke-width:4; stroke-opacity:1; fill:none\" points=\"\n  153.898,623.336 180.284,623.336 \n  \"/>\n<polyline clip-path=\"url(#clip0900)\" style=\"stroke:#000000; stroke-width:4; stroke-opacity:1; fill:none\" points=\"\n  153.898,335.29 180.284,335.29 \n  \"/>\n<polyline clip-path=\"url(#clip0900)\" style=\"stroke:#000000; stroke-width:4; stroke-opacity:1; fill:none\" points=\"\n  153.898,47.2441 180.284,47.2441 \n  \"/>\n<g clip-path=\"url(#clip0900)\">\n<text style=\"fill:#000000; fill-opacity:1; font-family:Arial,Helvetica Neue,Helvetica,sans-serif; font-size:48px; text-anchor:middle;\" transform=\"rotate(0, 153.898, 1541.47)\" x=\"153.898\" y=\"1541.47\">0.0</text>\n</g>\n<g clip-path=\"url(#clip0900)\">\n<text style=\"fill:#000000; fill-opacity:1; font-family:Arial,Helvetica Neue,Helvetica,sans-serif; font-size:48px; text-anchor:middle;\" transform=\"rotate(0, 593.67, 1541.47)\" x=\"593.67\" y=\"1541.47\">0.2</text>\n</g>\n<g clip-path=\"url(#clip0900)\">\n<text style=\"fill:#000000; fill-opacity:1; font-family:Arial,Helvetica Neue,Helvetica,sans-serif; font-size:48px; text-anchor:middle;\" transform=\"rotate(0, 1033.44, 1541.47)\" x=\"1033.44\" y=\"1541.47\">0.4</text>\n</g>\n<g clip-path=\"url(#clip0900)\">\n<text style=\"fill:#000000; fill-opacity:1; font-family:Arial,Helvetica Neue,Helvetica,sans-serif; font-size:48px; text-anchor:middle;\" transform=\"rotate(0, 1473.21, 1541.47)\" x=\"1473.21\" y=\"1541.47\">0.6</text>\n</g>\n<g clip-path=\"url(#clip0900)\">\n<text style=\"fill:#000000; fill-opacity:1; font-family:Arial,Helvetica Neue,Helvetica,sans-serif; font-size:48px; text-anchor:middle;\" transform=\"rotate(0, 1912.98, 1541.47)\" x=\"1912.98\" y=\"1541.47\">0.8</text>\n</g>\n<g clip-path=\"url(#clip0900)\">\n<text style=\"fill:#000000; fill-opacity:1; font-family:Arial,Helvetica Neue,Helvetica,sans-serif; font-size:48px; text-anchor:middle;\" transform=\"rotate(0, 2352.76, 1541.47)\" x=\"2352.76\" y=\"1541.47\">1.0</text>\n</g>\n<g clip-path=\"url(#clip0900)\">\n<text style=\"fill:#000000; fill-opacity:1; font-family:Arial,Helvetica Neue,Helvetica,sans-serif; font-size:48px; text-anchor:end;\" transform=\"rotate(0, 129.898, 1504.97)\" x=\"129.898\" y=\"1504.97\">0.0</text>\n</g>\n<g clip-path=\"url(#clip0900)\">\n<text style=\"fill:#000000; fill-opacity:1; font-family:Arial,Helvetica Neue,Helvetica,sans-serif; font-size:48px; text-anchor:end;\" transform=\"rotate(0, 129.898, 1216.93)\" x=\"129.898\" y=\"1216.93\">0.2</text>\n</g>\n<g clip-path=\"url(#clip0900)\">\n<text style=\"fill:#000000; fill-opacity:1; font-family:Arial,Helvetica Neue,Helvetica,sans-serif; font-size:48px; text-anchor:end;\" transform=\"rotate(0, 129.898, 928.882)\" x=\"129.898\" y=\"928.882\">0.4</text>\n</g>\n<g clip-path=\"url(#clip0900)\">\n<text style=\"fill:#000000; fill-opacity:1; font-family:Arial,Helvetica Neue,Helvetica,sans-serif; font-size:48px; text-anchor:end;\" transform=\"rotate(0, 129.898, 640.836)\" x=\"129.898\" y=\"640.836\">0.6</text>\n</g>\n<g clip-path=\"url(#clip0900)\">\n<text style=\"fill:#000000; fill-opacity:1; font-family:Arial,Helvetica Neue,Helvetica,sans-serif; font-size:48px; text-anchor:end;\" transform=\"rotate(0, 129.898, 352.79)\" x=\"129.898\" y=\"352.79\">0.8</text>\n</g>\n<g clip-path=\"url(#clip0900)\">\n<text style=\"fill:#000000; fill-opacity:1; font-family:Arial,Helvetica Neue,Helvetica,sans-serif; font-size:48px; text-anchor:end;\" transform=\"rotate(0, 129.898, 64.7441)\" x=\"129.898\" y=\"64.7441\">1.0</text>\n</g>\n</svg>\n"
               },
               "type": "node"
              }
             ],
             "instanceArgs": {
              "namespace": "html",
              "tag": "div"
             },
             "nodeType": "DOM",
             "props": {
              "className": "interact-flex-row interact-widget"
             },
             "type": "node"
            }
           }
          },
          "systemjs_options": null
         },
         "nodeType": "Scope",
         "props": {},
         "type": "node"
        }
       ],
       "instanceArgs": {
        "namespace": "html",
        "tag": "div"
       },
       "nodeType": "DOM",
       "props": {},
       "type": "node"
      },
      "text/html": [
       "<div\n",
       "    class=\"webio-mountpoint\"\n",
       "    data-webio-mountpoint=\"14321010839612251837\"\n",
       ">\n",
       "    <script>\n",
       "    if (window.require && require.defined && require.defined(\"nbextensions/webio-jupyter-notebook\")) {\n",
       "        console.log(\"Jupyter WebIO extension detected, not mounting.\");\n",
       "    } else if (window.WebIO) {\n",
       "        WebIO.mount(\n",
       "            document.querySelector('[data-webio-mountpoint=\"14321010839612251837\"]'),\n",
       "            {\"props\":{},\"nodeType\":\"DOM\",\"type\":\"node\",\"instanceArgs\":{\"namespace\":\"html\",\"tag\":\"div\"},\"children\":[{\"props\":{\"className\":\"field interact-widget\"},\"nodeType\":\"DOM\",\"type\":\"node\",\"instanceArgs\":{\"namespace\":\"html\",\"tag\":\"div\"},\"children\":[{\"props\":{},\"nodeType\":\"Scope\",\"type\":\"node\",\"instanceArgs\":{\"imports\":{\"data\":[{\"name\":\"knockout\",\"type\":\"js\",\"url\":\"\\/assetserver\\/938acb354ca4815fdbf66c3905eb221d0c578a85-knockout.js\"},{\"name\":\"knockout_punches\",\"type\":\"js\",\"url\":\"\\/assetserver\\/bb26f5035fc3d7a1bf0d38a7937f5dc87587e934-knockout_punches.js\"},{\"name\":null,\"type\":\"js\",\"url\":\"\\/assetserver\\/477af2faa28a6794de0f5ae5f9022d76de8f6d7c-all.js\"},{\"name\":null,\"type\":\"css\",\"url\":\"\\/assetserver\\/24cc7f7a0c028423a4dbc3bb7477d852515f6482-style.css\"},{\"name\":null,\"type\":\"css\",\"url\":\"\\/assetserver\\/7142905866658f89d3f4ad1638cd64a7c4495296-bulma_confined.min.css\"}],\"type\":\"async_block\"},\"id\":\"11026386407558990472\",\"handlers\":{\"options_js\":[\"(function (val){return (val!=this.model[\\\"options_js\\\"]()) ? (this.valueFromJulia[\\\"options_js\\\"]=true, this.model[\\\"options_js\\\"](val)) : undefined})\"],\"index\":[\"(function (val){return (val!=this.model[\\\"index\\\"]()) ? (this.valueFromJulia[\\\"index\\\"]=true, this.model[\\\"index\\\"](val)) : undefined})\"]},\"systemjs_options\":null,\"mount_callbacks\":[\"function () {\\n    var handler = (function (ko, koPunches) {\\n    ko.punches.enableAll();\\n    ko.bindingHandlers.numericValue = {\\n        init: function(element, valueAccessor, allBindings, data, context) {\\n            var stringified = ko.observable(ko.unwrap(valueAccessor()));\\n            stringified.subscribe(function(value) {\\n                var val = parseFloat(value);\\n                if (!isNaN(val)) {\\n                    valueAccessor()(val);\\n                }\\n            });\\n            valueAccessor().subscribe(function(value) {\\n                var str = JSON.stringify(value);\\n                if ((str == \\\"0\\\") && ([\\\"-0\\\", \\\"-0.\\\"].indexOf(stringified()) >= 0))\\n                     return;\\n                 if ([\\\"null\\\", \\\"\\\"].indexOf(str) >= 0)\\n                     return;\\n                stringified(str);\\n            });\\n            ko.applyBindingsToNode(\\n                element,\\n                {\\n                    value: stringified,\\n                    valueUpdate: allBindings.get('valueUpdate'),\\n                },\\n                context,\\n            );\\n        }\\n    };\\n    var json_data = {\\\"options_js\\\":WebIO.getval({\\\"name\\\":\\\"options_js\\\",\\\"scope\\\":\\\"11026386407558990472\\\",\\\"id\\\":\\\"ob_16\\\",\\\"type\\\":\\\"observable\\\"}),\\\"index\\\":WebIO.getval({\\\"name\\\":\\\"index\\\",\\\"scope\\\":\\\"11026386407558990472\\\",\\\"id\\\":\\\"ob_15\\\",\\\"type\\\":\\\"observable\\\"})};\\n    var self = this;\\n    function AppViewModel() {\\n        for (var key in json_data) {\\n            var el = json_data[key];\\n            this[key] = Array.isArray(el) ? ko.observableArray(el) : ko.observable(el);\\n        }\\n        \\n        \\n        [this[\\\"options_js\\\"].subscribe((function (val){!(this.valueFromJulia[\\\"options_js\\\"]) ? (WebIO.setval({\\\"name\\\":\\\"options_js\\\",\\\"scope\\\":\\\"11026386407558990472\\\",\\\"id\\\":\\\"ob_16\\\",\\\"type\\\":\\\"observable\\\"},val)) : undefined; return this.valueFromJulia[\\\"options_js\\\"]=false}),self),this[\\\"index\\\"].subscribe((function (val){!(this.valueFromJulia[\\\"index\\\"]) ? (WebIO.setval({\\\"name\\\":\\\"index\\\",\\\"scope\\\":\\\"11026386407558990472\\\",\\\"id\\\":\\\"ob_15\\\",\\\"type\\\":\\\"observable\\\"},val)) : undefined; return this.valueFromJulia[\\\"index\\\"]=false}),self)]\\n        \\n    }\\n    self.model = new AppViewModel();\\n    self.valueFromJulia = {};\\n    for (var key in json_data) {\\n        self.valueFromJulia[key] = false;\\n    }\\n    ko.applyBindings(self.model, self.dom);\\n}\\n);\\n    (WebIO.importBlock({\\\"data\\\":[{\\\"name\\\":\\\"knockout\\\",\\\"type\\\":\\\"js\\\",\\\"url\\\":\\\"\\/assetserver\\/938acb354ca4815fdbf66c3905eb221d0c578a85-knockout.js\\\"},{\\\"name\\\":\\\"knockout_punches\\\",\\\"type\\\":\\\"js\\\",\\\"url\\\":\\\"\\/assetserver\\/bb26f5035fc3d7a1bf0d38a7937f5dc87587e934-knockout_punches.js\\\"}],\\\"type\\\":\\\"async_block\\\"})).then((imports) => handler.apply(this, imports));\\n}\\n\"],\"observables\":{\"options_js\":{\"sync\":false,\"id\":\"ob_16\",\"value\":[{\"key\":\"ALA Aland Islands\",\"val\":1,\"id\":\"idIVAitgq6\"},{\"key\":\"Afghanistan\",\"val\":2,\"id\":\"idxUCRKjdf\"},{\"key\":\"Albania\",\"val\":3,\"id\":\"id4CEsOtxo\"},{\"key\":\"Algeria\",\"val\":4,\"id\":\"id9C1nMsxF\"},{\"key\":\"American Samoa\",\"val\":5,\"id\":\"idkk2PQtA0\"},{\"key\":\"Andorra\",\"val\":6,\"id\":\"idtQVuclrI\"},{\"key\":\"Angola\",\"val\":7,\"id\":\"iduHuOgGef\"},{\"key\":\"Anguilla\",\"val\":8,\"id\":\"idmq1Nfpjm\"},{\"key\":\"Antarctica\",\"val\":9,\"id\":\"idPhJj4n4X\"},{\"key\":\"Antigua and Barbuda\",\"val\":10,\"id\":\"idyPVy9QYW\"},{\"key\":\"Argentina\",\"val\":11,\"id\":\"id99CwgsTa\"},{\"key\":\"Armenia\",\"val\":12,\"id\":\"idSAaI4mwD\"},{\"key\":\"Aruba\",\"val\":13,\"id\":\"idwOiDvIdL\"},{\"key\":\"Australia\",\"val\":14,\"id\":\"idDDNrwLxf\"},{\"key\":\"Austria\",\"val\":15,\"id\":\"idqRIVOaQa\"},{\"key\":\"Azerbaijan\",\"val\":16,\"id\":\"idEirgSQ0g\"},{\"key\":\"Bahamas\",\"val\":17,\"id\":\"idpYzc0JJ6\"},{\"key\":\"Bahrain\",\"val\":18,\"id\":\"idqjYkKkHO\"},{\"key\":\"Bangladesh\",\"val\":19,\"id\":\"idb2aNazMZ\"},{\"key\":\"Barbados\",\"val\":20,\"id\":\"idBDozXvSg\"},{\"key\":\"Belarus\",\"val\":21,\"id\":\"idq6pBV8O2\"},{\"key\":\"Belgium\",\"val\":22,\"id\":\"idMAFchX0O\"},{\"key\":\"Belize\",\"val\":23,\"id\":\"idxPm5fuGQ\"},{\"key\":\"Benin\",\"val\":24,\"id\":\"id9C1zK72D\"},{\"key\":\"Bermuda\",\"val\":25,\"id\":\"idzoJcVycW\"},{\"key\":\"Bhutan\",\"val\":26,\"id\":\"idrJiIqQgr\"},{\"key\":\"Bolivia\",\"val\":27,\"id\":\"id2Y3K6OFo\"},{\"key\":\"Bosnia and Herzegovina\",\"val\":28,\"id\":\"idNHPawqfL\"},{\"key\":\"Botswana\",\"val\":29,\"id\":\"idjtb5R6sH\"},{\"key\":\"Bouvet Island\",\"val\":30,\"id\":\"idUJWNYWiB\"},{\"key\":\"Brazil\",\"val\":31,\"id\":\"idA1SeqzDV\"},{\"key\":\"British Indian Ocean Territory\",\"val\":32,\"id\":\"idenX05qBh\"},{\"key\":\"British Virgin Islands\",\"val\":33,\"id\":\"idzk498poS\"},{\"key\":\"Brunei Darussalam\",\"val\":34,\"id\":\"idzkZeSGai\"},{\"key\":\"Bulgaria\",\"val\":35,\"id\":\"idi0KUmJa7\"},{\"key\":\"Burkina Faso\",\"val\":36,\"id\":\"idC96N67Uv\"},{\"key\":\"Burundi\",\"val\":37,\"id\":\"idbZs96F0u\"},{\"key\":\"Cambodia\",\"val\":38,\"id\":\"idJVOXgwFd\"},{\"key\":\"Cameroon\",\"val\":39,\"id\":\"idFP8y4zdS\"},{\"key\":\"Canada\",\"val\":40,\"id\":\"idW7MiG7xY\"},{\"key\":\"Cape Verde\",\"val\":41,\"id\":\"idmM5NtE7K\"},{\"key\":\"Cayman Islands\",\"val\":42,\"id\":\"id9si1IWyQ\"},{\"key\":\"Central African Republic\",\"val\":43,\"id\":\"id0z01Pkkq\"},{\"key\":\"Chad\",\"val\":44,\"id\":\"idWCFiSGtv\"},{\"key\":\"Chile\",\"val\":45,\"id\":\"idjpiYwyFq\"},{\"key\":\"China\",\"val\":46,\"id\":\"idap6ok0uO\"},{\"key\":\"Christmas Island\",\"val\":47,\"id\":\"idI7PYmjzq\"},{\"key\":\"Cocos (Keeling) Islands\",\"val\":48,\"id\":\"idwkfggb0o\"},{\"key\":\"Colombia\",\"val\":49,\"id\":\"idbNiwyPXL\"},{\"key\":\"Comoros\",\"val\":50,\"id\":\"idk1b70T1E\"},{\"key\":\"Congo (Brazzaville)\",\"val\":51,\"id\":\"idIaSW1j19\"},{\"key\":\"Congo (Kinshasa)\",\"val\":52,\"id\":\"iddtud2yoY\"},{\"key\":\"Cook Islands\",\"val\":53,\"id\":\"idZBRgFWrC\"},{\"key\":\"Costa Rica\",\"val\":54,\"id\":\"idxmuUC8vg\"},{\"key\":\"Croatia\",\"val\":55,\"id\":\"idgK4aO4d9\"},{\"key\":\"Cuba\",\"val\":56,\"id\":\"idzR6JJdus\"},{\"key\":\"Cyprus\",\"val\":57,\"id\":\"idIuiZOxTN\"},{\"key\":\"Czech Republic\",\"val\":58,\"id\":\"idg2fhBFts\"},{\"key\":\"Côte d'Ivoire\",\"val\":59,\"id\":\"idvLrQgxIF\"},{\"key\":\"Denmark\",\"val\":60,\"id\":\"idfUMPvHti\"},{\"key\":\"Djibouti\",\"val\":61,\"id\":\"idviDYcZtQ\"},{\"key\":\"Dominica\",\"val\":62,\"id\":\"idWynnzaO7\"},{\"key\":\"Dominican Republic\",\"val\":63,\"id\":\"idRBEtQByh\"},{\"key\":\"Ecuador\",\"val\":64,\"id\":\"idu2h06igM\"},{\"key\":\"Egypt\",\"val\":65,\"id\":\"idalfhajlz\"},{\"key\":\"El Salvador\",\"val\":66,\"id\":\"idbL9SogdG\"},{\"key\":\"Equatorial Guinea\",\"val\":67,\"id\":\"idH6LlY4RH\"},{\"key\":\"Eritrea\",\"val\":68,\"id\":\"idy1G9pQZ8\"},{\"key\":\"Estonia\",\"val\":69,\"id\":\"idwhbxenPi\"},{\"key\":\"Ethiopia\",\"val\":70,\"id\":\"idBUvmk6m2\"},{\"key\":\"Falkland Islands (Malvinas)\",\"val\":71,\"id\":\"idRo7baYVm\"},{\"key\":\"Faroe Islands\",\"val\":72,\"id\":\"idT9GxoQqc\"},{\"key\":\"Fiji\",\"val\":73,\"id\":\"idoHxU09Tl\"},{\"key\":\"Finland\",\"val\":74,\"id\":\"idSm4iJpIt\"},{\"key\":\"France\",\"val\":75,\"id\":\"idbPlyi4ON\"},{\"key\":\"French Guiana\",\"val\":76,\"id\":\"idkJ5iLU9S\"},{\"key\":\"French Polynesia\",\"val\":77,\"id\":\"idcVY0V2dm\"},{\"key\":\"French Southern Territories\",\"val\":78,\"id\":\"idCuRqyWFa\"},{\"key\":\"Gabon\",\"val\":79,\"id\":\"id3g7F6JIU\"},{\"key\":\"Gambia\",\"val\":80,\"id\":\"id9WrNSTN6\"},{\"key\":\"Georgia\",\"val\":81,\"id\":\"idB2vzGwVM\"},{\"key\":\"Germany\",\"val\":82,\"id\":\"id4PWLkOBI\"},{\"key\":\"Ghana\",\"val\":83,\"id\":\"idPCTnlniP\"},{\"key\":\"Gibraltar\",\"val\":84,\"id\":\"idlYyctWKZ\"},{\"key\":\"Greece\",\"val\":85,\"id\":\"iducn2zRjg\"},{\"key\":\"Greenland\",\"val\":86,\"id\":\"idID6WTwtQ\"},{\"key\":\"Grenada\",\"val\":87,\"id\":\"idhez5cBxz\"},{\"key\":\"Guadeloupe\",\"val\":88,\"id\":\"idWjfu4kGR\"},{\"key\":\"Guam\",\"val\":89,\"id\":\"idDfuKldX5\"},{\"key\":\"Guatemala\",\"val\":90,\"id\":\"idWqDmdC9c\"},{\"key\":\"Guernsey\",\"val\":91,\"id\":\"id9mCS9pTK\"},{\"key\":\"Guinea\",\"val\":92,\"id\":\"idO7FpXXlH\"},{\"key\":\"Guinea-Bissau\",\"val\":93,\"id\":\"iddpXk4S3B\"},{\"key\":\"Guyana\",\"val\":94,\"id\":\"idiB8ac8bv\"},{\"key\":\"Haiti\",\"val\":95,\"id\":\"id21WdPFKq\"},{\"key\":\"Heard and Mcdonald Islands\",\"val\":96,\"id\":\"idh3SL3meC\"},{\"key\":\"Holy See (Vatican City State)\",\"val\":97,\"id\":\"idq9p7pm0x\"},{\"key\":\"Honduras\",\"val\":98,\"id\":\"id8O1HiESE\"},{\"key\":\"Hong Kong, SAR China\",\"val\":99,\"id\":\"idWJQe4ss0\"},{\"key\":\"Hungary\",\"val\":100,\"id\":\"idddaznQt6\"},{\"key\":\"Iceland\",\"val\":101,\"id\":\"idZY92rQai\"},{\"key\":\"India\",\"val\":102,\"id\":\"idECBUF635\"},{\"key\":\"Indonesia\",\"val\":103,\"id\":\"idxC7KVOVR\"},{\"key\":\"Iran, Islamic Republic of\",\"val\":104,\"id\":\"idxp6jPyqv\"},{\"key\":\"Iraq\",\"val\":105,\"id\":\"idLIVrcbHk\"},{\"key\":\"Ireland\",\"val\":106,\"id\":\"idVy4GraKr\"},{\"key\":\"Isle of Man\",\"val\":107,\"id\":\"idw9fFxRfj\"},{\"key\":\"Israel\",\"val\":108,\"id\":\"idZO9zz4Hr\"},{\"key\":\"Italy\",\"val\":109,\"id\":\"idOSSp9MUY\"},{\"key\":\"Jamaica\",\"val\":110,\"id\":\"id3aK57AX0\"},{\"key\":\"Japan\",\"val\":111,\"id\":\"idhXxt3wk6\"},{\"key\":\"Jersey\",\"val\":112,\"id\":\"idI21hR5vb\"},{\"key\":\"Jordan\",\"val\":113,\"id\":\"idIV5optZw\"},{\"key\":\"Kazakhstan\",\"val\":114,\"id\":\"idUbo1okLp\"},{\"key\":\"Kenya\",\"val\":115,\"id\":\"id90mqmosM\"},{\"key\":\"Kiribati\",\"val\":116,\"id\":\"id6zllYi3v\"},{\"key\":\"Korea (North)\",\"val\":117,\"id\":\"id1gDpCFZQ\"},{\"key\":\"Korea (South)\",\"val\":118,\"id\":\"idusXWBXXf\"},{\"key\":\"Kuwait\",\"val\":119,\"id\":\"idYF0qVJB0\"},{\"key\":\"Kyrgyzstan\",\"val\":120,\"id\":\"idAFqy2bMP\"},{\"key\":\"Lao PDR\",\"val\":121,\"id\":\"id0chRFG0m\"},{\"key\":\"Latvia\",\"val\":122,\"id\":\"idebJz7fjN\"},{\"key\":\"Lebanon\",\"val\":123,\"id\":\"idayx6ywtH\"},{\"key\":\"Lesotho\",\"val\":124,\"id\":\"idrAKhBFZ1\"},{\"key\":\"Liberia\",\"val\":125,\"id\":\"id9KxY9rsG\"},{\"key\":\"Libya\",\"val\":126,\"id\":\"idIx6R28wl\"},{\"key\":\"Liechtenstein\",\"val\":127,\"id\":\"idKIATIa5D\"},{\"key\":\"Lithuania\",\"val\":128,\"id\":\"idUt6QnNiO\"},{\"key\":\"Luxembourg\",\"val\":129,\"id\":\"ido2NiUPEv\"},{\"key\":\"Macao, SAR China\",\"val\":130,\"id\":\"idgJTicoH4\"},{\"key\":\"Macedonia, Republic of\",\"val\":131,\"id\":\"id9ZJhL41k\"},{\"key\":\"Madagascar\",\"val\":132,\"id\":\"idQVJzfIK4\"},{\"key\":\"Malawi\",\"val\":133,\"id\":\"idHMj7HRhM\"},{\"key\":\"Malaysia\",\"val\":134,\"id\":\"id3CZnk9FP\"},{\"key\":\"Maldives\",\"val\":135,\"id\":\"idsOG58OO3\"},{\"key\":\"Mali\",\"val\":136,\"id\":\"idXgGvURxk\"},{\"key\":\"Malta\",\"val\":137,\"id\":\"idVCt6UKg1\"},{\"key\":\"Marshall Islands\",\"val\":138,\"id\":\"idVQZFuHwU\"},{\"key\":\"Martinique\",\"val\":139,\"id\":\"idawZl4b6E\"},{\"key\":\"Mauritania\",\"val\":140,\"id\":\"id3MWQXLqe\"},{\"key\":\"Mauritius\",\"val\":141,\"id\":\"idiOSEEdXu\"},{\"key\":\"Mayotte\",\"val\":142,\"id\":\"idCVN48f4a\"},{\"key\":\"Mexico\",\"val\":143,\"id\":\"idyqO6CqTB\"},{\"key\":\"Micronesia, Federated States of\",\"val\":144,\"id\":\"idF6uTmqQB\"},{\"key\":\"Moldova\",\"val\":145,\"id\":\"idxcQy6r4T\"},{\"key\":\"Monaco\",\"val\":146,\"id\":\"idkNAqcwvB\"},{\"key\":\"Mongolia\",\"val\":147,\"id\":\"idSdxPCdTA\"},{\"key\":\"Montenegro\",\"val\":148,\"id\":\"id7FNtitTa\"},{\"key\":\"Montserrat\",\"val\":149,\"id\":\"iddlSxQ1js\"},{\"key\":\"Morocco\",\"val\":150,\"id\":\"idLUyEKIgh\"},{\"key\":\"Mozambique\",\"val\":151,\"id\":\"idfOJf00Zs\"},{\"key\":\"Myanmar\",\"val\":152,\"id\":\"idpwaobHCN\"},{\"key\":\"Namibia\",\"val\":153,\"id\":\"idCPA2xxua\"},{\"key\":\"Nauru\",\"val\":154,\"id\":\"id2o8dfeZI\"},{\"key\":\"Nepal\",\"val\":155,\"id\":\"idEdfZhtFz\"},{\"key\":\"Netherlands\",\"val\":156,\"id\":\"idMp9KMfmj\"},{\"key\":\"Netherlands Antilles\",\"val\":157,\"id\":\"idzvnf2JQI\"},{\"key\":\"New Caledonia\",\"val\":158,\"id\":\"idDL78f8tl\"},{\"key\":\"New Zealand\",\"val\":159,\"id\":\"ida9w4U7it\"},{\"key\":\"Nicaragua\",\"val\":160,\"id\":\"id72DTxPLX\"},{\"key\":\"Niger\",\"val\":161,\"id\":\"idDIQMGEMX\"},{\"key\":\"Nigeria\",\"val\":162,\"id\":\"idpQw1NDXH\"},{\"key\":\"Niue\",\"val\":163,\"id\":\"iddGKJ8V1l\"},{\"key\":\"Norfolk Island\",\"val\":164,\"id\":\"idPuXBSb0W\"},{\"key\":\"Northern Mariana Islands\",\"val\":165,\"id\":\"idZmCMfuMt\"},{\"key\":\"Norway\",\"val\":166,\"id\":\"idkhGYnmzX\"},{\"key\":\"Oman\",\"val\":167,\"id\":\"idvu3yubtP\"},{\"key\":\"Pakistan\",\"val\":168,\"id\":\"idYIieo815\"},{\"key\":\"Palau\",\"val\":169,\"id\":\"id4va6smGh\"},{\"key\":\"Palestinian Territory\",\"val\":170,\"id\":\"idIj7f6lOZ\"},{\"key\":\"Panama\",\"val\":171,\"id\":\"idKyq0ULdY\"},{\"key\":\"Papua New Guinea\",\"val\":172,\"id\":\"idl2meUNgc\"},{\"key\":\"Paraguay\",\"val\":173,\"id\":\"idao1DQKEL\"},{\"key\":\"Peru\",\"val\":174,\"id\":\"idmHf4uSbO\"},{\"key\":\"Philippines\",\"val\":175,\"id\":\"idpJvM7w5j\"},{\"key\":\"Pitcairn\",\"val\":176,\"id\":\"id5Cb0208c\"},{\"key\":\"Poland\",\"val\":177,\"id\":\"idl7tyAjs0\"},{\"key\":\"Portugal\",\"val\":178,\"id\":\"idKe20WU4I\"},{\"key\":\"Puerto Rico\",\"val\":179,\"id\":\"id6MyeCY20\"},{\"key\":\"Qatar\",\"val\":180,\"id\":\"idvVQY9xzh\"},{\"key\":\"Republic of Kosovo\",\"val\":181,\"id\":\"idm3hmu7XA\"},{\"key\":\"Romania\",\"val\":182,\"id\":\"idyyGe5vDb\"},{\"key\":\"Russian Federation\",\"val\":183,\"id\":\"idpS7QEKLV\"},{\"key\":\"Rwanda\",\"val\":184,\"id\":\"id3Ydxi5kO\"},{\"key\":\"Réunion\",\"val\":185,\"id\":\"idL8hOrTei\"},{\"key\":\"Saint Helena\",\"val\":186,\"id\":\"idveFOBUNu\"},{\"key\":\"Saint Kitts and Nevis\",\"val\":187,\"id\":\"idR2Nov0g9\"},{\"key\":\"Saint Lucia\",\"val\":188,\"id\":\"idnviuvyVp\"},{\"key\":\"Saint Pierre and Miquelon\",\"val\":189,\"id\":\"ido2P9KX9s\"},{\"key\":\"Saint Vincent and Grenadines\",\"val\":190,\"id\":\"idWp0cF2v4\"},{\"key\":\"Saint-Barthélemy\",\"val\":191,\"id\":\"idpBJL9CA6\"},{\"key\":\"Saint-Martin (French part)\",\"val\":192,\"id\":\"idSqvo9m3G\"},{\"key\":\"Samoa\",\"val\":193,\"id\":\"idNTZ5AA54\"},{\"key\":\"San Marino\",\"val\":194,\"id\":\"idamrQfhja\"},{\"key\":\"Sao Tome and Principe\",\"val\":195,\"id\":\"idm60wQqfd\"},{\"key\":\"Saudi Arabia\",\"val\":196,\"id\":\"id5WgPw3AL\"},{\"key\":\"Senegal\",\"val\":197,\"id\":\"idOooSGO6M\"},{\"key\":\"Serbia\",\"val\":198,\"id\":\"idjXqUKR6V\"},{\"key\":\"Seychelles\",\"val\":199,\"id\":\"idoEhkqtNI\"},{\"key\":\"Sierra Leone\",\"val\":200,\"id\":\"idoTzA7rft\"},{\"key\":\"Singapore\",\"val\":201,\"id\":\"idaEbdyQWS\"},{\"key\":\"Slovakia\",\"val\":202,\"id\":\"idRvuWHsyE\"},{\"key\":\"Slovenia\",\"val\":203,\"id\":\"idyoEg9qVo\"},{\"key\":\"Solomon Islands\",\"val\":204,\"id\":\"idtgbfF3mQ\"},{\"key\":\"Somalia\",\"val\":205,\"id\":\"id9hrdXsDS\"},{\"key\":\"South Africa\",\"val\":206,\"id\":\"id5S41Kvym\"},{\"key\":\"South Georgia and the South Sandwich Islands\",\"val\":207,\"id\":\"idH8kSXhGn\"},{\"key\":\"South Sudan\",\"val\":208,\"id\":\"idUDQKnDZV\"},{\"key\":\"Spain\",\"val\":209,\"id\":\"idp66rNU0e\"},{\"key\":\"Sri Lanka\",\"val\":210,\"id\":\"idba0jAT4I\"},{\"key\":\"Sudan\",\"val\":211,\"id\":\"idFabkRuWx\"},{\"key\":\"Suriname\",\"val\":212,\"id\":\"idps2JZLvF\"},{\"key\":\"Svalbard and Jan Mayen Islands\",\"val\":213,\"id\":\"id343MMcdz\"},{\"key\":\"Swaziland\",\"val\":214,\"id\":\"idJlWZXkC3\"},{\"key\":\"Sweden\",\"val\":215,\"id\":\"idv26MI5fr\"},{\"key\":\"Switzerland\",\"val\":216,\"id\":\"id7vud72r9\"},{\"key\":\"Syrian Arab Republic (Syria)\",\"val\":217,\"id\":\"idSUqS6Aak\"},{\"key\":\"Taiwan, Republic of China\",\"val\":218,\"id\":\"idsnDGKgXQ\"},{\"key\":\"Tajikistan\",\"val\":219,\"id\":\"idS2D8HPIF\"},{\"key\":\"Tanzania, United Republic of\",\"val\":220,\"id\":\"idDo2LcAGd\"},{\"key\":\"Thailand\",\"val\":221,\"id\":\"idS2D3xjUa\"},{\"key\":\"Timor-Leste\",\"val\":222,\"id\":\"idOfrQuvOM\"},{\"key\":\"Togo\",\"val\":223,\"id\":\"idXoNHFVxf\"},{\"key\":\"Tokelau\",\"val\":224,\"id\":\"idARPY8N33\"},{\"key\":\"Tonga\",\"val\":225,\"id\":\"idQIgTCUiX\"},{\"key\":\"Trinidad and Tobago\",\"val\":226,\"id\":\"idKNEVQPQ4\"},{\"key\":\"Tunisia\",\"val\":227,\"id\":\"id2ARbJE3S\"},{\"key\":\"Turkey\",\"val\":228,\"id\":\"idobRVhFFb\"},{\"key\":\"Turkmenistan\",\"val\":229,\"id\":\"idvQoDiyBD\"},{\"key\":\"Turks and Caicos Islands\",\"val\":230,\"id\":\"idezsMdowR\"},{\"key\":\"Tuvalu\",\"val\":231,\"id\":\"idGtw09sMn\"},{\"key\":\"US Minor Outlying Islands\",\"val\":232,\"id\":\"idV5W72BQC\"},{\"key\":\"Uganda\",\"val\":233,\"id\":\"idk9cD6ebs\"},{\"key\":\"Ukraine\",\"val\":234,\"id\":\"idOSRU2rIp\"},{\"key\":\"United Arab Emirates\",\"val\":235,\"id\":\"idtOQZWVzH\"},{\"key\":\"United Kingdom\",\"val\":236,\"id\":\"idPnTCMDhD\"},{\"key\":\"United States of America\",\"val\":237,\"id\":\"idZtc5I3Wp\"},{\"key\":\"Uruguay\",\"val\":238,\"id\":\"idKGs9nrvz\"},{\"key\":\"Uzbekistan\",\"val\":239,\"id\":\"idmqVvHsTF\"},{\"key\":\"Vanuatu\",\"val\":240,\"id\":\"idZjTdiZhc\"},{\"key\":\"Venezuela (Bolivarian Republic)\",\"val\":241,\"id\":\"idb812bKPY\"},{\"key\":\"Viet Nam\",\"val\":242,\"id\":\"ide9tSTdrL\"},{\"key\":\"Virgin Islands, US\",\"val\":243,\"id\":\"idHi9rBolD\"},{\"key\":\"Wallis and Futuna Islands\",\"val\":244,\"id\":\"idyoFfnXmR\"},{\"key\":\"Western Sahara\",\"val\":245,\"id\":\"idwW5HTrOV\"},{\"key\":\"Yemen\",\"val\":246,\"id\":\"idNLSolDUo\"},{\"key\":\"Zambia\",\"val\":247,\"id\":\"idFzd61qdV\"},{\"key\":\"Zimbabwe\",\"val\":248,\"id\":\"idBtcfxH4r\"}]},\"index\":{\"sync\":true,\"id\":\"ob_15\",\"value\":[]}}},\"children\":[{\"props\":{\"attributes\":{\"data-bind\":\"foreach : options_js\"},\"className\":\"field\"},\"nodeType\":\"DOM\",\"type\":\"node\",\"instanceArgs\":{\"namespace\":\"html\",\"tag\":\"div\"},\"children\":[{\"props\":{\"className\":\"field\"},\"nodeType\":\"DOM\",\"type\":\"node\",\"instanceArgs\":{\"namespace\":\"html\",\"tag\":\"div\"},\"children\":[{\"props\":{\"attributes\":{\"name\":\"##406\",\"type\":\"checkbox\",\"data-bind\":\"checked : $root.index, checkedValue: val, attr : {id : id}\"},\"className\":\"is-checkradio \"},\"nodeType\":\"DOM\",\"type\":\"node\",\"instanceArgs\":{\"namespace\":\"html\",\"tag\":\"input\"},\"children\":[]},{\"props\":{\"attributes\":{\"data-bind\":\"text : key, attr : {for : id}\"}},\"nodeType\":\"DOM\",\"type\":\"node\",\"instanceArgs\":{\"namespace\":\"html\",\"tag\":\"label\"},\"children\":[]}]}]}]}]},{\"props\":{},\"nodeType\":\"Scope\",\"type\":\"node\",\"instanceArgs\":{\"imports\":{\"data\":[],\"type\":\"async_block\"},\"id\":\"7589244572104143689\",\"handlers\":{},\"systemjs_options\":null,\"mount_callbacks\":[],\"observables\":{\"obs-node\":{\"sync\":false,\"id\":\"ob_20\",\"value\":{\"props\":{\"className\":\"interact-flex-row interact-widget\"},\"nodeType\":\"DOM\",\"type\":\"node\",\"instanceArgs\":{\"namespace\":\"html\",\"tag\":\"div\"},\"children\":[{\"props\":{\"setInnerHtml\":\"<?xml version=\\\"1.0\\\" encoding=\\\"utf-8\\\"?>\\n<svg xmlns=\\\"http:\\/\\/www.w3.org\\/2000\\/svg\\\" xmlns:xlink=\\\"http:\\/\\/www.w3.org\\/1999\\/xlink\\\" width=\\\"600\\\" height=\\\"400\\\" viewBox=\\\"0 0 2400 1600\\\">\\n<defs>\\n  <clipPath id=\\\"clip0500\\\">\\n    <rect x=\\\"0\\\" y=\\\"0\\\" width=\\\"2400\\\" height=\\\"1600\\\"\\/>\\n  <\\/clipPath>\\n<\\/defs>\\n<path clip-path=\\\"url(#clip0500)\\\" d=\\\"\\nM0 1600 L2400 1600 L2400 0 L0 0  Z\\n  \\\" fill=\\\"#ffffff\\\" fill-rule=\\\"evenodd\\\" fill-opacity=\\\"1\\\"\\/>\\n<defs>\\n  <clipPath id=\\\"clip0501\\\">\\n    <rect x=\\\"480\\\" y=\\\"0\\\" width=\\\"1681\\\" height=\\\"1600\\\"\\/>\\n  <\\/clipPath>\\n<\\/defs>\\n<path clip-path=\\\"url(#clip0500)\\\" d=\\\"\\nM153.898 1487.47 L2352.76 1487.47 L2352.76 47.2441 L153.898 47.2441  Z\\n  \\\" fill=\\\"#ffffff\\\" fill-rule=\\\"evenodd\\\" fill-opacity=\\\"1\\\"\\/>\\n<defs>\\n  <clipPath id=\\\"clip0502\\\">\\n    <rect x=\\\"153\\\" y=\\\"47\\\" width=\\\"2200\\\" height=\\\"1441\\\"\\/>\\n  <\\/clipPath>\\n<\\/defs>\\n<polyline clip-path=\\\"url(#clip0502)\\\" style=\\\"stroke:#000000; stroke-width:2; stroke-opacity:0.1; fill:none\\\" points=\\\"\\n  153.898,1487.47 153.898,47.2441 \\n  \\\"\\/>\\n<polyline clip-path=\\\"url(#clip0502)\\\" style=\\\"stroke:#000000; stroke-width:2; stroke-opacity:0.1; fill:none\\\" points=\\\"\\n  593.67,1487.47 593.67,47.2441 \\n  \\\"\\/>\\n<polyline clip-path=\\\"url(#clip0502)\\\" style=\\\"stroke:#000000; stroke-width:2; stroke-opacity:0.1; fill:none\\\" points=\\\"\\n  1033.44,1487.47 1033.44,47.2441 \\n  \\\"\\/>\\n<polyline clip-path=\\\"url(#clip0502)\\\" style=\\\"stroke:#000000; stroke-width:2; stroke-opacity:0.1; fill:none\\\" points=\\\"\\n  1473.21,1487.47 1473.21,47.2441 \\n  \\\"\\/>\\n<polyline clip-path=\\\"url(#clip0502)\\\" style=\\\"stroke:#000000; stroke-width:2; stroke-opacity:0.1; fill:none\\\" points=\\\"\\n  1912.98,1487.47 1912.98,47.2441 \\n  \\\"\\/>\\n<polyline clip-path=\\\"url(#clip0502)\\\" style=\\\"stroke:#000000; stroke-width:2; stroke-opacity:0.1; fill:none\\\" points=\\\"\\n  2352.76,1487.47 2352.76,47.2441 \\n  \\\"\\/>\\n<polyline clip-path=\\\"url(#clip0502)\\\" style=\\\"stroke:#000000; stroke-width:2; stroke-opacity:0.1; fill:none\\\" points=\\\"\\n  153.898,1487.47 2352.76,1487.47 \\n  \\\"\\/>\\n<polyline clip-path=\\\"url(#clip0502)\\\" style=\\\"stroke:#000000; stroke-width:2; stroke-opacity:0.1; fill:none\\\" points=\\\"\\n  153.898,1199.43 2352.76,1199.43 \\n  \\\"\\/>\\n<polyline clip-path=\\\"url(#clip0502)\\\" style=\\\"stroke:#000000; stroke-width:2; stroke-opacity:0.1; fill:none\\\" points=\\\"\\n  153.898,911.382 2352.76,911.382 \\n  \\\"\\/>\\n<polyline clip-path=\\\"url(#clip0502)\\\" style=\\\"stroke:#000000; stroke-width:2; stroke-opacity:0.1; fill:none\\\" points=\\\"\\n  153.898,623.336 2352.76,623.336 \\n  \\\"\\/>\\n<polyline clip-path=\\\"url(#clip0502)\\\" style=\\\"stroke:#000000; stroke-width:2; stroke-opacity:0.1; fill:none\\\" points=\\\"\\n  153.898,335.29 2352.76,335.29 \\n  \\\"\\/>\\n<polyline clip-path=\\\"url(#clip0502)\\\" style=\\\"stroke:#000000; stroke-width:2; stroke-opacity:0.1; fill:none\\\" points=\\\"\\n  153.898,47.2441 2352.76,47.2441 \\n  \\\"\\/>\\n<polyline clip-path=\\\"url(#clip0500)\\\" style=\\\"stroke:#000000; stroke-width:4; stroke-opacity:1; fill:none\\\" points=\\\"\\n  153.898,1487.47 2352.76,1487.47 \\n  \\\"\\/>\\n<polyline clip-path=\\\"url(#clip0500)\\\" style=\\\"stroke:#000000; stroke-width:4; stroke-opacity:1; fill:none\\\" points=\\\"\\n  153.898,1487.47 153.898,47.2441 \\n  \\\"\\/>\\n<polyline clip-path=\\\"url(#clip0500)\\\" style=\\\"stroke:#000000; stroke-width:4; stroke-opacity:1; fill:none\\\" points=\\\"\\n  153.898,1487.47 153.898,1470.19 \\n  \\\"\\/>\\n<polyline clip-path=\\\"url(#clip0500)\\\" style=\\\"stroke:#000000; stroke-width:4; stroke-opacity:1; fill:none\\\" points=\\\"\\n  593.67,1487.47 593.67,1470.19 \\n  \\\"\\/>\\n<polyline clip-path=\\\"url(#clip0500)\\\" style=\\\"stroke:#000000; stroke-width:4; stroke-opacity:1; fill:none\\\" points=\\\"\\n  1033.44,1487.47 1033.44,1470.19 \\n  \\\"\\/>\\n<polyline clip-path=\\\"url(#clip0500)\\\" style=\\\"stroke:#000000; stroke-width:4; stroke-opacity:1; fill:none\\\" points=\\\"\\n  1473.21,1487.47 1473.21,1470.19 \\n  \\\"\\/>\\n<polyline clip-path=\\\"url(#clip0500)\\\" style=\\\"stroke:#000000; stroke-width:4; stroke-opacity:1; fill:none\\\" points=\\\"\\n  1912.98,1487.47 1912.98,1470.19 \\n  \\\"\\/>\\n<polyline clip-path=\\\"url(#clip0500)\\\" style=\\\"stroke:#000000; stroke-width:4; stroke-opacity:1; fill:none\\\" points=\\\"\\n  2352.76,1487.47 2352.76,1470.19 \\n  \\\"\\/>\\n<polyline clip-path=\\\"url(#clip0500)\\\" style=\\\"stroke:#000000; stroke-width:4; stroke-opacity:1; fill:none\\\" points=\\\"\\n  153.898,1487.47 180.284,1487.47 \\n  \\\"\\/>\\n<polyline clip-path=\\\"url(#clip0500)\\\" style=\\\"stroke:#000000; stroke-width:4; stroke-opacity:1; fill:none\\\" points=\\\"\\n  153.898,1199.43 180.284,1199.43 \\n  \\\"\\/>\\n<polyline clip-path=\\\"url(#clip0500)\\\" style=\\\"stroke:#000000; stroke-width:4; stroke-opacity:1; fill:none\\\" points=\\\"\\n  153.898,911.382 180.284,911.382 \\n  \\\"\\/>\\n<polyline clip-path=\\\"url(#clip0500)\\\" style=\\\"stroke:#000000; stroke-width:4; stroke-opacity:1; fill:none\\\" points=\\\"\\n  153.898,623.336 180.284,623.336 \\n  \\\"\\/>\\n<polyline clip-path=\\\"url(#clip0500)\\\" style=\\\"stroke:#000000; stroke-width:4; stroke-opacity:1; fill:none\\\" points=\\\"\\n  153.898,335.29 180.284,335.29 \\n  \\\"\\/>\\n<polyline clip-path=\\\"url(#clip0500)\\\" style=\\\"stroke:#000000; stroke-width:4; stroke-opacity:1; fill:none\\\" points=\\\"\\n  153.898,47.2441 180.284,47.2441 \\n  \\\"\\/>\\n<g clip-path=\\\"url(#clip0500)\\\">\\n<text style=\\\"fill:#000000; fill-opacity:1; font-family:Arial,Helvetica Neue,Helvetica,sans-serif; font-size:48px; text-anchor:middle;\\\" transform=\\\"rotate(0, 153.898, 1541.47)\\\" x=\\\"153.898\\\" y=\\\"1541.47\\\">0.0<\\/text>\\n<\\/g>\\n<g clip-path=\\\"url(#clip0500)\\\">\\n<text style=\\\"fill:#000000; fill-opacity:1; font-family:Arial,Helvetica Neue,Helvetica,sans-serif; font-size:48px; text-anchor:middle;\\\" transform=\\\"rotate(0, 593.67, 1541.47)\\\" x=\\\"593.67\\\" y=\\\"1541.47\\\">0.2<\\/text>\\n<\\/g>\\n<g clip-path=\\\"url(#clip0500)\\\">\\n<text style=\\\"fill:#000000; fill-opacity:1; font-family:Arial,Helvetica Neue,Helvetica,sans-serif; font-size:48px; text-anchor:middle;\\\" transform=\\\"rotate(0, 1033.44, 1541.47)\\\" x=\\\"1033.44\\\" y=\\\"1541.47\\\">0.4<\\/text>\\n<\\/g>\\n<g clip-path=\\\"url(#clip0500)\\\">\\n<text style=\\\"fill:#000000; fill-opacity:1; font-family:Arial,Helvetica Neue,Helvetica,sans-serif; font-size:48px; text-anchor:middle;\\\" transform=\\\"rotate(0, 1473.21, 1541.47)\\\" x=\\\"1473.21\\\" y=\\\"1541.47\\\">0.6<\\/text>\\n<\\/g>\\n<g clip-path=\\\"url(#clip0500)\\\">\\n<text style=\\\"fill:#000000; fill-opacity:1; font-family:Arial,Helvetica Neue,Helvetica,sans-serif; font-size:48px; text-anchor:middle;\\\" transform=\\\"rotate(0, 1912.98, 1541.47)\\\" x=\\\"1912.98\\\" y=\\\"1541.47\\\">0.8<\\/text>\\n<\\/g>\\n<g clip-path=\\\"url(#clip0500)\\\">\\n<text style=\\\"fill:#000000; fill-opacity:1; font-family:Arial,Helvetica Neue,Helvetica,sans-serif; font-size:48px; text-anchor:middle;\\\" transform=\\\"rotate(0, 2352.76, 1541.47)\\\" x=\\\"2352.76\\\" y=\\\"1541.47\\\">1.0<\\/text>\\n<\\/g>\\n<g clip-path=\\\"url(#clip0500)\\\">\\n<text style=\\\"fill:#000000; fill-opacity:1; font-family:Arial,Helvetica Neue,Helvetica,sans-serif; font-size:48px; text-anchor:end;\\\" transform=\\\"rotate(0, 129.898, 1504.97)\\\" x=\\\"129.898\\\" y=\\\"1504.97\\\">0.0<\\/text>\\n<\\/g>\\n<g clip-path=\\\"url(#clip0500)\\\">\\n<text style=\\\"fill:#000000; fill-opacity:1; font-family:Arial,Helvetica Neue,Helvetica,sans-serif; font-size:48px; text-anchor:end;\\\" transform=\\\"rotate(0, 129.898, 1216.93)\\\" x=\\\"129.898\\\" y=\\\"1216.93\\\">0.2<\\/text>\\n<\\/g>\\n<g clip-path=\\\"url(#clip0500)\\\">\\n<text style=\\\"fill:#000000; fill-opacity:1; font-family:Arial,Helvetica Neue,Helvetica,sans-serif; font-size:48px; text-anchor:end;\\\" transform=\\\"rotate(0, 129.898, 928.882)\\\" x=\\\"129.898\\\" y=\\\"928.882\\\">0.4<\\/text>\\n<\\/g>\\n<g clip-path=\\\"url(#clip0500)\\\">\\n<text style=\\\"fill:#000000; fill-opacity:1; font-family:Arial,Helvetica Neue,Helvetica,sans-serif; font-size:48px; text-anchor:end;\\\" transform=\\\"rotate(0, 129.898, 640.836)\\\" x=\\\"129.898\\\" y=\\\"640.836\\\">0.6<\\/text>\\n<\\/g>\\n<g clip-path=\\\"url(#clip0500)\\\">\\n<text style=\\\"fill:#000000; fill-opacity:1; font-family:Arial,Helvetica Neue,Helvetica,sans-serif; font-size:48px; text-anchor:end;\\\" transform=\\\"rotate(0, 129.898, 352.79)\\\" x=\\\"129.898\\\" y=\\\"352.79\\\">0.8<\\/text>\\n<\\/g>\\n<g clip-path=\\\"url(#clip0500)\\\">\\n<text style=\\\"fill:#000000; fill-opacity:1; font-family:Arial,Helvetica Neue,Helvetica,sans-serif; font-size:48px; text-anchor:end;\\\" transform=\\\"rotate(0, 129.898, 64.7441)\\\" x=\\\"129.898\\\" y=\\\"64.7441\\\">1.0<\\/text>\\n<\\/g>\\n<\\/svg>\\n\"},\"nodeType\":\"DOM\",\"type\":\"node\",\"instanceArgs\":{\"namespace\":\"html\",\"tag\":\"div\"},\"children\":[]}]}}}},\"children\":[{\"props\":{},\"nodeType\":\"ObservableNode\",\"type\":\"node\",\"instanceArgs\":{\"id\":\"ob_20\",\"name\":\"obs-node\"},\"children\":[]}]}]},\n",
       "            window,\n",
       "        );\n",
       "    } else {\n",
       "        document\n",
       "            .querySelector('[data-webio-mountpoint=\"14321010839612251837\"]')\n",
       "            .innerHTML = (\n",
       "                '<div style=\"padding: 1em; background-color: #f8d6da; border: 1px solid #f5c6cb\">' +\n",
       "                '<p><strong>WebIO not detected.</strong></p>' +\n",
       "                '<p>Please read ' +\n",
       "                '<a href=\"https://juliagizmos.github.io/WebIO.jl/latest/troubleshooting/not-detected/\" target=\"_blank\">the troubleshooting guide</a> ' +\n",
       "                'for more information on how to resolve this issue.</p>' +\n",
       "                '<p><a href=\"https://juliagizmos.github.io/WebIO.jl/latest/troubleshooting/not-detected/\" target=\"_blank\">https://juliagizmos.github.io/WebIO.jl/latest/troubleshooting/not-detected/</a></p>' +\n",
       "                '</div>'\n",
       "            );\n",
       "    }\n",
       "    </script>\n",
       "</div>\n"
      ],
      "text/plain": [
       "Node{WebIO.DOM}(WebIO.DOM(:html, :div), Any[Node{WebIO.DOM}(WebIO.DOM(:html, :div), Any[Scope(Node{WebIO.DOM}(WebIO.DOM(:html, :div), Any[Node{WebIO.DOM}(WebIO.DOM(:html, :div), Any[Node{WebIO.DOM}(WebIO.DOM(:html, :input), Any[], Dict{Symbol,Any}(:attributes => Dict{String,Any}(\"name\" => Symbol(\"##406\"),\"type\" => \"checkbox\",\"data-bind\" => \"checked : \\$root.index, checkedValue: val, attr : {id : id}\"),:className => \"is-checkradio \")), Node{WebIO.DOM}(WebIO.DOM(:html, :label), Any[], Dict{Symbol,Any}(:attributes => Dict(\"data-bind\" => \"text : key, attr : {for : id}\")))], Dict{Symbol,Any}(:className => \"field\"))], Dict{Symbol,Any}(:attributes => Dict(\"data-bind\" => \"foreach : options_js\"),:className => :field)), Dict{String,Tuple{Observables.AbstractObservable,Union{Nothing, Bool}}}(\"options_js\" => (Observable{Any} with 1 listeners. Value:\n",
       "OrderedDict[OrderedDict{String,Any}(\"key\" => \"ALA Aland Islands\",\"val\" => 1,\"id\" => \"idIVAitgq6\"), OrderedDict{String,Any}(\"key\" => \"Afghanistan\",\"val\" => 2,\"id\" => \"idxUCRKjdf\"), OrderedDict{String,Any}(\"key\" => \"Albania\",\"val\" => 3,\"id\" => \"id4CEsOtxo\"), OrderedDict{String,Any}(\"key\" => \"Algeria\",\"val\" => 4,\"id\" => \"id9C1nMsxF\"), OrderedDict{String,Any}(\"key\" => \"American Samoa\",\"val\" => 5,\"id\" => \"idkk2PQtA0\"), OrderedDict{String,Any}(\"key\" => \"Andorra\",\"val\" => 6,\"id\" => \"idtQVuclrI\"), OrderedDict{String,Any}(\"key\" => \"Angola\",\"val\" => 7,\"id\" => \"iduHuOgGef\"), OrderedDict{String,Any}(\"key\" => \"Anguilla\",\"val\" => 8,\"id\" => \"idmq1Nfpjm\"), OrderedDict{String,Any}(\"key\" => \"Antarctica\",\"val\" => 9,\"id\" => \"idPhJj4n4X\"), OrderedDict{String,Any}(\"key\" => \"Antigua and Barbuda\",\"val\" => 10,\"id\" => \"idyPVy9QYW\")  …  OrderedDict{String,Any}(\"key\" => \"Uzbekistan\",\"val\" => 239,\"id\" => \"idmqVvHsTF\"), OrderedDict{String,Any}(\"key\" => \"Vanuatu\",\"val\" => 240,\"id\" => \"idZjTdiZhc\"), OrderedDict{String,Any}(\"key\" => \"Venezuela (Bolivarian Republic)\",\"val\" => 241,\"id\" => \"idb812bKPY\"), OrderedDict{String,Any}(\"key\" => \"Viet Nam\",\"val\" => 242,\"id\" => \"ide9tSTdrL\"), OrderedDict{String,Any}(\"key\" => \"Virgin Islands, US\",\"val\" => 243,\"id\" => \"idHi9rBolD\"), OrderedDict{String,Any}(\"key\" => \"Wallis and Futuna Islands\",\"val\" => 244,\"id\" => \"idyoFfnXmR\"), OrderedDict{String,Any}(\"key\" => \"Western Sahara\",\"val\" => 245,\"id\" => \"idwW5HTrOV\"), OrderedDict{String,Any}(\"key\" => \"Yemen\",\"val\" => 246,\"id\" => \"idNLSolDUo\"), OrderedDict{String,Any}(\"key\" => \"Zambia\",\"val\" => 247,\"id\" => \"idFzd61qdV\"), OrderedDict{String,Any}(\"key\" => \"Zimbabwe\",\"val\" => 248,\"id\" => \"idBtcfxH4r\")], nothing),\"index\" => (Observable{Any} with 2 listeners. Value:\n",
       "Int64[], nothing)), Set(String[]), nothing, Asset[Asset(\"js\", \"knockout\", \"C:\\\\Users\\\\joaqu\\\\.julia\\\\packages\\\\Knockout\\\\IP1uR\\\\src\\\\..\\\\assets\\\\knockout.js\"), Asset(\"js\", \"knockout_punches\", \"C:\\\\Users\\\\joaqu\\\\.julia\\\\packages\\\\Knockout\\\\IP1uR\\\\src\\\\..\\\\assets\\\\knockout_punches.js\"), Asset(\"js\", nothing, \"C:\\\\Users\\\\joaqu\\\\.julia\\\\packages\\\\InteractBase\\\\9mFwe\\\\src\\\\..\\\\assets\\\\all.js\"), Asset(\"css\", nothing, \"C:\\\\Users\\\\joaqu\\\\.julia\\\\packages\\\\InteractBase\\\\9mFwe\\\\src\\\\..\\\\assets\\\\style.css\"), Asset(\"css\", nothing, \"C:\\\\Users\\\\joaqu\\\\.julia\\\\packages\\\\Interact\\\\SbgIk\\\\src\\\\..\\\\assets\\\\bulma_confined.min.css\")], Dict{Any,Any}(\"options_js\" => Any[WebIO.JSString(\"(function (val){return (val!=this.model[\\\"options_js\\\"]()) ? (this.valueFromJulia[\\\"options_js\\\"]=true, this.model[\\\"options_js\\\"](val)) : undefined})\")],\"index\" => Any[WebIO.JSString(\"(function (val){return (val!=this.model[\\\"index\\\"]()) ? (this.valueFromJulia[\\\"index\\\"]=true, this.model[\\\"index\\\"](val)) : undefined})\")]), WebIO.ConnectionPool(Channel{Any}(sz_max:32,sz_curr:0), Set(AbstractConnection[]), Base.GenericCondition{Base.AlwaysLockedST}(Base.InvasiveLinkedList{Task}(Task (runnable) @0x00000000225a6570, Task (runnable) @0x00000000225a6570), Base.AlwaysLockedST(1))), WebIO.JSString[WebIO.JSString(\"function () {\\n    var handler = (function (ko, koPunches) {\\n    ko.punches.enableAll();\\n    ko.bindingHandlers.numericValue = {\\n        init: function(element, valueAccessor, allBindings, data, context) {\\n            var stringified = ko.observable(ko.unwrap(valueAccessor()));\\n            stringified.subscribe(function(value) {\\n                var val = parseFloat(value);\\n                if (!isNaN(val)) {\\n                    valueAccessor()(val);\\n                }\\n            });\\n            valueAccessor().subscribe(function(value) {\\n                var str = JSON.stringify(value);\\n                if ((str == \\\"0\\\") && ([\\\"-0\\\", \\\"-0.\\\"].indexOf(stringified()) >= 0))\\n                     return;\\n                 if ([\\\"null\\\", \\\"\\\"].indexOf(str) >= 0)\\n                     return;\\n                stringified(str);\\n            });\\n            ko.applyBindingsToNode(\\n                element,\\n                {\\n                    value: stringified,\\n                    valueUpdate: allBindings.get('valueUpdate'),\\n                },\\n                context,\\n            );\\n        }\\n    };\\n    var json_data = {\\\"options_js\\\":WebIO.getval({\\\"name\\\":\\\"options_js\\\",\\\"scope\\\":\\\"11026386407558990472\\\",\\\"id\\\":\\\"ob_16\\\",\\\"type\\\":\\\"observable\\\"}),\\\"index\\\":WebIO.getval({\\\"name\\\":\\\"index\\\",\\\"scope\\\":\\\"11026386407558990472\\\",\\\"id\\\":\\\"ob_15\\\",\\\"type\\\":\\\"observable\\\"})};\\n    var self = this;\\n    function AppViewModel() {\\n        for (var key in json_data) {\\n            var el = json_data[key];\\n            this[key] = Array.isArray(el) ? ko.observableArray(el) : ko.observable(el);\\n        }\\n        \\n        \\n        [this[\\\"options_js\\\"].subscribe((function (val){!(this.valueFromJulia[\\\"options_js\\\"]) ? (WebIO.setval({\\\"name\\\":\\\"options_js\\\",\\\"scope\\\":\\\"11026386407558990472\\\",\\\"id\\\":\\\"ob_16\\\",\\\"type\\\":\\\"observable\\\"},val)) : undefined; return this.valueFromJulia[\\\"options_js\\\"]=false}),self),this[\\\"index\\\"].subscribe((function (val){!(this.valueFromJulia[\\\"index\\\"]) ? (WebIO.setval({\\\"name\\\":\\\"index\\\",\\\"scope\\\":\\\"11026386407558990472\\\",\\\"id\\\":\\\"ob_15\\\",\\\"type\\\":\\\"observable\\\"},val)) : undefined; return this.valueFromJulia[\\\"index\\\"]=false}),self)]\\n        \\n    }\\n    self.model = new AppViewModel();\\n    self.valueFromJulia = {};\\n    for (var key in json_data) {\\n        self.valueFromJulia[key] = false;\\n    }\\n    ko.applyBindings(self.model, self.dom);\\n}\\n);\\n    (WebIO.importBlock({\\\"data\\\":[{\\\"name\\\":\\\"knockout\\\",\\\"type\\\":\\\"js\\\",\\\"url\\\":\\\"/assetserver/938acb354ca4815fdbf66c3905eb221d0c578a85-knockout.js\\\"},{\\\"name\\\":\\\"knockout_punches\\\",\\\"type\\\":\\\"js\\\",\\\"url\\\":\\\"/assetserver/bb26f5035fc3d7a1bf0d38a7937f5dc87587e934-knockout_punches.js\\\"}],\\\"type\\\":\\\"async_block\\\"})).then((imports) => handler.apply(this, imports));\\n}\\n\")])], Dict{Symbol,Any}(:className => \"field interact-widget\")), Observable{Any} with 0 listeners. Value:\n",
       "Node{WebIO.DOM}(WebIO.DOM(:html, :div), Any[Plot{Plots.GRBackend() n=0}], Dict{Symbol,Any}(:className => \"interact-flex-row interact-widget\"))], Dict{Symbol,Any}())"
      ]
     },
     "execution_count": 4,
     "metadata": {
      "@webio": {
       "kernelId": "300a3940-f2d5-4fe0-bfd4-cc3d34f539bc"
      }
     },
     "output_type": "execute_result"
    }
   ],
   "source": [
    "@manipulate for paises = checkboxes(slugs)\n",
    "    p = plot()\n",
    "    for pais in paises\n",
    "        m = contagiados(pais)\n",
    "        plot!(m.Date, m.Cases, label=pais)\n",
    "    end\n",
    "    p\n",
    "end"
   ]
  },
  {
   "cell_type": "code",
   "execution_count": 5,
   "metadata": {},
   "outputs": [
    {
     "data": {
      "application/vnd.webio.node+json": {
       "children": [
        {
         "children": [
          {
           "children": [
            {
             "children": [
              {
               "children": [
                {
                 "children": [],
                 "instanceArgs": {
                  "namespace": "html",
                  "tag": "input"
                 },
                 "nodeType": "DOM",
                 "props": {
                  "attributes": {
                   "data-bind": "checked : $root.index, checkedValue: val, attr : {id : id}",
                   "name": "##409",
                   "type": "checkbox"
                  },
                  "className": "is-checkradio "
                 },
                 "type": "node"
                },
                {
                 "children": [],
                 "instanceArgs": {
                  "namespace": "html",
                  "tag": "label"
                 },
                 "nodeType": "DOM",
                 "props": {
                  "attributes": {
                   "data-bind": "text : key, attr : {for : id}"
                  }
                 },
                 "type": "node"
                }
               ],
               "instanceArgs": {
                "namespace": "html",
                "tag": "div"
               },
               "nodeType": "DOM",
               "props": {
                "className": "field"
               },
               "type": "node"
              }
             ],
             "instanceArgs": {
              "namespace": "html",
              "tag": "div"
             },
             "nodeType": "DOM",
             "props": {
              "attributes": {
               "data-bind": "foreach : options_js"
              },
              "className": "field"
             },
             "type": "node"
            }
           ],
           "instanceArgs": {
            "handlers": {
             "index": [
              "(function (val){return (val!=this.model[\"index\"]()) ? (this.valueFromJulia[\"index\"]=true, this.model[\"index\"](val)) : undefined})"
             ],
             "options_js": [
              "(function (val){return (val!=this.model[\"options_js\"]()) ? (this.valueFromJulia[\"options_js\"]=true, this.model[\"options_js\"](val)) : undefined})"
             ]
            },
            "id": "2715867727360918467",
            "imports": {
             "data": [
              {
               "name": "knockout",
               "type": "js",
               "url": "/assetserver/938acb354ca4815fdbf66c3905eb221d0c578a85-knockout.js"
              },
              {
               "name": "knockout_punches",
               "type": "js",
               "url": "/assetserver/bb26f5035fc3d7a1bf0d38a7937f5dc87587e934-knockout_punches.js"
              },
              {
               "name": null,
               "type": "js",
               "url": "/assetserver/477af2faa28a6794de0f5ae5f9022d76de8f6d7c-all.js"
              },
              {
               "name": null,
               "type": "css",
               "url": "/assetserver/24cc7f7a0c028423a4dbc3bb7477d852515f6482-style.css"
              },
              {
               "name": null,
               "type": "css",
               "url": "/assetserver/7142905866658f89d3f4ad1638cd64a7c4495296-bulma_confined.min.css"
              }
             ],
             "type": "async_block"
            },
            "mount_callbacks": [
             "function () {\n    var handler = (function (ko, koPunches) {\n    ko.punches.enableAll();\n    ko.bindingHandlers.numericValue = {\n        init: function(element, valueAccessor, allBindings, data, context) {\n            var stringified = ko.observable(ko.unwrap(valueAccessor()));\n            stringified.subscribe(function(value) {\n                var val = parseFloat(value);\n                if (!isNaN(val)) {\n                    valueAccessor()(val);\n                }\n            });\n            valueAccessor().subscribe(function(value) {\n                var str = JSON.stringify(value);\n                if ((str == \"0\") && ([\"-0\", \"-0.\"].indexOf(stringified()) >= 0))\n                     return;\n                 if ([\"null\", \"\"].indexOf(str) >= 0)\n                     return;\n                stringified(str);\n            });\n            ko.applyBindingsToNode(\n                element,\n                {\n                    value: stringified,\n                    valueUpdate: allBindings.get('valueUpdate'),\n                },\n                context,\n            );\n        }\n    };\n    var json_data = {\"options_js\":WebIO.getval({\"name\":\"options_js\",\"scope\":\"2715867727360918467\",\"id\":\"ob_27\",\"type\":\"observable\"}),\"index\":WebIO.getval({\"name\":\"index\",\"scope\":\"2715867727360918467\",\"id\":\"ob_26\",\"type\":\"observable\"})};\n    var self = this;\n    function AppViewModel() {\n        for (var key in json_data) {\n            var el = json_data[key];\n            this[key] = Array.isArray(el) ? ko.observableArray(el) : ko.observable(el);\n        }\n        \n        \n        [this[\"options_js\"].subscribe((function (val){!(this.valueFromJulia[\"options_js\"]) ? (WebIO.setval({\"name\":\"options_js\",\"scope\":\"2715867727360918467\",\"id\":\"ob_27\",\"type\":\"observable\"},val)) : undefined; return this.valueFromJulia[\"options_js\"]=false}),self),this[\"index\"].subscribe((function (val){!(this.valueFromJulia[\"index\"]) ? (WebIO.setval({\"name\":\"index\",\"scope\":\"2715867727360918467\",\"id\":\"ob_26\",\"type\":\"observable\"},val)) : undefined; return this.valueFromJulia[\"index\"]=false}),self)]\n        \n    }\n    self.model = new AppViewModel();\n    self.valueFromJulia = {};\n    for (var key in json_data) {\n        self.valueFromJulia[key] = false;\n    }\n    ko.applyBindings(self.model, self.dom);\n}\n);\n    (WebIO.importBlock({\"data\":[{\"name\":\"knockout\",\"type\":\"js\",\"url\":\"/assetserver/938acb354ca4815fdbf66c3905eb221d0c578a85-knockout.js\"},{\"name\":\"knockout_punches\",\"type\":\"js\",\"url\":\"/assetserver/bb26f5035fc3d7a1bf0d38a7937f5dc87587e934-knockout_punches.js\"}],\"type\":\"async_block\"})).then((imports) => handler.apply(this, imports));\n}\n"
            ],
            "observables": {
             "index": {
              "id": "ob_26",
              "sync": true,
              "value": []
             },
             "options_js": {
              "id": "ob_27",
              "sync": false,
              "value": [
               {
                "id": "idj7JCTrlB",
                "key": "ALA Aland Islands",
                "val": 1
               },
               {
                "id": "idNcLwDtji",
                "key": "Afghanistan",
                "val": 2
               },
               {
                "id": "id8RWOoGLR",
                "key": "Albania",
                "val": 3
               },
               {
                "id": "idez3yCUvE",
                "key": "Algeria",
                "val": 4
               },
               {
                "id": "idWFce8nuP",
                "key": "American Samoa",
                "val": 5
               },
               {
                "id": "idg5YWzDA1",
                "key": "Andorra",
                "val": 6
               },
               {
                "id": "idFQ73QbyG",
                "key": "Angola",
                "val": 7
               },
               {
                "id": "idw1nEaaRc",
                "key": "Anguilla",
                "val": 8
               },
               {
                "id": "idek4JjM9O",
                "key": "Antarctica",
                "val": 9
               },
               {
                "id": "idKMs3SxKr",
                "key": "Antigua and Barbuda",
                "val": 10
               },
               {
                "id": "idtvjStgxU",
                "key": "Argentina",
                "val": 11
               },
               {
                "id": "ideEpx7gZS",
                "key": "Armenia",
                "val": 12
               },
               {
                "id": "idjX36kswr",
                "key": "Aruba",
                "val": 13
               },
               {
                "id": "idpAYfh2QF",
                "key": "Australia",
                "val": 14
               },
               {
                "id": "idb8UIMyyF",
                "key": "Austria",
                "val": 15
               },
               {
                "id": "idnk5Tt5JH",
                "key": "Azerbaijan",
                "val": 16
               },
               {
                "id": "ideA0YSYjl",
                "key": "Bahamas",
                "val": 17
               },
               {
                "id": "ideQ20niWq",
                "key": "Bahrain",
                "val": 18
               },
               {
                "id": "idhtIQjdNB",
                "key": "Bangladesh",
                "val": 19
               },
               {
                "id": "idLFE4JOTl",
                "key": "Barbados",
                "val": 20
               },
               {
                "id": "idr0G1lSPB",
                "key": "Belarus",
                "val": 21
               },
               {
                "id": "idSSxYcjex",
                "key": "Belgium",
                "val": 22
               },
               {
                "id": "idXiSrva9J",
                "key": "Belize",
                "val": 23
               },
               {
                "id": "idiiQYendg",
                "key": "Benin",
                "val": 24
               },
               {
                "id": "idQ2VRMrsy",
                "key": "Bermuda",
                "val": 25
               },
               {
                "id": "idbewvhMBH",
                "key": "Bhutan",
                "val": 26
               },
               {
                "id": "idwq6nVSEg",
                "key": "Bolivia",
                "val": 27
               },
               {
                "id": "idUqRxUkRq",
                "key": "Bosnia and Herzegovina",
                "val": 28
               },
               {
                "id": "id3KgjWEqi",
                "key": "Botswana",
                "val": 29
               },
               {
                "id": "idDqrnAy9R",
                "key": "Bouvet Island",
                "val": 30
               },
               {
                "id": "id0dumzTIv",
                "key": "Brazil",
                "val": 31
               },
               {
                "id": "id9cA2Khiy",
                "key": "British Indian Ocean Territory",
                "val": 32
               },
               {
                "id": "idO6pAnHLE",
                "key": "British Virgin Islands",
                "val": 33
               },
               {
                "id": "id0T8CI2rr",
                "key": "Brunei Darussalam",
                "val": 34
               },
               {
                "id": "idrkzmakpF",
                "key": "Bulgaria",
                "val": 35
               },
               {
                "id": "idpmf5PDoF",
                "key": "Burkina Faso",
                "val": 36
               },
               {
                "id": "idy3jWWtpW",
                "key": "Burundi",
                "val": 37
               },
               {
                "id": "idrE1wvQd4",
                "key": "Cambodia",
                "val": 38
               },
               {
                "id": "id5EaZohYt",
                "key": "Cameroon",
                "val": 39
               },
               {
                "id": "idh3bzBV0g",
                "key": "Canada",
                "val": 40
               },
               {
                "id": "id1kdav8Z2",
                "key": "Cape Verde",
                "val": 41
               },
               {
                "id": "idcT40Y1yW",
                "key": "Cayman Islands",
                "val": 42
               },
               {
                "id": "idLXsFe0Sz",
                "key": "Central African Republic",
                "val": 43
               },
               {
                "id": "idc93WeV3V",
                "key": "Chad",
                "val": 44
               },
               {
                "id": "idFNT8OaQf",
                "key": "Chile",
                "val": 45
               },
               {
                "id": "idaApSax5x",
                "key": "China",
                "val": 46
               },
               {
                "id": "id1ZZ9R25D",
                "key": "Christmas Island",
                "val": 47
               },
               {
                "id": "idsQ5YrED1",
                "key": "Cocos (Keeling) Islands",
                "val": 48
               },
               {
                "id": "iddBqadKQs",
                "key": "Colombia",
                "val": 49
               },
               {
                "id": "idZO9Xs992",
                "key": "Comoros",
                "val": 50
               },
               {
                "id": "idGMRUxldi",
                "key": "Congo (Brazzaville)",
                "val": 51
               },
               {
                "id": "idFwjdfOfW",
                "key": "Congo (Kinshasa)",
                "val": 52
               },
               {
                "id": "id7rzAggm6",
                "key": "Cook Islands",
                "val": 53
               },
               {
                "id": "id3GdKTs81",
                "key": "Costa Rica",
                "val": 54
               },
               {
                "id": "idkFDD0Bcm",
                "key": "Croatia",
                "val": 55
               },
               {
                "id": "idGgkGemeJ",
                "key": "Cuba",
                "val": 56
               },
               {
                "id": "idevZkrYGB",
                "key": "Cyprus",
                "val": 57
               },
               {
                "id": "idq6y5sjAi",
                "key": "Czech Republic",
                "val": 58
               },
               {
                "id": "idxdd3i7jd",
                "key": "Côte d'Ivoire",
                "val": 59
               },
               {
                "id": "id2Hit3joc",
                "key": "Denmark",
                "val": 60
               },
               {
                "id": "idJgDsFXLJ",
                "key": "Djibouti",
                "val": 61
               },
               {
                "id": "id58Svkxr7",
                "key": "Dominica",
                "val": 62
               },
               {
                "id": "idF49ahABb",
                "key": "Dominican Republic",
                "val": 63
               },
               {
                "id": "idEQjLMgyA",
                "key": "Ecuador",
                "val": 64
               },
               {
                "id": "idcfSRWnFg",
                "key": "Egypt",
                "val": 65
               },
               {
                "id": "idOJmOoUTc",
                "key": "El Salvador",
                "val": 66
               },
               {
                "id": "idK2JHqSqr",
                "key": "Equatorial Guinea",
                "val": 67
               },
               {
                "id": "idzIClwpI4",
                "key": "Eritrea",
                "val": 68
               },
               {
                "id": "idMgZAZT98",
                "key": "Estonia",
                "val": 69
               },
               {
                "id": "iduLpyST4Q",
                "key": "Ethiopia",
                "val": 70
               },
               {
                "id": "idduFnL2EB",
                "key": "Falkland Islands (Malvinas)",
                "val": 71
               },
               {
                "id": "idqaIhR1Ak",
                "key": "Faroe Islands",
                "val": 72
               },
               {
                "id": "idHOEa9hjM",
                "key": "Fiji",
                "val": 73
               },
               {
                "id": "idNUMg8MkT",
                "key": "Finland",
                "val": 74
               },
               {
                "id": "idRga55a4H",
                "key": "France",
                "val": 75
               },
               {
                "id": "idgPwmI91t",
                "key": "French Guiana",
                "val": 76
               },
               {
                "id": "idczPdOoDc",
                "key": "French Polynesia",
                "val": 77
               },
               {
                "id": "idIBv0ZRKh",
                "key": "French Southern Territories",
                "val": 78
               },
               {
                "id": "id1kn3u0dn",
                "key": "Gabon",
                "val": 79
               },
               {
                "id": "id1Hy7rNHg",
                "key": "Gambia",
                "val": 80
               },
               {
                "id": "idPc9ziW99",
                "key": "Georgia",
                "val": 81
               },
               {
                "id": "iddV3Hw2Wn",
                "key": "Germany",
                "val": 82
               },
               {
                "id": "idvEdA5Ds8",
                "key": "Ghana",
                "val": 83
               },
               {
                "id": "id7acOcHUI",
                "key": "Gibraltar",
                "val": 84
               },
               {
                "id": "idxRUaFvI6",
                "key": "Greece",
                "val": 85
               },
               {
                "id": "idvjv5YOJ9",
                "key": "Greenland",
                "val": 86
               },
               {
                "id": "idCleStSJi",
                "key": "Grenada",
                "val": 87
               },
               {
                "id": "idJjeX97RK",
                "key": "Guadeloupe",
                "val": 88
               },
               {
                "id": "idmOq7F6fv",
                "key": "Guam",
                "val": 89
               },
               {
                "id": "idtpRMX57s",
                "key": "Guatemala",
                "val": 90
               },
               {
                "id": "idEsu5Fh83",
                "key": "Guernsey",
                "val": 91
               },
               {
                "id": "id8AkT4XVM",
                "key": "Guinea",
                "val": 92
               },
               {
                "id": "id5sAuBHqH",
                "key": "Guinea-Bissau",
                "val": 93
               },
               {
                "id": "idCmhtPU8H",
                "key": "Guyana",
                "val": 94
               },
               {
                "id": "idKTt8AToS",
                "key": "Haiti",
                "val": 95
               },
               {
                "id": "idD3YtEQAD",
                "key": "Heard and Mcdonald Islands",
                "val": 96
               },
               {
                "id": "idClUO3am3",
                "key": "Holy See (Vatican City State)",
                "val": 97
               },
               {
                "id": "idRSwL5KWy",
                "key": "Honduras",
                "val": 98
               },
               {
                "id": "idWziP2vU4",
                "key": "Hong Kong, SAR China",
                "val": 99
               },
               {
                "id": "idoCWY29uT",
                "key": "Hungary",
                "val": 100
               },
               {
                "id": "id7Wg5W5Ie",
                "key": "Iceland",
                "val": 101
               },
               {
                "id": "idZiJTSwD0",
                "key": "India",
                "val": 102
               },
               {
                "id": "iddNQXFBJf",
                "key": "Indonesia",
                "val": 103
               },
               {
                "id": "iddVD0kyyX",
                "key": "Iran, Islamic Republic of",
                "val": 104
               },
               {
                "id": "idkj2Ngun8",
                "key": "Iraq",
                "val": 105
               },
               {
                "id": "idnPwjdoV3",
                "key": "Ireland",
                "val": 106
               },
               {
                "id": "idHRUtF2qX",
                "key": "Isle of Man",
                "val": 107
               },
               {
                "id": "idbc1gSS3m",
                "key": "Israel",
                "val": 108
               },
               {
                "id": "idTo1rJQkF",
                "key": "Italy",
                "val": 109
               },
               {
                "id": "idW3wip36O",
                "key": "Jamaica",
                "val": 110
               },
               {
                "id": "idCk3avPNi",
                "key": "Japan",
                "val": 111
               },
               {
                "id": "idfakY04bp",
                "key": "Jersey",
                "val": 112
               },
               {
                "id": "idLiJ2wZsD",
                "key": "Jordan",
                "val": 113
               },
               {
                "id": "idTD4Bky7b",
                "key": "Kazakhstan",
                "val": 114
               },
               {
                "id": "idHGvxNfX7",
                "key": "Kenya",
                "val": 115
               },
               {
                "id": "idjAx3rqV5",
                "key": "Kiribati",
                "val": 116
               },
               {
                "id": "idFkvFypPr",
                "key": "Korea (North)",
                "val": 117
               },
               {
                "id": "idLbSjwRJR",
                "key": "Korea (South)",
                "val": 118
               },
               {
                "id": "idsHyKKmue",
                "key": "Kuwait",
                "val": 119
               },
               {
                "id": "idRk5LTy2j",
                "key": "Kyrgyzstan",
                "val": 120
               },
               {
                "id": "idU7RrMlMO",
                "key": "Lao PDR",
                "val": 121
               },
               {
                "id": "idFSECmJD5",
                "key": "Latvia",
                "val": 122
               },
               {
                "id": "id5GyrZpC4",
                "key": "Lebanon",
                "val": 123
               },
               {
                "id": "idDiewImsr",
                "key": "Lesotho",
                "val": 124
               },
               {
                "id": "idSdeLyCWR",
                "key": "Liberia",
                "val": 125
               },
               {
                "id": "id19w4Sho7",
                "key": "Libya",
                "val": 126
               },
               {
                "id": "idR6HTDWzF",
                "key": "Liechtenstein",
                "val": 127
               },
               {
                "id": "idNtRvrvsj",
                "key": "Lithuania",
                "val": 128
               },
               {
                "id": "idyUOycpyR",
                "key": "Luxembourg",
                "val": 129
               },
               {
                "id": "idzCUD6BeZ",
                "key": "Macao, SAR China",
                "val": 130
               },
               {
                "id": "idWSrjydHw",
                "key": "Macedonia, Republic of",
                "val": 131
               },
               {
                "id": "idxsg4pq1c",
                "key": "Madagascar",
                "val": 132
               },
               {
                "id": "idlg9gjIq9",
                "key": "Malawi",
                "val": 133
               },
               {
                "id": "id5PWaZ2DJ",
                "key": "Malaysia",
                "val": 134
               },
               {
                "id": "idUCIiPLud",
                "key": "Maldives",
                "val": 135
               },
               {
                "id": "idkaTnBqc5",
                "key": "Mali",
                "val": 136
               },
               {
                "id": "id5WsJVqzv",
                "key": "Malta",
                "val": 137
               },
               {
                "id": "idpggmjyv1",
                "key": "Marshall Islands",
                "val": 138
               },
               {
                "id": "idTkuAHVrD",
                "key": "Martinique",
                "val": 139
               },
               {
                "id": "idW998N02T",
                "key": "Mauritania",
                "val": 140
               },
               {
                "id": "idtfYSSyP4",
                "key": "Mauritius",
                "val": 141
               },
               {
                "id": "idUG92oMUN",
                "key": "Mayotte",
                "val": 142
               },
               {
                "id": "id7S7KkeOe",
                "key": "Mexico",
                "val": 143
               },
               {
                "id": "idSJiI4jf2",
                "key": "Micronesia, Federated States of",
                "val": 144
               },
               {
                "id": "idzW3ZAUgA",
                "key": "Moldova",
                "val": 145
               },
               {
                "id": "idO4q4wZpy",
                "key": "Monaco",
                "val": 146
               },
               {
                "id": "idSm7Wbdqw",
                "key": "Mongolia",
                "val": 147
               },
               {
                "id": "idjgy1GwCN",
                "key": "Montenegro",
                "val": 148
               },
               {
                "id": "idZILWM89Q",
                "key": "Montserrat",
                "val": 149
               },
               {
                "id": "idsr93U2y8",
                "key": "Morocco",
                "val": 150
               },
               {
                "id": "idRM41xgdt",
                "key": "Mozambique",
                "val": 151
               },
               {
                "id": "idrh7vsL1r",
                "key": "Myanmar",
                "val": 152
               },
               {
                "id": "idYqlT8Iys",
                "key": "Namibia",
                "val": 153
               },
               {
                "id": "idAn8XxWgu",
                "key": "Nauru",
                "val": 154
               },
               {
                "id": "idTYKUR3Jz",
                "key": "Nepal",
                "val": 155
               },
               {
                "id": "id9LqRV5cS",
                "key": "Netherlands",
                "val": 156
               },
               {
                "id": "idXKq3RDnU",
                "key": "Netherlands Antilles",
                "val": 157
               },
               {
                "id": "idvlNnuIGY",
                "key": "New Caledonia",
                "val": 158
               },
               {
                "id": "idy5nbiGHj",
                "key": "New Zealand",
                "val": 159
               },
               {
                "id": "idL7r2caRm",
                "key": "Nicaragua",
                "val": 160
               },
               {
                "id": "idFnhMCgao",
                "key": "Niger",
                "val": 161
               },
               {
                "id": "idv7eGnYbq",
                "key": "Nigeria",
                "val": 162
               },
               {
                "id": "id4XNCD58N",
                "key": "Niue",
                "val": 163
               },
               {
                "id": "idUo6zMug5",
                "key": "Norfolk Island",
                "val": 164
               },
               {
                "id": "idknT1yR0W",
                "key": "Northern Mariana Islands",
                "val": 165
               },
               {
                "id": "idB4KgBbER",
                "key": "Norway",
                "val": 166
               },
               {
                "id": "ida5PVdhVI",
                "key": "Oman",
                "val": 167
               },
               {
                "id": "idZg2kQ9Wd",
                "key": "Pakistan",
                "val": 168
               },
               {
                "id": "id7XUkrHrx",
                "key": "Palau",
                "val": 169
               },
               {
                "id": "id9GshBX1Z",
                "key": "Palestinian Territory",
                "val": 170
               },
               {
                "id": "idByA5bihV",
                "key": "Panama",
                "val": 171
               },
               {
                "id": "idHnI4JhoQ",
                "key": "Papua New Guinea",
                "val": 172
               },
               {
                "id": "idpkUYJwBq",
                "key": "Paraguay",
                "val": 173
               },
               {
                "id": "idnWOrWI2U",
                "key": "Peru",
                "val": 174
               },
               {
                "id": "idQ5Kj3IYv",
                "key": "Philippines",
                "val": 175
               },
               {
                "id": "idEVcngalM",
                "key": "Pitcairn",
                "val": 176
               },
               {
                "id": "id6gmjozu2",
                "key": "Poland",
                "val": 177
               },
               {
                "id": "id7Uj4gKEN",
                "key": "Portugal",
                "val": 178
               },
               {
                "id": "idcDa8PmhT",
                "key": "Puerto Rico",
                "val": 179
               },
               {
                "id": "idK2cGoleb",
                "key": "Qatar",
                "val": 180
               },
               {
                "id": "idKsuWkTNX",
                "key": "Republic of Kosovo",
                "val": 181
               },
               {
                "id": "idRQGgOlOB",
                "key": "Romania",
                "val": 182
               },
               {
                "id": "idK7oAO0OS",
                "key": "Russian Federation",
                "val": 183
               },
               {
                "id": "iduaqjGqIn",
                "key": "Rwanda",
                "val": 184
               },
               {
                "id": "idGtp22aVR",
                "key": "Réunion",
                "val": 185
               },
               {
                "id": "idgrsGJbIr",
                "key": "Saint Helena",
                "val": 186
               },
               {
                "id": "idYWe0LZCe",
                "key": "Saint Kitts and Nevis",
                "val": 187
               },
               {
                "id": "id84NZVcOo",
                "key": "Saint Lucia",
                "val": 188
               },
               {
                "id": "idtAPQuMzE",
                "key": "Saint Pierre and Miquelon",
                "val": 189
               },
               {
                "id": "idy3qmP9i9",
                "key": "Saint Vincent and Grenadines",
                "val": 190
               },
               {
                "id": "id6MGgqmLV",
                "key": "Saint-Barthélemy",
                "val": 191
               },
               {
                "id": "idh44G6wdD",
                "key": "Saint-Martin (French part)",
                "val": 192
               },
               {
                "id": "idR1ZrtJRr",
                "key": "Samoa",
                "val": 193
               },
               {
                "id": "id4VxyXI0b",
                "key": "San Marino",
                "val": 194
               },
               {
                "id": "idgK1Rlxbq",
                "key": "Sao Tome and Principe",
                "val": 195
               },
               {
                "id": "idlAcgM3dt",
                "key": "Saudi Arabia",
                "val": 196
               },
               {
                "id": "idUOUYtCcl",
                "key": "Senegal",
                "val": 197
               },
               {
                "id": "idKLE2Stoq",
                "key": "Serbia",
                "val": 198
               },
               {
                "id": "idvoqpz9w2",
                "key": "Seychelles",
                "val": 199
               },
               {
                "id": "idCdufkzjd",
                "key": "Sierra Leone",
                "val": 200
               },
               {
                "id": "idThRxvWhR",
                "key": "Singapore",
                "val": 201
               },
               {
                "id": "idBGmqH7az",
                "key": "Slovakia",
                "val": 202
               },
               {
                "id": "id3ezhh4gk",
                "key": "Slovenia",
                "val": 203
               },
               {
                "id": "idTc01Ps1v",
                "key": "Solomon Islands",
                "val": 204
               },
               {
                "id": "idQ52T3bPC",
                "key": "Somalia",
                "val": 205
               },
               {
                "id": "idMfM6IQKq",
                "key": "South Africa",
                "val": 206
               },
               {
                "id": "idda3ywc6E",
                "key": "South Georgia and the South Sandwich Islands",
                "val": 207
               },
               {
                "id": "idV5sCeJos",
                "key": "South Sudan",
                "val": 208
               },
               {
                "id": "idzux3ee38",
                "key": "Spain",
                "val": 209
               },
               {
                "id": "idLCXi0pOA",
                "key": "Sri Lanka",
                "val": 210
               },
               {
                "id": "idpRfMmELD",
                "key": "Sudan",
                "val": 211
               },
               {
                "id": "idiif0bB8K",
                "key": "Suriname",
                "val": 212
               },
               {
                "id": "idPabXidNa",
                "key": "Svalbard and Jan Mayen Islands",
                "val": 213
               },
               {
                "id": "idDgCxYIvl",
                "key": "Swaziland",
                "val": 214
               },
               {
                "id": "idM5ovu8VR",
                "key": "Sweden",
                "val": 215
               },
               {
                "id": "idJ04pCQGt",
                "key": "Switzerland",
                "val": 216
               },
               {
                "id": "id9Nksvh8t",
                "key": "Syrian Arab Republic (Syria)",
                "val": 217
               },
               {
                "id": "idhO3ijuoX",
                "key": "Taiwan, Republic of China",
                "val": 218
               },
               {
                "id": "id8NHdMdcs",
                "key": "Tajikistan",
                "val": 219
               },
               {
                "id": "id1rAIsJ9W",
                "key": "Tanzania, United Republic of",
                "val": 220
               },
               {
                "id": "idVdLPOOSJ",
                "key": "Thailand",
                "val": 221
               },
               {
                "id": "idxeIOwxrO",
                "key": "Timor-Leste",
                "val": 222
               },
               {
                "id": "idS3YJHD3M",
                "key": "Togo",
                "val": 223
               },
               {
                "id": "idmsC5SWCy",
                "key": "Tokelau",
                "val": 224
               },
               {
                "id": "iddEkzoliV",
                "key": "Tonga",
                "val": 225
               },
               {
                "id": "idO4f4YQQr",
                "key": "Trinidad and Tobago",
                "val": 226
               },
               {
                "id": "idOWaJNQEQ",
                "key": "Tunisia",
                "val": 227
               },
               {
                "id": "idkVGRWkvx",
                "key": "Turkey",
                "val": 228
               },
               {
                "id": "id96xv9hf6",
                "key": "Turkmenistan",
                "val": 229
               },
               {
                "id": "idfkQtXB1N",
                "key": "Turks and Caicos Islands",
                "val": 230
               },
               {
                "id": "idM4oJSfIV",
                "key": "Tuvalu",
                "val": 231
               },
               {
                "id": "id3p3aVlWc",
                "key": "US Minor Outlying Islands",
                "val": 232
               },
               {
                "id": "idxfvJ5BLi",
                "key": "Uganda",
                "val": 233
               },
               {
                "id": "idMQXFZxjB",
                "key": "Ukraine",
                "val": 234
               },
               {
                "id": "idXT6h04Uo",
                "key": "United Arab Emirates",
                "val": 235
               },
               {
                "id": "id47Q2UAT6",
                "key": "United Kingdom",
                "val": 236
               },
               {
                "id": "idWUkx11dA",
                "key": "United States of America",
                "val": 237
               },
               {
                "id": "id8FjHsj5i",
                "key": "Uruguay",
                "val": 238
               },
               {
                "id": "idUiznVphe",
                "key": "Uzbekistan",
                "val": 239
               },
               {
                "id": "id0b31a1Bo",
                "key": "Vanuatu",
                "val": 240
               },
               {
                "id": "idJ9HsnMul",
                "key": "Venezuela (Bolivarian Republic)",
                "val": 241
               },
               {
                "id": "id4yAwvLqz",
                "key": "Viet Nam",
                "val": 242
               },
               {
                "id": "idW0Ki27mA",
                "key": "Virgin Islands, US",
                "val": 243
               },
               {
                "id": "idOypswu2z",
                "key": "Wallis and Futuna Islands",
                "val": 244
               },
               {
                "id": "idBL6JAFbS",
                "key": "Western Sahara",
                "val": 245
               },
               {
                "id": "idOYbFvvYo",
                "key": "Yemen",
                "val": 246
               },
               {
                "id": "idIrlwzMeX",
                "key": "Zambia",
                "val": 247
               },
               {
                "id": "idmlRXEewV",
                "key": "Zimbabwe",
                "val": 248
               }
              ]
             }
            },
            "systemjs_options": null
           },
           "nodeType": "Scope",
           "props": {},
           "type": "node"
          }
         ],
         "instanceArgs": {
          "namespace": "html",
          "tag": "div"
         },
         "nodeType": "DOM",
         "props": {
          "className": "field interact-widget"
         },
         "type": "node"
        },
        {
         "children": [
          {
           "children": [],
           "instanceArgs": {
            "id": "ob_33",
            "name": "obs-node"
           },
           "nodeType": "ObservableNode",
           "props": {},
           "type": "node"
          }
         ],
         "instanceArgs": {
          "handlers": {},
          "id": "13429797341641382281",
          "imports": {
           "data": [],
           "type": "async_block"
          },
          "mount_callbacks": [],
          "observables": {
           "obs-node": {
            "id": "ob_33",
            "sync": false,
            "value": {
             "children": [
              {
               "children": [],
               "instanceArgs": {
                "namespace": "html",
                "tag": "div"
               },
               "nodeType": "DOM",
               "props": {
                "setInnerHtml": "<?xml version=\"1.0\" encoding=\"utf-8\"?>\n<svg xmlns=\"http://www.w3.org/2000/svg\" xmlns:xlink=\"http://www.w3.org/1999/xlink\" width=\"600\" height=\"400\" viewBox=\"0 0 2400 1600\">\n<defs>\n  <clipPath id=\"clip1700\">\n    <rect x=\"0\" y=\"0\" width=\"2400\" height=\"1600\"/>\n  </clipPath>\n</defs>\n<path clip-path=\"url(#clip1700)\" d=\"\nM0 1600 L2400 1600 L2400 0 L0 0  Z\n  \" fill=\"#ffffff\" fill-rule=\"evenodd\" fill-opacity=\"1\"/>\n<defs>\n  <clipPath id=\"clip1701\">\n    <rect x=\"480\" y=\"0\" width=\"1681\" height=\"1600\"/>\n  </clipPath>\n</defs>\n<path clip-path=\"url(#clip1700)\" d=\"\nM153.898 1487.47 L2352.76 1487.47 L2352.76 47.2441 L153.898 47.2441  Z\n  \" fill=\"#ffffff\" fill-rule=\"evenodd\" fill-opacity=\"1\"/>\n<defs>\n  <clipPath id=\"clip1702\">\n    <rect x=\"153\" y=\"47\" width=\"2200\" height=\"1441\"/>\n  </clipPath>\n</defs>\n<polyline clip-path=\"url(#clip1702)\" style=\"stroke:#000000; stroke-width:2; stroke-opacity:0.1; fill:none\" points=\"\n  153.898,1487.47 153.898,47.2441 \n  \"/>\n<polyline clip-path=\"url(#clip1702)\" style=\"stroke:#000000; stroke-width:2; stroke-opacity:0.1; fill:none\" points=\"\n  593.67,1487.47 593.67,47.2441 \n  \"/>\n<polyline clip-path=\"url(#clip1702)\" style=\"stroke:#000000; stroke-width:2; stroke-opacity:0.1; fill:none\" points=\"\n  1033.44,1487.47 1033.44,47.2441 \n  \"/>\n<polyline clip-path=\"url(#clip1702)\" style=\"stroke:#000000; stroke-width:2; stroke-opacity:0.1; fill:none\" points=\"\n  1473.21,1487.47 1473.21,47.2441 \n  \"/>\n<polyline clip-path=\"url(#clip1702)\" style=\"stroke:#000000; stroke-width:2; stroke-opacity:0.1; fill:none\" points=\"\n  1912.98,1487.47 1912.98,47.2441 \n  \"/>\n<polyline clip-path=\"url(#clip1702)\" style=\"stroke:#000000; stroke-width:2; stroke-opacity:0.1; fill:none\" points=\"\n  2352.76,1487.47 2352.76,47.2441 \n  \"/>\n<polyline clip-path=\"url(#clip1702)\" style=\"stroke:#000000; stroke-width:2; stroke-opacity:0.1; fill:none\" points=\"\n  153.898,1487.47 2352.76,1487.47 \n  \"/>\n<polyline clip-path=\"url(#clip1702)\" style=\"stroke:#000000; stroke-width:2; stroke-opacity:0.1; fill:none\" points=\"\n  153.898,1199.43 2352.76,1199.43 \n  \"/>\n<polyline clip-path=\"url(#clip1702)\" style=\"stroke:#000000; stroke-width:2; stroke-opacity:0.1; fill:none\" points=\"\n  153.898,911.382 2352.76,911.382 \n  \"/>\n<polyline clip-path=\"url(#clip1702)\" style=\"stroke:#000000; stroke-width:2; stroke-opacity:0.1; fill:none\" points=\"\n  153.898,623.336 2352.76,623.336 \n  \"/>\n<polyline clip-path=\"url(#clip1702)\" style=\"stroke:#000000; stroke-width:2; stroke-opacity:0.1; fill:none\" points=\"\n  153.898,335.29 2352.76,335.29 \n  \"/>\n<polyline clip-path=\"url(#clip1702)\" style=\"stroke:#000000; stroke-width:2; stroke-opacity:0.1; fill:none\" points=\"\n  153.898,47.2441 2352.76,47.2441 \n  \"/>\n<polyline clip-path=\"url(#clip1700)\" style=\"stroke:#000000; stroke-width:4; stroke-opacity:1; fill:none\" points=\"\n  153.898,1487.47 2352.76,1487.47 \n  \"/>\n<polyline clip-path=\"url(#clip1700)\" style=\"stroke:#000000; stroke-width:4; stroke-opacity:1; fill:none\" points=\"\n  153.898,1487.47 153.898,47.2441 \n  \"/>\n<polyline clip-path=\"url(#clip1700)\" style=\"stroke:#000000; stroke-width:4; stroke-opacity:1; fill:none\" points=\"\n  153.898,1487.47 153.898,1470.19 \n  \"/>\n<polyline clip-path=\"url(#clip1700)\" style=\"stroke:#000000; stroke-width:4; stroke-opacity:1; fill:none\" points=\"\n  593.67,1487.47 593.67,1470.19 \n  \"/>\n<polyline clip-path=\"url(#clip1700)\" style=\"stroke:#000000; stroke-width:4; stroke-opacity:1; fill:none\" points=\"\n  1033.44,1487.47 1033.44,1470.19 \n  \"/>\n<polyline clip-path=\"url(#clip1700)\" style=\"stroke:#000000; stroke-width:4; stroke-opacity:1; fill:none\" points=\"\n  1473.21,1487.47 1473.21,1470.19 \n  \"/>\n<polyline clip-path=\"url(#clip1700)\" style=\"stroke:#000000; stroke-width:4; stroke-opacity:1; fill:none\" points=\"\n  1912.98,1487.47 1912.98,1470.19 \n  \"/>\n<polyline clip-path=\"url(#clip1700)\" style=\"stroke:#000000; stroke-width:4; stroke-opacity:1; fill:none\" points=\"\n  2352.76,1487.47 2352.76,1470.19 \n  \"/>\n<polyline clip-path=\"url(#clip1700)\" style=\"stroke:#000000; stroke-width:4; stroke-opacity:1; fill:none\" points=\"\n  153.898,1487.47 180.284,1487.47 \n  \"/>\n<polyline clip-path=\"url(#clip1700)\" style=\"stroke:#000000; stroke-width:4; stroke-opacity:1; fill:none\" points=\"\n  153.898,1199.43 180.284,1199.43 \n  \"/>\n<polyline clip-path=\"url(#clip1700)\" style=\"stroke:#000000; stroke-width:4; stroke-opacity:1; fill:none\" points=\"\n  153.898,911.382 180.284,911.382 \n  \"/>\n<polyline clip-path=\"url(#clip1700)\" style=\"stroke:#000000; stroke-width:4; stroke-opacity:1; fill:none\" points=\"\n  153.898,623.336 180.284,623.336 \n  \"/>\n<polyline clip-path=\"url(#clip1700)\" style=\"stroke:#000000; stroke-width:4; stroke-opacity:1; fill:none\" points=\"\n  153.898,335.29 180.284,335.29 \n  \"/>\n<polyline clip-path=\"url(#clip1700)\" style=\"stroke:#000000; stroke-width:4; stroke-opacity:1; fill:none\" points=\"\n  153.898,47.2441 180.284,47.2441 \n  \"/>\n<g clip-path=\"url(#clip1700)\">\n<text style=\"fill:#000000; fill-opacity:1; font-family:Arial,Helvetica Neue,Helvetica,sans-serif; font-size:48px; text-anchor:middle;\" transform=\"rotate(0, 153.898, 1541.47)\" x=\"153.898\" y=\"1541.47\">0.0</text>\n</g>\n<g clip-path=\"url(#clip1700)\">\n<text style=\"fill:#000000; fill-opacity:1; font-family:Arial,Helvetica Neue,Helvetica,sans-serif; font-size:48px; text-anchor:middle;\" transform=\"rotate(0, 593.67, 1541.47)\" x=\"593.67\" y=\"1541.47\">0.2</text>\n</g>\n<g clip-path=\"url(#clip1700)\">\n<text style=\"fill:#000000; fill-opacity:1; font-family:Arial,Helvetica Neue,Helvetica,sans-serif; font-size:48px; text-anchor:middle;\" transform=\"rotate(0, 1033.44, 1541.47)\" x=\"1033.44\" y=\"1541.47\">0.4</text>\n</g>\n<g clip-path=\"url(#clip1700)\">\n<text style=\"fill:#000000; fill-opacity:1; font-family:Arial,Helvetica Neue,Helvetica,sans-serif; font-size:48px; text-anchor:middle;\" transform=\"rotate(0, 1473.21, 1541.47)\" x=\"1473.21\" y=\"1541.47\">0.6</text>\n</g>\n<g clip-path=\"url(#clip1700)\">\n<text style=\"fill:#000000; fill-opacity:1; font-family:Arial,Helvetica Neue,Helvetica,sans-serif; font-size:48px; text-anchor:middle;\" transform=\"rotate(0, 1912.98, 1541.47)\" x=\"1912.98\" y=\"1541.47\">0.8</text>\n</g>\n<g clip-path=\"url(#clip1700)\">\n<text style=\"fill:#000000; fill-opacity:1; font-family:Arial,Helvetica Neue,Helvetica,sans-serif; font-size:48px; text-anchor:middle;\" transform=\"rotate(0, 2352.76, 1541.47)\" x=\"2352.76\" y=\"1541.47\">1.0</text>\n</g>\n<g clip-path=\"url(#clip1700)\">\n<text style=\"fill:#000000; fill-opacity:1; font-family:Arial,Helvetica Neue,Helvetica,sans-serif; font-size:48px; text-anchor:end;\" transform=\"rotate(0, 129.898, 1504.97)\" x=\"129.898\" y=\"1504.97\">0.0</text>\n</g>\n<g clip-path=\"url(#clip1700)\">\n<text style=\"fill:#000000; fill-opacity:1; font-family:Arial,Helvetica Neue,Helvetica,sans-serif; font-size:48px; text-anchor:end;\" transform=\"rotate(0, 129.898, 1216.93)\" x=\"129.898\" y=\"1216.93\">0.2</text>\n</g>\n<g clip-path=\"url(#clip1700)\">\n<text style=\"fill:#000000; fill-opacity:1; font-family:Arial,Helvetica Neue,Helvetica,sans-serif; font-size:48px; text-anchor:end;\" transform=\"rotate(0, 129.898, 928.882)\" x=\"129.898\" y=\"928.882\">0.4</text>\n</g>\n<g clip-path=\"url(#clip1700)\">\n<text style=\"fill:#000000; fill-opacity:1; font-family:Arial,Helvetica Neue,Helvetica,sans-serif; font-size:48px; text-anchor:end;\" transform=\"rotate(0, 129.898, 640.836)\" x=\"129.898\" y=\"640.836\">0.6</text>\n</g>\n<g clip-path=\"url(#clip1700)\">\n<text style=\"fill:#000000; fill-opacity:1; font-family:Arial,Helvetica Neue,Helvetica,sans-serif; font-size:48px; text-anchor:end;\" transform=\"rotate(0, 129.898, 352.79)\" x=\"129.898\" y=\"352.79\">0.8</text>\n</g>\n<g clip-path=\"url(#clip1700)\">\n<text style=\"fill:#000000; fill-opacity:1; font-family:Arial,Helvetica Neue,Helvetica,sans-serif; font-size:48px; text-anchor:end;\" transform=\"rotate(0, 129.898, 64.7441)\" x=\"129.898\" y=\"64.7441\">1.0</text>\n</g>\n</svg>\n"
               },
               "type": "node"
              }
             ],
             "instanceArgs": {
              "namespace": "html",
              "tag": "div"
             },
             "nodeType": "DOM",
             "props": {
              "className": "interact-flex-row interact-widget"
             },
             "type": "node"
            }
           }
          },
          "systemjs_options": null
         },
         "nodeType": "Scope",
         "props": {},
         "type": "node"
        }
       ],
       "instanceArgs": {
        "namespace": "html",
        "tag": "div"
       },
       "nodeType": "DOM",
       "props": {},
       "type": "node"
      },
      "text/html": [
       "<div\n",
       "    class=\"webio-mountpoint\"\n",
       "    data-webio-mountpoint=\"752661011033367581\"\n",
       ">\n",
       "    <script>\n",
       "    if (window.require && require.defined && require.defined(\"nbextensions/webio-jupyter-notebook\")) {\n",
       "        console.log(\"Jupyter WebIO extension detected, not mounting.\");\n",
       "    } else if (window.WebIO) {\n",
       "        WebIO.mount(\n",
       "            document.querySelector('[data-webio-mountpoint=\"752661011033367581\"]'),\n",
       "            {\"props\":{},\"nodeType\":\"DOM\",\"type\":\"node\",\"instanceArgs\":{\"namespace\":\"html\",\"tag\":\"div\"},\"children\":[{\"props\":{\"className\":\"field interact-widget\"},\"nodeType\":\"DOM\",\"type\":\"node\",\"instanceArgs\":{\"namespace\":\"html\",\"tag\":\"div\"},\"children\":[{\"props\":{},\"nodeType\":\"Scope\",\"type\":\"node\",\"instanceArgs\":{\"imports\":{\"data\":[{\"name\":\"knockout\",\"type\":\"js\",\"url\":\"\\/assetserver\\/938acb354ca4815fdbf66c3905eb221d0c578a85-knockout.js\"},{\"name\":\"knockout_punches\",\"type\":\"js\",\"url\":\"\\/assetserver\\/bb26f5035fc3d7a1bf0d38a7937f5dc87587e934-knockout_punches.js\"},{\"name\":null,\"type\":\"js\",\"url\":\"\\/assetserver\\/477af2faa28a6794de0f5ae5f9022d76de8f6d7c-all.js\"},{\"name\":null,\"type\":\"css\",\"url\":\"\\/assetserver\\/24cc7f7a0c028423a4dbc3bb7477d852515f6482-style.css\"},{\"name\":null,\"type\":\"css\",\"url\":\"\\/assetserver\\/7142905866658f89d3f4ad1638cd64a7c4495296-bulma_confined.min.css\"}],\"type\":\"async_block\"},\"id\":\"2715867727360918467\",\"handlers\":{\"options_js\":[\"(function (val){return (val!=this.model[\\\"options_js\\\"]()) ? (this.valueFromJulia[\\\"options_js\\\"]=true, this.model[\\\"options_js\\\"](val)) : undefined})\"],\"index\":[\"(function (val){return (val!=this.model[\\\"index\\\"]()) ? (this.valueFromJulia[\\\"index\\\"]=true, this.model[\\\"index\\\"](val)) : undefined})\"]},\"systemjs_options\":null,\"mount_callbacks\":[\"function () {\\n    var handler = (function (ko, koPunches) {\\n    ko.punches.enableAll();\\n    ko.bindingHandlers.numericValue = {\\n        init: function(element, valueAccessor, allBindings, data, context) {\\n            var stringified = ko.observable(ko.unwrap(valueAccessor()));\\n            stringified.subscribe(function(value) {\\n                var val = parseFloat(value);\\n                if (!isNaN(val)) {\\n                    valueAccessor()(val);\\n                }\\n            });\\n            valueAccessor().subscribe(function(value) {\\n                var str = JSON.stringify(value);\\n                if ((str == \\\"0\\\") && ([\\\"-0\\\", \\\"-0.\\\"].indexOf(stringified()) >= 0))\\n                     return;\\n                 if ([\\\"null\\\", \\\"\\\"].indexOf(str) >= 0)\\n                     return;\\n                stringified(str);\\n            });\\n            ko.applyBindingsToNode(\\n                element,\\n                {\\n                    value: stringified,\\n                    valueUpdate: allBindings.get('valueUpdate'),\\n                },\\n                context,\\n            );\\n        }\\n    };\\n    var json_data = {\\\"options_js\\\":WebIO.getval({\\\"name\\\":\\\"options_js\\\",\\\"scope\\\":\\\"2715867727360918467\\\",\\\"id\\\":\\\"ob_27\\\",\\\"type\\\":\\\"observable\\\"}),\\\"index\\\":WebIO.getval({\\\"name\\\":\\\"index\\\",\\\"scope\\\":\\\"2715867727360918467\\\",\\\"id\\\":\\\"ob_26\\\",\\\"type\\\":\\\"observable\\\"})};\\n    var self = this;\\n    function AppViewModel() {\\n        for (var key in json_data) {\\n            var el = json_data[key];\\n            this[key] = Array.isArray(el) ? ko.observableArray(el) : ko.observable(el);\\n        }\\n        \\n        \\n        [this[\\\"options_js\\\"].subscribe((function (val){!(this.valueFromJulia[\\\"options_js\\\"]) ? (WebIO.setval({\\\"name\\\":\\\"options_js\\\",\\\"scope\\\":\\\"2715867727360918467\\\",\\\"id\\\":\\\"ob_27\\\",\\\"type\\\":\\\"observable\\\"},val)) : undefined; return this.valueFromJulia[\\\"options_js\\\"]=false}),self),this[\\\"index\\\"].subscribe((function (val){!(this.valueFromJulia[\\\"index\\\"]) ? (WebIO.setval({\\\"name\\\":\\\"index\\\",\\\"scope\\\":\\\"2715867727360918467\\\",\\\"id\\\":\\\"ob_26\\\",\\\"type\\\":\\\"observable\\\"},val)) : undefined; return this.valueFromJulia[\\\"index\\\"]=false}),self)]\\n        \\n    }\\n    self.model = new AppViewModel();\\n    self.valueFromJulia = {};\\n    for (var key in json_data) {\\n        self.valueFromJulia[key] = false;\\n    }\\n    ko.applyBindings(self.model, self.dom);\\n}\\n);\\n    (WebIO.importBlock({\\\"data\\\":[{\\\"name\\\":\\\"knockout\\\",\\\"type\\\":\\\"js\\\",\\\"url\\\":\\\"\\/assetserver\\/938acb354ca4815fdbf66c3905eb221d0c578a85-knockout.js\\\"},{\\\"name\\\":\\\"knockout_punches\\\",\\\"type\\\":\\\"js\\\",\\\"url\\\":\\\"\\/assetserver\\/bb26f5035fc3d7a1bf0d38a7937f5dc87587e934-knockout_punches.js\\\"}],\\\"type\\\":\\\"async_block\\\"})).then((imports) => handler.apply(this, imports));\\n}\\n\"],\"observables\":{\"options_js\":{\"sync\":false,\"id\":\"ob_27\",\"value\":[{\"key\":\"ALA Aland Islands\",\"val\":1,\"id\":\"idj7JCTrlB\"},{\"key\":\"Afghanistan\",\"val\":2,\"id\":\"idNcLwDtji\"},{\"key\":\"Albania\",\"val\":3,\"id\":\"id8RWOoGLR\"},{\"key\":\"Algeria\",\"val\":4,\"id\":\"idez3yCUvE\"},{\"key\":\"American Samoa\",\"val\":5,\"id\":\"idWFce8nuP\"},{\"key\":\"Andorra\",\"val\":6,\"id\":\"idg5YWzDA1\"},{\"key\":\"Angola\",\"val\":7,\"id\":\"idFQ73QbyG\"},{\"key\":\"Anguilla\",\"val\":8,\"id\":\"idw1nEaaRc\"},{\"key\":\"Antarctica\",\"val\":9,\"id\":\"idek4JjM9O\"},{\"key\":\"Antigua and Barbuda\",\"val\":10,\"id\":\"idKMs3SxKr\"},{\"key\":\"Argentina\",\"val\":11,\"id\":\"idtvjStgxU\"},{\"key\":\"Armenia\",\"val\":12,\"id\":\"ideEpx7gZS\"},{\"key\":\"Aruba\",\"val\":13,\"id\":\"idjX36kswr\"},{\"key\":\"Australia\",\"val\":14,\"id\":\"idpAYfh2QF\"},{\"key\":\"Austria\",\"val\":15,\"id\":\"idb8UIMyyF\"},{\"key\":\"Azerbaijan\",\"val\":16,\"id\":\"idnk5Tt5JH\"},{\"key\":\"Bahamas\",\"val\":17,\"id\":\"ideA0YSYjl\"},{\"key\":\"Bahrain\",\"val\":18,\"id\":\"ideQ20niWq\"},{\"key\":\"Bangladesh\",\"val\":19,\"id\":\"idhtIQjdNB\"},{\"key\":\"Barbados\",\"val\":20,\"id\":\"idLFE4JOTl\"},{\"key\":\"Belarus\",\"val\":21,\"id\":\"idr0G1lSPB\"},{\"key\":\"Belgium\",\"val\":22,\"id\":\"idSSxYcjex\"},{\"key\":\"Belize\",\"val\":23,\"id\":\"idXiSrva9J\"},{\"key\":\"Benin\",\"val\":24,\"id\":\"idiiQYendg\"},{\"key\":\"Bermuda\",\"val\":25,\"id\":\"idQ2VRMrsy\"},{\"key\":\"Bhutan\",\"val\":26,\"id\":\"idbewvhMBH\"},{\"key\":\"Bolivia\",\"val\":27,\"id\":\"idwq6nVSEg\"},{\"key\":\"Bosnia and Herzegovina\",\"val\":28,\"id\":\"idUqRxUkRq\"},{\"key\":\"Botswana\",\"val\":29,\"id\":\"id3KgjWEqi\"},{\"key\":\"Bouvet Island\",\"val\":30,\"id\":\"idDqrnAy9R\"},{\"key\":\"Brazil\",\"val\":31,\"id\":\"id0dumzTIv\"},{\"key\":\"British Indian Ocean Territory\",\"val\":32,\"id\":\"id9cA2Khiy\"},{\"key\":\"British Virgin Islands\",\"val\":33,\"id\":\"idO6pAnHLE\"},{\"key\":\"Brunei Darussalam\",\"val\":34,\"id\":\"id0T8CI2rr\"},{\"key\":\"Bulgaria\",\"val\":35,\"id\":\"idrkzmakpF\"},{\"key\":\"Burkina Faso\",\"val\":36,\"id\":\"idpmf5PDoF\"},{\"key\":\"Burundi\",\"val\":37,\"id\":\"idy3jWWtpW\"},{\"key\":\"Cambodia\",\"val\":38,\"id\":\"idrE1wvQd4\"},{\"key\":\"Cameroon\",\"val\":39,\"id\":\"id5EaZohYt\"},{\"key\":\"Canada\",\"val\":40,\"id\":\"idh3bzBV0g\"},{\"key\":\"Cape Verde\",\"val\":41,\"id\":\"id1kdav8Z2\"},{\"key\":\"Cayman Islands\",\"val\":42,\"id\":\"idcT40Y1yW\"},{\"key\":\"Central African Republic\",\"val\":43,\"id\":\"idLXsFe0Sz\"},{\"key\":\"Chad\",\"val\":44,\"id\":\"idc93WeV3V\"},{\"key\":\"Chile\",\"val\":45,\"id\":\"idFNT8OaQf\"},{\"key\":\"China\",\"val\":46,\"id\":\"idaApSax5x\"},{\"key\":\"Christmas Island\",\"val\":47,\"id\":\"id1ZZ9R25D\"},{\"key\":\"Cocos (Keeling) Islands\",\"val\":48,\"id\":\"idsQ5YrED1\"},{\"key\":\"Colombia\",\"val\":49,\"id\":\"iddBqadKQs\"},{\"key\":\"Comoros\",\"val\":50,\"id\":\"idZO9Xs992\"},{\"key\":\"Congo (Brazzaville)\",\"val\":51,\"id\":\"idGMRUxldi\"},{\"key\":\"Congo (Kinshasa)\",\"val\":52,\"id\":\"idFwjdfOfW\"},{\"key\":\"Cook Islands\",\"val\":53,\"id\":\"id7rzAggm6\"},{\"key\":\"Costa Rica\",\"val\":54,\"id\":\"id3GdKTs81\"},{\"key\":\"Croatia\",\"val\":55,\"id\":\"idkFDD0Bcm\"},{\"key\":\"Cuba\",\"val\":56,\"id\":\"idGgkGemeJ\"},{\"key\":\"Cyprus\",\"val\":57,\"id\":\"idevZkrYGB\"},{\"key\":\"Czech Republic\",\"val\":58,\"id\":\"idq6y5sjAi\"},{\"key\":\"Côte d'Ivoire\",\"val\":59,\"id\":\"idxdd3i7jd\"},{\"key\":\"Denmark\",\"val\":60,\"id\":\"id2Hit3joc\"},{\"key\":\"Djibouti\",\"val\":61,\"id\":\"idJgDsFXLJ\"},{\"key\":\"Dominica\",\"val\":62,\"id\":\"id58Svkxr7\"},{\"key\":\"Dominican Republic\",\"val\":63,\"id\":\"idF49ahABb\"},{\"key\":\"Ecuador\",\"val\":64,\"id\":\"idEQjLMgyA\"},{\"key\":\"Egypt\",\"val\":65,\"id\":\"idcfSRWnFg\"},{\"key\":\"El Salvador\",\"val\":66,\"id\":\"idOJmOoUTc\"},{\"key\":\"Equatorial Guinea\",\"val\":67,\"id\":\"idK2JHqSqr\"},{\"key\":\"Eritrea\",\"val\":68,\"id\":\"idzIClwpI4\"},{\"key\":\"Estonia\",\"val\":69,\"id\":\"idMgZAZT98\"},{\"key\":\"Ethiopia\",\"val\":70,\"id\":\"iduLpyST4Q\"},{\"key\":\"Falkland Islands (Malvinas)\",\"val\":71,\"id\":\"idduFnL2EB\"},{\"key\":\"Faroe Islands\",\"val\":72,\"id\":\"idqaIhR1Ak\"},{\"key\":\"Fiji\",\"val\":73,\"id\":\"idHOEa9hjM\"},{\"key\":\"Finland\",\"val\":74,\"id\":\"idNUMg8MkT\"},{\"key\":\"France\",\"val\":75,\"id\":\"idRga55a4H\"},{\"key\":\"French Guiana\",\"val\":76,\"id\":\"idgPwmI91t\"},{\"key\":\"French Polynesia\",\"val\":77,\"id\":\"idczPdOoDc\"},{\"key\":\"French Southern Territories\",\"val\":78,\"id\":\"idIBv0ZRKh\"},{\"key\":\"Gabon\",\"val\":79,\"id\":\"id1kn3u0dn\"},{\"key\":\"Gambia\",\"val\":80,\"id\":\"id1Hy7rNHg\"},{\"key\":\"Georgia\",\"val\":81,\"id\":\"idPc9ziW99\"},{\"key\":\"Germany\",\"val\":82,\"id\":\"iddV3Hw2Wn\"},{\"key\":\"Ghana\",\"val\":83,\"id\":\"idvEdA5Ds8\"},{\"key\":\"Gibraltar\",\"val\":84,\"id\":\"id7acOcHUI\"},{\"key\":\"Greece\",\"val\":85,\"id\":\"idxRUaFvI6\"},{\"key\":\"Greenland\",\"val\":86,\"id\":\"idvjv5YOJ9\"},{\"key\":\"Grenada\",\"val\":87,\"id\":\"idCleStSJi\"},{\"key\":\"Guadeloupe\",\"val\":88,\"id\":\"idJjeX97RK\"},{\"key\":\"Guam\",\"val\":89,\"id\":\"idmOq7F6fv\"},{\"key\":\"Guatemala\",\"val\":90,\"id\":\"idtpRMX57s\"},{\"key\":\"Guernsey\",\"val\":91,\"id\":\"idEsu5Fh83\"},{\"key\":\"Guinea\",\"val\":92,\"id\":\"id8AkT4XVM\"},{\"key\":\"Guinea-Bissau\",\"val\":93,\"id\":\"id5sAuBHqH\"},{\"key\":\"Guyana\",\"val\":94,\"id\":\"idCmhtPU8H\"},{\"key\":\"Haiti\",\"val\":95,\"id\":\"idKTt8AToS\"},{\"key\":\"Heard and Mcdonald Islands\",\"val\":96,\"id\":\"idD3YtEQAD\"},{\"key\":\"Holy See (Vatican City State)\",\"val\":97,\"id\":\"idClUO3am3\"},{\"key\":\"Honduras\",\"val\":98,\"id\":\"idRSwL5KWy\"},{\"key\":\"Hong Kong, SAR China\",\"val\":99,\"id\":\"idWziP2vU4\"},{\"key\":\"Hungary\",\"val\":100,\"id\":\"idoCWY29uT\"},{\"key\":\"Iceland\",\"val\":101,\"id\":\"id7Wg5W5Ie\"},{\"key\":\"India\",\"val\":102,\"id\":\"idZiJTSwD0\"},{\"key\":\"Indonesia\",\"val\":103,\"id\":\"iddNQXFBJf\"},{\"key\":\"Iran, Islamic Republic of\",\"val\":104,\"id\":\"iddVD0kyyX\"},{\"key\":\"Iraq\",\"val\":105,\"id\":\"idkj2Ngun8\"},{\"key\":\"Ireland\",\"val\":106,\"id\":\"idnPwjdoV3\"},{\"key\":\"Isle of Man\",\"val\":107,\"id\":\"idHRUtF2qX\"},{\"key\":\"Israel\",\"val\":108,\"id\":\"idbc1gSS3m\"},{\"key\":\"Italy\",\"val\":109,\"id\":\"idTo1rJQkF\"},{\"key\":\"Jamaica\",\"val\":110,\"id\":\"idW3wip36O\"},{\"key\":\"Japan\",\"val\":111,\"id\":\"idCk3avPNi\"},{\"key\":\"Jersey\",\"val\":112,\"id\":\"idfakY04bp\"},{\"key\":\"Jordan\",\"val\":113,\"id\":\"idLiJ2wZsD\"},{\"key\":\"Kazakhstan\",\"val\":114,\"id\":\"idTD4Bky7b\"},{\"key\":\"Kenya\",\"val\":115,\"id\":\"idHGvxNfX7\"},{\"key\":\"Kiribati\",\"val\":116,\"id\":\"idjAx3rqV5\"},{\"key\":\"Korea (North)\",\"val\":117,\"id\":\"idFkvFypPr\"},{\"key\":\"Korea (South)\",\"val\":118,\"id\":\"idLbSjwRJR\"},{\"key\":\"Kuwait\",\"val\":119,\"id\":\"idsHyKKmue\"},{\"key\":\"Kyrgyzstan\",\"val\":120,\"id\":\"idRk5LTy2j\"},{\"key\":\"Lao PDR\",\"val\":121,\"id\":\"idU7RrMlMO\"},{\"key\":\"Latvia\",\"val\":122,\"id\":\"idFSECmJD5\"},{\"key\":\"Lebanon\",\"val\":123,\"id\":\"id5GyrZpC4\"},{\"key\":\"Lesotho\",\"val\":124,\"id\":\"idDiewImsr\"},{\"key\":\"Liberia\",\"val\":125,\"id\":\"idSdeLyCWR\"},{\"key\":\"Libya\",\"val\":126,\"id\":\"id19w4Sho7\"},{\"key\":\"Liechtenstein\",\"val\":127,\"id\":\"idR6HTDWzF\"},{\"key\":\"Lithuania\",\"val\":128,\"id\":\"idNtRvrvsj\"},{\"key\":\"Luxembourg\",\"val\":129,\"id\":\"idyUOycpyR\"},{\"key\":\"Macao, SAR China\",\"val\":130,\"id\":\"idzCUD6BeZ\"},{\"key\":\"Macedonia, Republic of\",\"val\":131,\"id\":\"idWSrjydHw\"},{\"key\":\"Madagascar\",\"val\":132,\"id\":\"idxsg4pq1c\"},{\"key\":\"Malawi\",\"val\":133,\"id\":\"idlg9gjIq9\"},{\"key\":\"Malaysia\",\"val\":134,\"id\":\"id5PWaZ2DJ\"},{\"key\":\"Maldives\",\"val\":135,\"id\":\"idUCIiPLud\"},{\"key\":\"Mali\",\"val\":136,\"id\":\"idkaTnBqc5\"},{\"key\":\"Malta\",\"val\":137,\"id\":\"id5WsJVqzv\"},{\"key\":\"Marshall Islands\",\"val\":138,\"id\":\"idpggmjyv1\"},{\"key\":\"Martinique\",\"val\":139,\"id\":\"idTkuAHVrD\"},{\"key\":\"Mauritania\",\"val\":140,\"id\":\"idW998N02T\"},{\"key\":\"Mauritius\",\"val\":141,\"id\":\"idtfYSSyP4\"},{\"key\":\"Mayotte\",\"val\":142,\"id\":\"idUG92oMUN\"},{\"key\":\"Mexico\",\"val\":143,\"id\":\"id7S7KkeOe\"},{\"key\":\"Micronesia, Federated States of\",\"val\":144,\"id\":\"idSJiI4jf2\"},{\"key\":\"Moldova\",\"val\":145,\"id\":\"idzW3ZAUgA\"},{\"key\":\"Monaco\",\"val\":146,\"id\":\"idO4q4wZpy\"},{\"key\":\"Mongolia\",\"val\":147,\"id\":\"idSm7Wbdqw\"},{\"key\":\"Montenegro\",\"val\":148,\"id\":\"idjgy1GwCN\"},{\"key\":\"Montserrat\",\"val\":149,\"id\":\"idZILWM89Q\"},{\"key\":\"Morocco\",\"val\":150,\"id\":\"idsr93U2y8\"},{\"key\":\"Mozambique\",\"val\":151,\"id\":\"idRM41xgdt\"},{\"key\":\"Myanmar\",\"val\":152,\"id\":\"idrh7vsL1r\"},{\"key\":\"Namibia\",\"val\":153,\"id\":\"idYqlT8Iys\"},{\"key\":\"Nauru\",\"val\":154,\"id\":\"idAn8XxWgu\"},{\"key\":\"Nepal\",\"val\":155,\"id\":\"idTYKUR3Jz\"},{\"key\":\"Netherlands\",\"val\":156,\"id\":\"id9LqRV5cS\"},{\"key\":\"Netherlands Antilles\",\"val\":157,\"id\":\"idXKq3RDnU\"},{\"key\":\"New Caledonia\",\"val\":158,\"id\":\"idvlNnuIGY\"},{\"key\":\"New Zealand\",\"val\":159,\"id\":\"idy5nbiGHj\"},{\"key\":\"Nicaragua\",\"val\":160,\"id\":\"idL7r2caRm\"},{\"key\":\"Niger\",\"val\":161,\"id\":\"idFnhMCgao\"},{\"key\":\"Nigeria\",\"val\":162,\"id\":\"idv7eGnYbq\"},{\"key\":\"Niue\",\"val\":163,\"id\":\"id4XNCD58N\"},{\"key\":\"Norfolk Island\",\"val\":164,\"id\":\"idUo6zMug5\"},{\"key\":\"Northern Mariana Islands\",\"val\":165,\"id\":\"idknT1yR0W\"},{\"key\":\"Norway\",\"val\":166,\"id\":\"idB4KgBbER\"},{\"key\":\"Oman\",\"val\":167,\"id\":\"ida5PVdhVI\"},{\"key\":\"Pakistan\",\"val\":168,\"id\":\"idZg2kQ9Wd\"},{\"key\":\"Palau\",\"val\":169,\"id\":\"id7XUkrHrx\"},{\"key\":\"Palestinian Territory\",\"val\":170,\"id\":\"id9GshBX1Z\"},{\"key\":\"Panama\",\"val\":171,\"id\":\"idByA5bihV\"},{\"key\":\"Papua New Guinea\",\"val\":172,\"id\":\"idHnI4JhoQ\"},{\"key\":\"Paraguay\",\"val\":173,\"id\":\"idpkUYJwBq\"},{\"key\":\"Peru\",\"val\":174,\"id\":\"idnWOrWI2U\"},{\"key\":\"Philippines\",\"val\":175,\"id\":\"idQ5Kj3IYv\"},{\"key\":\"Pitcairn\",\"val\":176,\"id\":\"idEVcngalM\"},{\"key\":\"Poland\",\"val\":177,\"id\":\"id6gmjozu2\"},{\"key\":\"Portugal\",\"val\":178,\"id\":\"id7Uj4gKEN\"},{\"key\":\"Puerto Rico\",\"val\":179,\"id\":\"idcDa8PmhT\"},{\"key\":\"Qatar\",\"val\":180,\"id\":\"idK2cGoleb\"},{\"key\":\"Republic of Kosovo\",\"val\":181,\"id\":\"idKsuWkTNX\"},{\"key\":\"Romania\",\"val\":182,\"id\":\"idRQGgOlOB\"},{\"key\":\"Russian Federation\",\"val\":183,\"id\":\"idK7oAO0OS\"},{\"key\":\"Rwanda\",\"val\":184,\"id\":\"iduaqjGqIn\"},{\"key\":\"Réunion\",\"val\":185,\"id\":\"idGtp22aVR\"},{\"key\":\"Saint Helena\",\"val\":186,\"id\":\"idgrsGJbIr\"},{\"key\":\"Saint Kitts and Nevis\",\"val\":187,\"id\":\"idYWe0LZCe\"},{\"key\":\"Saint Lucia\",\"val\":188,\"id\":\"id84NZVcOo\"},{\"key\":\"Saint Pierre and Miquelon\",\"val\":189,\"id\":\"idtAPQuMzE\"},{\"key\":\"Saint Vincent and Grenadines\",\"val\":190,\"id\":\"idy3qmP9i9\"},{\"key\":\"Saint-Barthélemy\",\"val\":191,\"id\":\"id6MGgqmLV\"},{\"key\":\"Saint-Martin (French part)\",\"val\":192,\"id\":\"idh44G6wdD\"},{\"key\":\"Samoa\",\"val\":193,\"id\":\"idR1ZrtJRr\"},{\"key\":\"San Marino\",\"val\":194,\"id\":\"id4VxyXI0b\"},{\"key\":\"Sao Tome and Principe\",\"val\":195,\"id\":\"idgK1Rlxbq\"},{\"key\":\"Saudi Arabia\",\"val\":196,\"id\":\"idlAcgM3dt\"},{\"key\":\"Senegal\",\"val\":197,\"id\":\"idUOUYtCcl\"},{\"key\":\"Serbia\",\"val\":198,\"id\":\"idKLE2Stoq\"},{\"key\":\"Seychelles\",\"val\":199,\"id\":\"idvoqpz9w2\"},{\"key\":\"Sierra Leone\",\"val\":200,\"id\":\"idCdufkzjd\"},{\"key\":\"Singapore\",\"val\":201,\"id\":\"idThRxvWhR\"},{\"key\":\"Slovakia\",\"val\":202,\"id\":\"idBGmqH7az\"},{\"key\":\"Slovenia\",\"val\":203,\"id\":\"id3ezhh4gk\"},{\"key\":\"Solomon Islands\",\"val\":204,\"id\":\"idTc01Ps1v\"},{\"key\":\"Somalia\",\"val\":205,\"id\":\"idQ52T3bPC\"},{\"key\":\"South Africa\",\"val\":206,\"id\":\"idMfM6IQKq\"},{\"key\":\"South Georgia and the South Sandwich Islands\",\"val\":207,\"id\":\"idda3ywc6E\"},{\"key\":\"South Sudan\",\"val\":208,\"id\":\"idV5sCeJos\"},{\"key\":\"Spain\",\"val\":209,\"id\":\"idzux3ee38\"},{\"key\":\"Sri Lanka\",\"val\":210,\"id\":\"idLCXi0pOA\"},{\"key\":\"Sudan\",\"val\":211,\"id\":\"idpRfMmELD\"},{\"key\":\"Suriname\",\"val\":212,\"id\":\"idiif0bB8K\"},{\"key\":\"Svalbard and Jan Mayen Islands\",\"val\":213,\"id\":\"idPabXidNa\"},{\"key\":\"Swaziland\",\"val\":214,\"id\":\"idDgCxYIvl\"},{\"key\":\"Sweden\",\"val\":215,\"id\":\"idM5ovu8VR\"},{\"key\":\"Switzerland\",\"val\":216,\"id\":\"idJ04pCQGt\"},{\"key\":\"Syrian Arab Republic (Syria)\",\"val\":217,\"id\":\"id9Nksvh8t\"},{\"key\":\"Taiwan, Republic of China\",\"val\":218,\"id\":\"idhO3ijuoX\"},{\"key\":\"Tajikistan\",\"val\":219,\"id\":\"id8NHdMdcs\"},{\"key\":\"Tanzania, United Republic of\",\"val\":220,\"id\":\"id1rAIsJ9W\"},{\"key\":\"Thailand\",\"val\":221,\"id\":\"idVdLPOOSJ\"},{\"key\":\"Timor-Leste\",\"val\":222,\"id\":\"idxeIOwxrO\"},{\"key\":\"Togo\",\"val\":223,\"id\":\"idS3YJHD3M\"},{\"key\":\"Tokelau\",\"val\":224,\"id\":\"idmsC5SWCy\"},{\"key\":\"Tonga\",\"val\":225,\"id\":\"iddEkzoliV\"},{\"key\":\"Trinidad and Tobago\",\"val\":226,\"id\":\"idO4f4YQQr\"},{\"key\":\"Tunisia\",\"val\":227,\"id\":\"idOWaJNQEQ\"},{\"key\":\"Turkey\",\"val\":228,\"id\":\"idkVGRWkvx\"},{\"key\":\"Turkmenistan\",\"val\":229,\"id\":\"id96xv9hf6\"},{\"key\":\"Turks and Caicos Islands\",\"val\":230,\"id\":\"idfkQtXB1N\"},{\"key\":\"Tuvalu\",\"val\":231,\"id\":\"idM4oJSfIV\"},{\"key\":\"US Minor Outlying Islands\",\"val\":232,\"id\":\"id3p3aVlWc\"},{\"key\":\"Uganda\",\"val\":233,\"id\":\"idxfvJ5BLi\"},{\"key\":\"Ukraine\",\"val\":234,\"id\":\"idMQXFZxjB\"},{\"key\":\"United Arab Emirates\",\"val\":235,\"id\":\"idXT6h04Uo\"},{\"key\":\"United Kingdom\",\"val\":236,\"id\":\"id47Q2UAT6\"},{\"key\":\"United States of America\",\"val\":237,\"id\":\"idWUkx11dA\"},{\"key\":\"Uruguay\",\"val\":238,\"id\":\"id8FjHsj5i\"},{\"key\":\"Uzbekistan\",\"val\":239,\"id\":\"idUiznVphe\"},{\"key\":\"Vanuatu\",\"val\":240,\"id\":\"id0b31a1Bo\"},{\"key\":\"Venezuela (Bolivarian Republic)\",\"val\":241,\"id\":\"idJ9HsnMul\"},{\"key\":\"Viet Nam\",\"val\":242,\"id\":\"id4yAwvLqz\"},{\"key\":\"Virgin Islands, US\",\"val\":243,\"id\":\"idW0Ki27mA\"},{\"key\":\"Wallis and Futuna Islands\",\"val\":244,\"id\":\"idOypswu2z\"},{\"key\":\"Western Sahara\",\"val\":245,\"id\":\"idBL6JAFbS\"},{\"key\":\"Yemen\",\"val\":246,\"id\":\"idOYbFvvYo\"},{\"key\":\"Zambia\",\"val\":247,\"id\":\"idIrlwzMeX\"},{\"key\":\"Zimbabwe\",\"val\":248,\"id\":\"idmlRXEewV\"}]},\"index\":{\"sync\":true,\"id\":\"ob_26\",\"value\":[]}}},\"children\":[{\"props\":{\"attributes\":{\"data-bind\":\"foreach : options_js\"},\"className\":\"field\"},\"nodeType\":\"DOM\",\"type\":\"node\",\"instanceArgs\":{\"namespace\":\"html\",\"tag\":\"div\"},\"children\":[{\"props\":{\"className\":\"field\"},\"nodeType\":\"DOM\",\"type\":\"node\",\"instanceArgs\":{\"namespace\":\"html\",\"tag\":\"div\"},\"children\":[{\"props\":{\"attributes\":{\"name\":\"##409\",\"type\":\"checkbox\",\"data-bind\":\"checked : $root.index, checkedValue: val, attr : {id : id}\"},\"className\":\"is-checkradio \"},\"nodeType\":\"DOM\",\"type\":\"node\",\"instanceArgs\":{\"namespace\":\"html\",\"tag\":\"input\"},\"children\":[]},{\"props\":{\"attributes\":{\"data-bind\":\"text : key, attr : {for : id}\"}},\"nodeType\":\"DOM\",\"type\":\"node\",\"instanceArgs\":{\"namespace\":\"html\",\"tag\":\"label\"},\"children\":[]}]}]}]}]},{\"props\":{},\"nodeType\":\"Scope\",\"type\":\"node\",\"instanceArgs\":{\"imports\":{\"data\":[],\"type\":\"async_block\"},\"id\":\"14421182212577375836\",\"handlers\":{},\"systemjs_options\":null,\"mount_callbacks\":[],\"observables\":{\"obs-node\":{\"sync\":false,\"id\":\"ob_31\",\"value\":{\"props\":{\"className\":\"interact-flex-row interact-widget\"},\"nodeType\":\"DOM\",\"type\":\"node\",\"instanceArgs\":{\"namespace\":\"html\",\"tag\":\"div\"},\"children\":[{\"props\":{\"setInnerHtml\":\"<?xml version=\\\"1.0\\\" encoding=\\\"utf-8\\\"?>\\n<svg xmlns=\\\"http:\\/\\/www.w3.org\\/2000\\/svg\\\" xmlns:xlink=\\\"http:\\/\\/www.w3.org\\/1999\\/xlink\\\" width=\\\"600\\\" height=\\\"400\\\" viewBox=\\\"0 0 2400 1600\\\">\\n<defs>\\n  <clipPath id=\\\"clip1300\\\">\\n    <rect x=\\\"0\\\" y=\\\"0\\\" width=\\\"2400\\\" height=\\\"1600\\\"\\/>\\n  <\\/clipPath>\\n<\\/defs>\\n<path clip-path=\\\"url(#clip1300)\\\" d=\\\"\\nM0 1600 L2400 1600 L2400 0 L0 0  Z\\n  \\\" fill=\\\"#ffffff\\\" fill-rule=\\\"evenodd\\\" fill-opacity=\\\"1\\\"\\/>\\n<defs>\\n  <clipPath id=\\\"clip1301\\\">\\n    <rect x=\\\"480\\\" y=\\\"0\\\" width=\\\"1681\\\" height=\\\"1600\\\"\\/>\\n  <\\/clipPath>\\n<\\/defs>\\n<path clip-path=\\\"url(#clip1300)\\\" d=\\\"\\nM153.898 1487.47 L2352.76 1487.47 L2352.76 47.2441 L153.898 47.2441  Z\\n  \\\" fill=\\\"#ffffff\\\" fill-rule=\\\"evenodd\\\" fill-opacity=\\\"1\\\"\\/>\\n<defs>\\n  <clipPath id=\\\"clip1302\\\">\\n    <rect x=\\\"153\\\" y=\\\"47\\\" width=\\\"2200\\\" height=\\\"1441\\\"\\/>\\n  <\\/clipPath>\\n<\\/defs>\\n<polyline clip-path=\\\"url(#clip1302)\\\" style=\\\"stroke:#000000; stroke-width:2; stroke-opacity:0.1; fill:none\\\" points=\\\"\\n  153.898,1487.47 153.898,47.2441 \\n  \\\"\\/>\\n<polyline clip-path=\\\"url(#clip1302)\\\" style=\\\"stroke:#000000; stroke-width:2; stroke-opacity:0.1; fill:none\\\" points=\\\"\\n  593.67,1487.47 593.67,47.2441 \\n  \\\"\\/>\\n<polyline clip-path=\\\"url(#clip1302)\\\" style=\\\"stroke:#000000; stroke-width:2; stroke-opacity:0.1; fill:none\\\" points=\\\"\\n  1033.44,1487.47 1033.44,47.2441 \\n  \\\"\\/>\\n<polyline clip-path=\\\"url(#clip1302)\\\" style=\\\"stroke:#000000; stroke-width:2; stroke-opacity:0.1; fill:none\\\" points=\\\"\\n  1473.21,1487.47 1473.21,47.2441 \\n  \\\"\\/>\\n<polyline clip-path=\\\"url(#clip1302)\\\" style=\\\"stroke:#000000; stroke-width:2; stroke-opacity:0.1; fill:none\\\" points=\\\"\\n  1912.98,1487.47 1912.98,47.2441 \\n  \\\"\\/>\\n<polyline clip-path=\\\"url(#clip1302)\\\" style=\\\"stroke:#000000; stroke-width:2; stroke-opacity:0.1; fill:none\\\" points=\\\"\\n  2352.76,1487.47 2352.76,47.2441 \\n  \\\"\\/>\\n<polyline clip-path=\\\"url(#clip1302)\\\" style=\\\"stroke:#000000; stroke-width:2; stroke-opacity:0.1; fill:none\\\" points=\\\"\\n  153.898,1487.47 2352.76,1487.47 \\n  \\\"\\/>\\n<polyline clip-path=\\\"url(#clip1302)\\\" style=\\\"stroke:#000000; stroke-width:2; stroke-opacity:0.1; fill:none\\\" points=\\\"\\n  153.898,1199.43 2352.76,1199.43 \\n  \\\"\\/>\\n<polyline clip-path=\\\"url(#clip1302)\\\" style=\\\"stroke:#000000; stroke-width:2; stroke-opacity:0.1; fill:none\\\" points=\\\"\\n  153.898,911.382 2352.76,911.382 \\n  \\\"\\/>\\n<polyline clip-path=\\\"url(#clip1302)\\\" style=\\\"stroke:#000000; stroke-width:2; stroke-opacity:0.1; fill:none\\\" points=\\\"\\n  153.898,623.336 2352.76,623.336 \\n  \\\"\\/>\\n<polyline clip-path=\\\"url(#clip1302)\\\" style=\\\"stroke:#000000; stroke-width:2; stroke-opacity:0.1; fill:none\\\" points=\\\"\\n  153.898,335.29 2352.76,335.29 \\n  \\\"\\/>\\n<polyline clip-path=\\\"url(#clip1302)\\\" style=\\\"stroke:#000000; stroke-width:2; stroke-opacity:0.1; fill:none\\\" points=\\\"\\n  153.898,47.2441 2352.76,47.2441 \\n  \\\"\\/>\\n<polyline clip-path=\\\"url(#clip1300)\\\" style=\\\"stroke:#000000; stroke-width:4; stroke-opacity:1; fill:none\\\" points=\\\"\\n  153.898,1487.47 2352.76,1487.47 \\n  \\\"\\/>\\n<polyline clip-path=\\\"url(#clip1300)\\\" style=\\\"stroke:#000000; stroke-width:4; stroke-opacity:1; fill:none\\\" points=\\\"\\n  153.898,1487.47 153.898,47.2441 \\n  \\\"\\/>\\n<polyline clip-path=\\\"url(#clip1300)\\\" style=\\\"stroke:#000000; stroke-width:4; stroke-opacity:1; fill:none\\\" points=\\\"\\n  153.898,1487.47 153.898,1470.19 \\n  \\\"\\/>\\n<polyline clip-path=\\\"url(#clip1300)\\\" style=\\\"stroke:#000000; stroke-width:4; stroke-opacity:1; fill:none\\\" points=\\\"\\n  593.67,1487.47 593.67,1470.19 \\n  \\\"\\/>\\n<polyline clip-path=\\\"url(#clip1300)\\\" style=\\\"stroke:#000000; stroke-width:4; stroke-opacity:1; fill:none\\\" points=\\\"\\n  1033.44,1487.47 1033.44,1470.19 \\n  \\\"\\/>\\n<polyline clip-path=\\\"url(#clip1300)\\\" style=\\\"stroke:#000000; stroke-width:4; stroke-opacity:1; fill:none\\\" points=\\\"\\n  1473.21,1487.47 1473.21,1470.19 \\n  \\\"\\/>\\n<polyline clip-path=\\\"url(#clip1300)\\\" style=\\\"stroke:#000000; stroke-width:4; stroke-opacity:1; fill:none\\\" points=\\\"\\n  1912.98,1487.47 1912.98,1470.19 \\n  \\\"\\/>\\n<polyline clip-path=\\\"url(#clip1300)\\\" style=\\\"stroke:#000000; stroke-width:4; stroke-opacity:1; fill:none\\\" points=\\\"\\n  2352.76,1487.47 2352.76,1470.19 \\n  \\\"\\/>\\n<polyline clip-path=\\\"url(#clip1300)\\\" style=\\\"stroke:#000000; stroke-width:4; stroke-opacity:1; fill:none\\\" points=\\\"\\n  153.898,1487.47 180.284,1487.47 \\n  \\\"\\/>\\n<polyline clip-path=\\\"url(#clip1300)\\\" style=\\\"stroke:#000000; stroke-width:4; stroke-opacity:1; fill:none\\\" points=\\\"\\n  153.898,1199.43 180.284,1199.43 \\n  \\\"\\/>\\n<polyline clip-path=\\\"url(#clip1300)\\\" style=\\\"stroke:#000000; stroke-width:4; stroke-opacity:1; fill:none\\\" points=\\\"\\n  153.898,911.382 180.284,911.382 \\n  \\\"\\/>\\n<polyline clip-path=\\\"url(#clip1300)\\\" style=\\\"stroke:#000000; stroke-width:4; stroke-opacity:1; fill:none\\\" points=\\\"\\n  153.898,623.336 180.284,623.336 \\n  \\\"\\/>\\n<polyline clip-path=\\\"url(#clip1300)\\\" style=\\\"stroke:#000000; stroke-width:4; stroke-opacity:1; fill:none\\\" points=\\\"\\n  153.898,335.29 180.284,335.29 \\n  \\\"\\/>\\n<polyline clip-path=\\\"url(#clip1300)\\\" style=\\\"stroke:#000000; stroke-width:4; stroke-opacity:1; fill:none\\\" points=\\\"\\n  153.898,47.2441 180.284,47.2441 \\n  \\\"\\/>\\n<g clip-path=\\\"url(#clip1300)\\\">\\n<text style=\\\"fill:#000000; fill-opacity:1; font-family:Arial,Helvetica Neue,Helvetica,sans-serif; font-size:48px; text-anchor:middle;\\\" transform=\\\"rotate(0, 153.898, 1541.47)\\\" x=\\\"153.898\\\" y=\\\"1541.47\\\">0.0<\\/text>\\n<\\/g>\\n<g clip-path=\\\"url(#clip1300)\\\">\\n<text style=\\\"fill:#000000; fill-opacity:1; font-family:Arial,Helvetica Neue,Helvetica,sans-serif; font-size:48px; text-anchor:middle;\\\" transform=\\\"rotate(0, 593.67, 1541.47)\\\" x=\\\"593.67\\\" y=\\\"1541.47\\\">0.2<\\/text>\\n<\\/g>\\n<g clip-path=\\\"url(#clip1300)\\\">\\n<text style=\\\"fill:#000000; fill-opacity:1; font-family:Arial,Helvetica Neue,Helvetica,sans-serif; font-size:48px; text-anchor:middle;\\\" transform=\\\"rotate(0, 1033.44, 1541.47)\\\" x=\\\"1033.44\\\" y=\\\"1541.47\\\">0.4<\\/text>\\n<\\/g>\\n<g clip-path=\\\"url(#clip1300)\\\">\\n<text style=\\\"fill:#000000; fill-opacity:1; font-family:Arial,Helvetica Neue,Helvetica,sans-serif; font-size:48px; text-anchor:middle;\\\" transform=\\\"rotate(0, 1473.21, 1541.47)\\\" x=\\\"1473.21\\\" y=\\\"1541.47\\\">0.6<\\/text>\\n<\\/g>\\n<g clip-path=\\\"url(#clip1300)\\\">\\n<text style=\\\"fill:#000000; fill-opacity:1; font-family:Arial,Helvetica Neue,Helvetica,sans-serif; font-size:48px; text-anchor:middle;\\\" transform=\\\"rotate(0, 1912.98, 1541.47)\\\" x=\\\"1912.98\\\" y=\\\"1541.47\\\">0.8<\\/text>\\n<\\/g>\\n<g clip-path=\\\"url(#clip1300)\\\">\\n<text style=\\\"fill:#000000; fill-opacity:1; font-family:Arial,Helvetica Neue,Helvetica,sans-serif; font-size:48px; text-anchor:middle;\\\" transform=\\\"rotate(0, 2352.76, 1541.47)\\\" x=\\\"2352.76\\\" y=\\\"1541.47\\\">1.0<\\/text>\\n<\\/g>\\n<g clip-path=\\\"url(#clip1300)\\\">\\n<text style=\\\"fill:#000000; fill-opacity:1; font-family:Arial,Helvetica Neue,Helvetica,sans-serif; font-size:48px; text-anchor:end;\\\" transform=\\\"rotate(0, 129.898, 1504.97)\\\" x=\\\"129.898\\\" y=\\\"1504.97\\\">0.0<\\/text>\\n<\\/g>\\n<g clip-path=\\\"url(#clip1300)\\\">\\n<text style=\\\"fill:#000000; fill-opacity:1; font-family:Arial,Helvetica Neue,Helvetica,sans-serif; font-size:48px; text-anchor:end;\\\" transform=\\\"rotate(0, 129.898, 1216.93)\\\" x=\\\"129.898\\\" y=\\\"1216.93\\\">0.2<\\/text>\\n<\\/g>\\n<g clip-path=\\\"url(#clip1300)\\\">\\n<text style=\\\"fill:#000000; fill-opacity:1; font-family:Arial,Helvetica Neue,Helvetica,sans-serif; font-size:48px; text-anchor:end;\\\" transform=\\\"rotate(0, 129.898, 928.882)\\\" x=\\\"129.898\\\" y=\\\"928.882\\\">0.4<\\/text>\\n<\\/g>\\n<g clip-path=\\\"url(#clip1300)\\\">\\n<text style=\\\"fill:#000000; fill-opacity:1; font-family:Arial,Helvetica Neue,Helvetica,sans-serif; font-size:48px; text-anchor:end;\\\" transform=\\\"rotate(0, 129.898, 640.836)\\\" x=\\\"129.898\\\" y=\\\"640.836\\\">0.6<\\/text>\\n<\\/g>\\n<g clip-path=\\\"url(#clip1300)\\\">\\n<text style=\\\"fill:#000000; fill-opacity:1; font-family:Arial,Helvetica Neue,Helvetica,sans-serif; font-size:48px; text-anchor:end;\\\" transform=\\\"rotate(0, 129.898, 352.79)\\\" x=\\\"129.898\\\" y=\\\"352.79\\\">0.8<\\/text>\\n<\\/g>\\n<g clip-path=\\\"url(#clip1300)\\\">\\n<text style=\\\"fill:#000000; fill-opacity:1; font-family:Arial,Helvetica Neue,Helvetica,sans-serif; font-size:48px; text-anchor:end;\\\" transform=\\\"rotate(0, 129.898, 64.7441)\\\" x=\\\"129.898\\\" y=\\\"64.7441\\\">1.0<\\/text>\\n<\\/g>\\n<\\/svg>\\n\"},\"nodeType\":\"DOM\",\"type\":\"node\",\"instanceArgs\":{\"namespace\":\"html\",\"tag\":\"div\"},\"children\":[]}]}}}},\"children\":[{\"props\":{},\"nodeType\":\"ObservableNode\",\"type\":\"node\",\"instanceArgs\":{\"id\":\"ob_31\",\"name\":\"obs-node\"},\"children\":[]}]}]},\n",
       "            window,\n",
       "        );\n",
       "    } else {\n",
       "        document\n",
       "            .querySelector('[data-webio-mountpoint=\"752661011033367581\"]')\n",
       "            .innerHTML = (\n",
       "                '<div style=\"padding: 1em; background-color: #f8d6da; border: 1px solid #f5c6cb\">' +\n",
       "                '<p><strong>WebIO not detected.</strong></p>' +\n",
       "                '<p>Please read ' +\n",
       "                '<a href=\"https://juliagizmos.github.io/WebIO.jl/latest/troubleshooting/not-detected/\" target=\"_blank\">the troubleshooting guide</a> ' +\n",
       "                'for more information on how to resolve this issue.</p>' +\n",
       "                '<p><a href=\"https://juliagizmos.github.io/WebIO.jl/latest/troubleshooting/not-detected/\" target=\"_blank\">https://juliagizmos.github.io/WebIO.jl/latest/troubleshooting/not-detected/</a></p>' +\n",
       "                '</div>'\n",
       "            );\n",
       "    }\n",
       "    </script>\n",
       "</div>\n"
      ],
      "text/plain": [
       "Node{WebIO.DOM}(WebIO.DOM(:html, :div), Any[Node{WebIO.DOM}(WebIO.DOM(:html, :div), Any[Scope(Node{WebIO.DOM}(WebIO.DOM(:html, :div), Any[Node{WebIO.DOM}(WebIO.DOM(:html, :div), Any[Node{WebIO.DOM}(WebIO.DOM(:html, :input), Any[], Dict{Symbol,Any}(:attributes => Dict{String,Any}(\"name\" => Symbol(\"##409\"),\"type\" => \"checkbox\",\"data-bind\" => \"checked : \\$root.index, checkedValue: val, attr : {id : id}\"),:className => \"is-checkradio \")), Node{WebIO.DOM}(WebIO.DOM(:html, :label), Any[], Dict{Symbol,Any}(:attributes => Dict(\"data-bind\" => \"text : key, attr : {for : id}\")))], Dict{Symbol,Any}(:className => \"field\"))], Dict{Symbol,Any}(:attributes => Dict(\"data-bind\" => \"foreach : options_js\"),:className => :field)), Dict{String,Tuple{Observables.AbstractObservable,Union{Nothing, Bool}}}(\"options_js\" => (Observable{Any} with 1 listeners. Value:\n",
       "OrderedDict[OrderedDict{String,Any}(\"key\" => \"ALA Aland Islands\",\"val\" => 1,\"id\" => \"idj7JCTrlB\"), OrderedDict{String,Any}(\"key\" => \"Afghanistan\",\"val\" => 2,\"id\" => \"idNcLwDtji\"), OrderedDict{String,Any}(\"key\" => \"Albania\",\"val\" => 3,\"id\" => \"id8RWOoGLR\"), OrderedDict{String,Any}(\"key\" => \"Algeria\",\"val\" => 4,\"id\" => \"idez3yCUvE\"), OrderedDict{String,Any}(\"key\" => \"American Samoa\",\"val\" => 5,\"id\" => \"idWFce8nuP\"), OrderedDict{String,Any}(\"key\" => \"Andorra\",\"val\" => 6,\"id\" => \"idg5YWzDA1\"), OrderedDict{String,Any}(\"key\" => \"Angola\",\"val\" => 7,\"id\" => \"idFQ73QbyG\"), OrderedDict{String,Any}(\"key\" => \"Anguilla\",\"val\" => 8,\"id\" => \"idw1nEaaRc\"), OrderedDict{String,Any}(\"key\" => \"Antarctica\",\"val\" => 9,\"id\" => \"idek4JjM9O\"), OrderedDict{String,Any}(\"key\" => \"Antigua and Barbuda\",\"val\" => 10,\"id\" => \"idKMs3SxKr\")  …  OrderedDict{String,Any}(\"key\" => \"Uzbekistan\",\"val\" => 239,\"id\" => \"idUiznVphe\"), OrderedDict{String,Any}(\"key\" => \"Vanuatu\",\"val\" => 240,\"id\" => \"id0b31a1Bo\"), OrderedDict{String,Any}(\"key\" => \"Venezuela (Bolivarian Republic)\",\"val\" => 241,\"id\" => \"idJ9HsnMul\"), OrderedDict{String,Any}(\"key\" => \"Viet Nam\",\"val\" => 242,\"id\" => \"id4yAwvLqz\"), OrderedDict{String,Any}(\"key\" => \"Virgin Islands, US\",\"val\" => 243,\"id\" => \"idW0Ki27mA\"), OrderedDict{String,Any}(\"key\" => \"Wallis and Futuna Islands\",\"val\" => 244,\"id\" => \"idOypswu2z\"), OrderedDict{String,Any}(\"key\" => \"Western Sahara\",\"val\" => 245,\"id\" => \"idBL6JAFbS\"), OrderedDict{String,Any}(\"key\" => \"Yemen\",\"val\" => 246,\"id\" => \"idOYbFvvYo\"), OrderedDict{String,Any}(\"key\" => \"Zambia\",\"val\" => 247,\"id\" => \"idIrlwzMeX\"), OrderedDict{String,Any}(\"key\" => \"Zimbabwe\",\"val\" => 248,\"id\" => \"idmlRXEewV\")], nothing),\"index\" => (Observable{Any} with 2 listeners. Value:\n",
       "Int64[], nothing)), Set(String[]), nothing, Asset[Asset(\"js\", \"knockout\", \"C:\\\\Users\\\\joaqu\\\\.julia\\\\packages\\\\Knockout\\\\IP1uR\\\\src\\\\..\\\\assets\\\\knockout.js\"), Asset(\"js\", \"knockout_punches\", \"C:\\\\Users\\\\joaqu\\\\.julia\\\\packages\\\\Knockout\\\\IP1uR\\\\src\\\\..\\\\assets\\\\knockout_punches.js\"), Asset(\"js\", nothing, \"C:\\\\Users\\\\joaqu\\\\.julia\\\\packages\\\\InteractBase\\\\9mFwe\\\\src\\\\..\\\\assets\\\\all.js\"), Asset(\"css\", nothing, \"C:\\\\Users\\\\joaqu\\\\.julia\\\\packages\\\\InteractBase\\\\9mFwe\\\\src\\\\..\\\\assets\\\\style.css\"), Asset(\"css\", nothing, \"C:\\\\Users\\\\joaqu\\\\.julia\\\\packages\\\\Interact\\\\SbgIk\\\\src\\\\..\\\\assets\\\\bulma_confined.min.css\")], Dict{Any,Any}(\"options_js\" => Any[WebIO.JSString(\"(function (val){return (val!=this.model[\\\"options_js\\\"]()) ? (this.valueFromJulia[\\\"options_js\\\"]=true, this.model[\\\"options_js\\\"](val)) : undefined})\")],\"index\" => Any[WebIO.JSString(\"(function (val){return (val!=this.model[\\\"index\\\"]()) ? (this.valueFromJulia[\\\"index\\\"]=true, this.model[\\\"index\\\"](val)) : undefined})\")]), WebIO.ConnectionPool(Channel{Any}(sz_max:32,sz_curr:0), Set(AbstractConnection[]), Base.GenericCondition{Base.AlwaysLockedST}(Base.InvasiveLinkedList{Task}(Task (runnable) @0x00000000225a70f0, Task (runnable) @0x00000000225a70f0), Base.AlwaysLockedST(1))), WebIO.JSString[WebIO.JSString(\"function () {\\n    var handler = (function (ko, koPunches) {\\n    ko.punches.enableAll();\\n    ko.bindingHandlers.numericValue = {\\n        init: function(element, valueAccessor, allBindings, data, context) {\\n            var stringified = ko.observable(ko.unwrap(valueAccessor()));\\n            stringified.subscribe(function(value) {\\n                var val = parseFloat(value);\\n                if (!isNaN(val)) {\\n                    valueAccessor()(val);\\n                }\\n            });\\n            valueAccessor().subscribe(function(value) {\\n                var str = JSON.stringify(value);\\n                if ((str == \\\"0\\\") && ([\\\"-0\\\", \\\"-0.\\\"].indexOf(stringified()) >= 0))\\n                     return;\\n                 if ([\\\"null\\\", \\\"\\\"].indexOf(str) >= 0)\\n                     return;\\n                stringified(str);\\n            });\\n            ko.applyBindingsToNode(\\n                element,\\n                {\\n                    value: stringified,\\n                    valueUpdate: allBindings.get('valueUpdate'),\\n                },\\n                context,\\n            );\\n        }\\n    };\\n    var json_data = {\\\"options_js\\\":WebIO.getval({\\\"name\\\":\\\"options_js\\\",\\\"scope\\\":\\\"2715867727360918467\\\",\\\"id\\\":\\\"ob_27\\\",\\\"type\\\":\\\"observable\\\"}),\\\"index\\\":WebIO.getval({\\\"name\\\":\\\"index\\\",\\\"scope\\\":\\\"2715867727360918467\\\",\\\"id\\\":\\\"ob_26\\\",\\\"type\\\":\\\"observable\\\"})};\\n    var self = this;\\n    function AppViewModel() {\\n        for (var key in json_data) {\\n            var el = json_data[key];\\n            this[key] = Array.isArray(el) ? ko.observableArray(el) : ko.observable(el);\\n        }\\n        \\n        \\n        [this[\\\"options_js\\\"].subscribe((function (val){!(this.valueFromJulia[\\\"options_js\\\"]) ? (WebIO.setval({\\\"name\\\":\\\"options_js\\\",\\\"scope\\\":\\\"2715867727360918467\\\",\\\"id\\\":\\\"ob_27\\\",\\\"type\\\":\\\"observable\\\"},val)) : undefined; return this.valueFromJulia[\\\"options_js\\\"]=false}),self),this[\\\"index\\\"].subscribe((function (val){!(this.valueFromJulia[\\\"index\\\"]) ? (WebIO.setval({\\\"name\\\":\\\"index\\\",\\\"scope\\\":\\\"2715867727360918467\\\",\\\"id\\\":\\\"ob_26\\\",\\\"type\\\":\\\"observable\\\"},val)) : undefined; return this.valueFromJulia[\\\"index\\\"]=false}),self)]\\n        \\n    }\\n    self.model = new AppViewModel();\\n    self.valueFromJulia = {};\\n    for (var key in json_data) {\\n        self.valueFromJulia[key] = false;\\n    }\\n    ko.applyBindings(self.model, self.dom);\\n}\\n);\\n    (WebIO.importBlock({\\\"data\\\":[{\\\"name\\\":\\\"knockout\\\",\\\"type\\\":\\\"js\\\",\\\"url\\\":\\\"/assetserver/938acb354ca4815fdbf66c3905eb221d0c578a85-knockout.js\\\"},{\\\"name\\\":\\\"knockout_punches\\\",\\\"type\\\":\\\"js\\\",\\\"url\\\":\\\"/assetserver/bb26f5035fc3d7a1bf0d38a7937f5dc87587e934-knockout_punches.js\\\"}],\\\"type\\\":\\\"async_block\\\"})).then((imports) => handler.apply(this, imports));\\n}\\n\")])], Dict{Symbol,Any}(:className => \"field interact-widget\")), Observable{Any} with 0 listeners. Value:\n",
       "Node{WebIO.DOM}(WebIO.DOM(:html, :div), Any[Plot{Plots.GRBackend() n=0}], Dict{Symbol,Any}(:className => \"interact-flex-row interact-widget\"))], Dict{Symbol,Any}())"
      ]
     },
     "execution_count": 5,
     "metadata": {
      "@webio": {
       "kernelId": "300a3940-f2d5-4fe0-bfd4-cc3d34f539bc"
      }
     },
     "output_type": "execute_result"
    }
   ],
   "source": [
    "@manipulate for paises = checkboxes(slugs)\n",
    "    p = plot()\n",
    "    for pais in paises\n",
    "        m = recuperados(pais)\n",
    "        plot!(m.Date, m.Cases, label=pais)\n",
    "    end\n",
    "    p\n",
    "end"
   ]
  },
  {
   "cell_type": "code",
   "execution_count": null,
   "metadata": {},
   "outputs": [],
   "source": []
  }
 ],
 "metadata": {
  "@webio": {
   "lastCommId": "08154ec7-39b6-4d6e-95c9-ff795abf07b3",
   "lastKernelId": "300a3940-f2d5-4fe0-bfd4-cc3d34f539bc"
  },
  "kernelspec": {
   "display_name": "Julia 1.3.0",
   "language": "julia",
   "name": "julia-1.3"
  },
  "language_info": {
   "file_extension": ".jl",
   "mimetype": "application/julia",
   "name": "julia",
   "version": "1.3.0"
  }
 },
 "nbformat": 4,
 "nbformat_minor": 4
}
